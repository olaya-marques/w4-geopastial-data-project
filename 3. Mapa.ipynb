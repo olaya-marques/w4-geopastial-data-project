{
 "cells": [
  {
   "cell_type": "markdown",
   "id": "9ef90dec",
   "metadata": {},
   "source": [
    "# Visualización del mapa 🗺️"
   ]
  },
  {
   "cell_type": "markdown",
   "id": "5477bd87",
   "metadata": {},
   "source": [
    "En este jupyter notebook se encuentra todo el proceso de visualización del mapa tras el estudio de las variables y coordenadas **para la empresa Livestream**."
   ]
  },
  {
   "cell_type": "markdown",
   "id": "c2e634e6",
   "metadata": {},
   "source": [
    "## Índice 📎"
   ]
  },
  {
   "cell_type": "markdown",
   "id": "ad49f3ab",
   "metadata": {},
   "source": [
    "1. Importación de librerias y funciones\n",
    "2. Coordenadas de Nueva York\n",
    "3. Ubicaciones de las variables\n",
    "4. Representación\n",
    "5. Mapa final"
   ]
  },
  {
   "cell_type": "markdown",
   "id": "a058593f",
   "metadata": {},
   "source": [
    "## 1. Importación de librerías y funciones 📚"
   ]
  },
  {
   "cell_type": "code",
   "execution_count": 1,
   "id": "0b8e07fd",
   "metadata": {},
   "outputs": [],
   "source": [
    "import folium\n",
    "from folium import Choropleth, Circle, Marker, Icon, Map"
   ]
  },
  {
   "cell_type": "markdown",
   "id": "1d2594df",
   "metadata": {},
   "source": [
    "## 2. Coordenadas de Nueva York 🗽"
   ]
  },
  {
   "cell_type": "markdown",
   "id": "8e67a7e6",
   "metadata": {},
   "source": [
    "Las coordenadas de Nueva York obtenidas en el jupyter notebook anterior gracias a geocode son:"
   ]
  },
  {
   "cell_type": "code",
   "execution_count": 2,
   "id": "c18e7e11",
   "metadata": {},
   "outputs": [],
   "source": [
    "ny_lat = 40.7724386956522"
   ]
  },
  {
   "cell_type": "code",
   "execution_count": 3,
   "id": "84ac5b60",
   "metadata": {},
   "outputs": [],
   "source": [
    "ny_lon = -73.95861"
   ]
  },
  {
   "cell_type": "markdown",
   "id": "dff880d4",
   "metadata": {},
   "source": [
    "Creamos el mapa:"
   ]
  },
  {
   "cell_type": "code",
   "execution_count": 4,
   "id": "bfed40d4",
   "metadata": {},
   "outputs": [],
   "source": [
    "mapa = folium.Map(location = [ny_lat, ny_lon], zoom_start = 15)\n",
    "#mapa"
   ]
  },
  {
   "cell_type": "markdown",
   "id": "cbb84d15",
   "metadata": {},
   "source": [
    "## 3. Ubicaciones de las variables 📍"
   ]
  },
  {
   "cell_type": "markdown",
   "id": "402fe05f",
   "metadata": {},
   "source": [
    "- Oficinas Livestream "
   ]
  },
  {
   "cell_type": "code",
   "execution_count": 5,
   "id": "3a1d22d3",
   "metadata": {},
   "outputs": [],
   "source": [
    "of_lat = 40.726155\n",
    "of_lon = -73.995625"
   ]
  },
  {
   "cell_type": "markdown",
   "id": "06c8efbb",
   "metadata": {},
   "source": [
    "- Aeropuerto"
   ]
  },
  {
   "cell_type": "code",
   "execution_count": 6,
   "id": "ea467359",
   "metadata": {},
   "outputs": [],
   "source": [
    "air_lat = 40.69371727\n",
    "air_lon = -73.96025"
   ]
  },
  {
   "cell_type": "markdown",
   "id": "ba179198",
   "metadata": {},
   "source": [
    "- Discotecas"
   ]
  },
  {
   "cell_type": "code",
   "execution_count": 7,
   "id": "c4768a1d",
   "metadata": {},
   "outputs": [],
   "source": [
    "dis_lat = 40.72294781563586\n",
    "dis_lon = -73.99172649617472"
   ]
  },
  {
   "cell_type": "markdown",
   "id": "1c841d1f",
   "metadata": {},
   "source": [
    "- Starbucks"
   ]
  },
  {
   "cell_type": "code",
   "execution_count": 8,
   "id": "85b8e64a",
   "metadata": {},
   "outputs": [],
   "source": [
    "star_lat = 40.722584953691005\n",
    "star_lon = -73.9980228047693"
   ]
  },
  {
   "cell_type": "markdown",
   "id": "ff329b4b",
   "metadata": {},
   "source": [
    "- Restaurantes veganos"
   ]
  },
  {
   "cell_type": "code",
   "execution_count": 9,
   "id": "fdc39cfa",
   "metadata": {},
   "outputs": [],
   "source": [
    "veg_lat = 40.72207953581667\n",
    "veg_lon = -73.99625027875686"
   ]
  },
  {
   "cell_type": "markdown",
   "id": "11aac1c7",
   "metadata": {},
   "source": [
    "- Estación de autobuses"
   ]
  },
  {
   "cell_type": "code",
   "execution_count": 10,
   "id": "28e93360",
   "metadata": {},
   "outputs": [],
   "source": [
    "bus_lat = 40.72506034424643\n",
    "bus_lon = -73.99228003980646"
   ]
  },
  {
   "cell_type": "markdown",
   "id": "c3344704",
   "metadata": {},
   "source": [
    "- Colegios"
   ]
  },
  {
   "cell_type": "code",
   "execution_count": 11,
   "id": "5f36721e",
   "metadata": {},
   "outputs": [],
   "source": [
    "esc_lat = 40.72267150878906\n",
    "esc_lon = -73.99515533447266"
   ]
  },
  {
   "cell_type": "markdown",
   "id": "a12a8246",
   "metadata": {},
   "source": [
    "- Veterinario"
   ]
  },
  {
   "cell_type": "code",
   "execution_count": 12,
   "id": "64c31299",
   "metadata": {},
   "outputs": [],
   "source": [
    "vet_lat = 40.72746618943346\n",
    "vet_lon = -73.99061496749717"
   ]
  },
  {
   "cell_type": "markdown",
   "id": "d8ad8d42",
   "metadata": {},
   "source": [
    "## 4. Representación 👁️"
   ]
  },
  {
   "cell_type": "code",
   "execution_count": 13,
   "id": "c90fb3f5",
   "metadata": {},
   "outputs": [
    {
     "data": {
      "text/plain": [
       "<folium.map.Marker at 0x7fb0e8914970>"
      ]
     },
     "execution_count": 13,
     "metadata": {},
     "output_type": "execute_result"
    }
   ],
   "source": [
    "#oficinas\n",
    "oficina = Icon(color = \"red\",\n",
    "             prefix = \"fa\",\n",
    "             icon = \"building\",\n",
    "             icon_color = \"white\",\n",
    ")\n",
    "loc = {\"location\":[of_lat,of_lon],\n",
    "      \"tooltip\": \"Livestream\"}\n",
    "\n",
    "marker_of = Marker(**loc, icon = oficina)\n",
    "marker_of.add_to(mapa)\n",
    "\n",
    "\n",
    "#aeropuerto\n",
    "aeropuerto = Icon(color = \"blue\",\n",
    "             prefix = \"fa\",\n",
    "             icon = \"plane\",\n",
    "             icon_color = \"white\",\n",
    ")\n",
    "loc = {\"location\":[air_lat,air_lon],\n",
    "      \"tooltip\": \"Aeropuerto. Bell Call Service\"}\n",
    "\n",
    "marker_air = Marker(**loc, icon = aeropuerto)\n",
    "marker_air.add_to(mapa)\n",
    "\n",
    "\n",
    "#discoteca\n",
    "discoteca = Icon(color = \"pink\",\n",
    "             prefix = \"fa\",\n",
    "             icon = \"beer\",\n",
    "             icon_color = \"white\",\n",
    ")\n",
    "loc = {\"location\":[dis_lat,dis_lon],\n",
    "      \"tooltip\": \"Dicoteca. Public Arts\"}\n",
    "\n",
    "marker_dis = Marker(**loc, icon = discoteca)\n",
    "marker_dis.add_to(mapa)\n",
    "\n",
    "\n",
    "#starbucks\n",
    "starbucks = Icon(color = \"darkgreen\",\n",
    "             prefix = \"fa\",\n",
    "             icon = \"coffee\",\n",
    "             icon_color = \"white\",\n",
    ")\n",
    "loc = {\"location\":[star_lat,star_lon],\n",
    "      \"tooltip\": \"Starbucks\"}\n",
    "\n",
    "marker_star = Marker(**loc, icon = starbucks)\n",
    "marker_star.add_to(mapa)\n",
    "\n",
    "\n",
    "#restaurante vegano\n",
    "resvegano = Icon(color = \"green\",\n",
    "             prefix = \"fa\",\n",
    "             icon = \"apple\",\n",
    "             icon_color = \"white\",\n",
    ")\n",
    "loc = {\"location\":[veg_lat,veg_lon],\n",
    "      \"tooltip\": \"Restaurante Vegano. Beyond Sushi\"}\n",
    "\n",
    "marker_veg = Marker(**loc, icon = resvegano)\n",
    "marker_veg.add_to(mapa)\n",
    "\n",
    "\n",
    "#estacion de autobuses\n",
    "bus = Icon(color = \"purple\",\n",
    "             prefix = \"fa\",\n",
    "             icon = \"bus\",\n",
    "             icon_color = \"white\",\n",
    ")\n",
    "loc = {\"location\":[bus_lat,bus_lon],\n",
    "      \"tooltip\": \"Estación de autobuses\"}\n",
    "\n",
    "marker_bus = Marker(**loc, icon = bus)\n",
    "marker_bus.add_to(mapa)\n",
    "\n",
    "\n",
    "#escuela\n",
    "escuela = Icon(color = \"orange\",\n",
    "             prefix = \"fa\",\n",
    "             icon = \"graduation-cap\",\n",
    "             icon_color = \"white\",\n",
    ")\n",
    "loc = {\"location\":[esc_lat,esc_lon],\n",
    "      \"tooltip\": \"Colegios. Skillshare School\"}\n",
    "\n",
    "marker_esc = Marker(**loc, icon = escuela)\n",
    "marker_esc.add_to(mapa)\n",
    "\n",
    "#veterinario\n",
    "veterinario = Icon(color = \"black\",\n",
    "             prefix = \"fa\",\n",
    "             icon = \"paw\",\n",
    "             icon_color = \"white\",\n",
    ")\n",
    "loc = {\"location\":[vet_lat,vet_lon],\n",
    "      \"tooltip\": \"Veterinario\"}\n",
    "\n",
    "marker_vet = Marker(**loc, icon = veterinario)\n",
    "marker_vet.add_to(mapa)"
   ]
  },
  {
   "cell_type": "markdown",
   "id": "560232d3",
   "metadata": {},
   "source": [
    "## Mapa Final 🤩"
   ]
  },
  {
   "cell_type": "code",
   "execution_count": 14,
   "id": "5cf372ea",
   "metadata": {},
   "outputs": [
    {
     "data": {
      "text/html": [
       "<div style=\"width:100%;\"><div style=\"position:relative;width:100%;height:0;padding-bottom:60%;\"><span style=\"color:#565656\">Make this Notebook Trusted to load map: File -> Trust Notebook</span><iframe src=\"about:blank\" style=\"position:absolute;width:100%;height:100%;left:0;top:0;border:none !important;\" data-html=%3C%21DOCTYPE%20html%3E%0A%3Chead%3E%20%20%20%20%0A%20%20%20%20%3Cmeta%20http-equiv%3D%22content-type%22%20content%3D%22text/html%3B%20charset%3DUTF-8%22%20/%3E%0A%20%20%20%20%0A%20%20%20%20%20%20%20%20%3Cscript%3E%0A%20%20%20%20%20%20%20%20%20%20%20%20L_NO_TOUCH%20%3D%20false%3B%0A%20%20%20%20%20%20%20%20%20%20%20%20L_DISABLE_3D%20%3D%20false%3B%0A%20%20%20%20%20%20%20%20%3C/script%3E%0A%20%20%20%20%0A%20%20%20%20%3Cstyle%3Ehtml%2C%20body%20%7Bwidth%3A%20100%25%3Bheight%3A%20100%25%3Bmargin%3A%200%3Bpadding%3A%200%3B%7D%3C/style%3E%0A%20%20%20%20%3Cstyle%3E%23map%20%7Bposition%3Aabsolute%3Btop%3A0%3Bbottom%3A0%3Bright%3A0%3Bleft%3A0%3B%7D%3C/style%3E%0A%20%20%20%20%3Cscript%20src%3D%22https%3A//cdn.jsdelivr.net/npm/leaflet%401.6.0/dist/leaflet.js%22%3E%3C/script%3E%0A%20%20%20%20%3Cscript%20src%3D%22https%3A//code.jquery.com/jquery-1.12.4.min.js%22%3E%3C/script%3E%0A%20%20%20%20%3Cscript%20src%3D%22https%3A//maxcdn.bootstrapcdn.com/bootstrap/3.2.0/js/bootstrap.min.js%22%3E%3C/script%3E%0A%20%20%20%20%3Cscript%20src%3D%22https%3A//cdnjs.cloudflare.com/ajax/libs/Leaflet.awesome-markers/2.0.2/leaflet.awesome-markers.js%22%3E%3C/script%3E%0A%20%20%20%20%3Clink%20rel%3D%22stylesheet%22%20href%3D%22https%3A//cdn.jsdelivr.net/npm/leaflet%401.6.0/dist/leaflet.css%22/%3E%0A%20%20%20%20%3Clink%20rel%3D%22stylesheet%22%20href%3D%22https%3A//maxcdn.bootstrapcdn.com/bootstrap/3.2.0/css/bootstrap.min.css%22/%3E%0A%20%20%20%20%3Clink%20rel%3D%22stylesheet%22%20href%3D%22https%3A//maxcdn.bootstrapcdn.com/bootstrap/3.2.0/css/bootstrap-theme.min.css%22/%3E%0A%20%20%20%20%3Clink%20rel%3D%22stylesheet%22%20href%3D%22https%3A//maxcdn.bootstrapcdn.com/font-awesome/4.6.3/css/font-awesome.min.css%22/%3E%0A%20%20%20%20%3Clink%20rel%3D%22stylesheet%22%20href%3D%22https%3A//cdnjs.cloudflare.com/ajax/libs/Leaflet.awesome-markers/2.0.2/leaflet.awesome-markers.css%22/%3E%0A%20%20%20%20%3Clink%20rel%3D%22stylesheet%22%20href%3D%22https%3A//cdn.jsdelivr.net/gh/python-visualization/folium/folium/templates/leaflet.awesome.rotate.min.css%22/%3E%0A%20%20%20%20%0A%20%20%20%20%20%20%20%20%20%20%20%20%3Cmeta%20name%3D%22viewport%22%20content%3D%22width%3Ddevice-width%2C%0A%20%20%20%20%20%20%20%20%20%20%20%20%20%20%20%20initial-scale%3D1.0%2C%20maximum-scale%3D1.0%2C%20user-scalable%3Dno%22%20/%3E%0A%20%20%20%20%20%20%20%20%20%20%20%20%3Cstyle%3E%0A%20%20%20%20%20%20%20%20%20%20%20%20%20%20%20%20%23map_19010dd6f521423297a2d267655927bf%20%7B%0A%20%20%20%20%20%20%20%20%20%20%20%20%20%20%20%20%20%20%20%20position%3A%20relative%3B%0A%20%20%20%20%20%20%20%20%20%20%20%20%20%20%20%20%20%20%20%20width%3A%20100.0%25%3B%0A%20%20%20%20%20%20%20%20%20%20%20%20%20%20%20%20%20%20%20%20height%3A%20100.0%25%3B%0A%20%20%20%20%20%20%20%20%20%20%20%20%20%20%20%20%20%20%20%20left%3A%200.0%25%3B%0A%20%20%20%20%20%20%20%20%20%20%20%20%20%20%20%20%20%20%20%20top%3A%200.0%25%3B%0A%20%20%20%20%20%20%20%20%20%20%20%20%20%20%20%20%7D%0A%20%20%20%20%20%20%20%20%20%20%20%20%3C/style%3E%0A%20%20%20%20%20%20%20%20%0A%3C/head%3E%0A%3Cbody%3E%20%20%20%20%0A%20%20%20%20%0A%20%20%20%20%20%20%20%20%20%20%20%20%3Cdiv%20class%3D%22folium-map%22%20id%3D%22map_19010dd6f521423297a2d267655927bf%22%20%3E%3C/div%3E%0A%20%20%20%20%20%20%20%20%0A%3C/body%3E%0A%3Cscript%3E%20%20%20%20%0A%20%20%20%20%0A%20%20%20%20%20%20%20%20%20%20%20%20var%20map_19010dd6f521423297a2d267655927bf%20%3D%20L.map%28%0A%20%20%20%20%20%20%20%20%20%20%20%20%20%20%20%20%22map_19010dd6f521423297a2d267655927bf%22%2C%0A%20%20%20%20%20%20%20%20%20%20%20%20%20%20%20%20%7B%0A%20%20%20%20%20%20%20%20%20%20%20%20%20%20%20%20%20%20%20%20center%3A%20%5B40.7724386956522%2C%20-73.95861%5D%2C%0A%20%20%20%20%20%20%20%20%20%20%20%20%20%20%20%20%20%20%20%20crs%3A%20L.CRS.EPSG3857%2C%0A%20%20%20%20%20%20%20%20%20%20%20%20%20%20%20%20%20%20%20%20zoom%3A%2015%2C%0A%20%20%20%20%20%20%20%20%20%20%20%20%20%20%20%20%20%20%20%20zoomControl%3A%20true%2C%0A%20%20%20%20%20%20%20%20%20%20%20%20%20%20%20%20%20%20%20%20preferCanvas%3A%20false%2C%0A%20%20%20%20%20%20%20%20%20%20%20%20%20%20%20%20%7D%0A%20%20%20%20%20%20%20%20%20%20%20%20%29%3B%0A%0A%20%20%20%20%20%20%20%20%20%20%20%20%0A%0A%20%20%20%20%20%20%20%20%0A%20%20%20%20%0A%20%20%20%20%20%20%20%20%20%20%20%20var%20tile_layer_735ca1adff1c4d8d9d5e5f1538649113%20%3D%20L.tileLayer%28%0A%20%20%20%20%20%20%20%20%20%20%20%20%20%20%20%20%22https%3A//%7Bs%7D.tile.openstreetmap.org/%7Bz%7D/%7Bx%7D/%7By%7D.png%22%2C%0A%20%20%20%20%20%20%20%20%20%20%20%20%20%20%20%20%7B%22attribution%22%3A%20%22Data%20by%20%5Cu0026copy%3B%20%5Cu003ca%20href%3D%5C%22http%3A//openstreetmap.org%5C%22%5Cu003eOpenStreetMap%5Cu003c/a%5Cu003e%2C%20under%20%5Cu003ca%20href%3D%5C%22http%3A//www.openstreetmap.org/copyright%5C%22%5Cu003eODbL%5Cu003c/a%5Cu003e.%22%2C%20%22detectRetina%22%3A%20false%2C%20%22maxNativeZoom%22%3A%2018%2C%20%22maxZoom%22%3A%2018%2C%20%22minZoom%22%3A%200%2C%20%22noWrap%22%3A%20false%2C%20%22opacity%22%3A%201%2C%20%22subdomains%22%3A%20%22abc%22%2C%20%22tms%22%3A%20false%7D%0A%20%20%20%20%20%20%20%20%20%20%20%20%29.addTo%28map_19010dd6f521423297a2d267655927bf%29%3B%0A%20%20%20%20%20%20%20%20%0A%20%20%20%20%0A%20%20%20%20%20%20%20%20%20%20%20%20var%20marker_5ed93afc7ed04a7bae3345ee8a5cc93b%20%3D%20L.marker%28%0A%20%20%20%20%20%20%20%20%20%20%20%20%20%20%20%20%5B40.726155%2C%20-73.995625%5D%2C%0A%20%20%20%20%20%20%20%20%20%20%20%20%20%20%20%20%7B%7D%0A%20%20%20%20%20%20%20%20%20%20%20%20%29.addTo%28map_19010dd6f521423297a2d267655927bf%29%3B%0A%20%20%20%20%20%20%20%20%0A%20%20%20%20%0A%20%20%20%20%20%20%20%20%20%20%20%20var%20icon_b3df89bdc8a84f4187c0e16ea08ea7f2%20%3D%20L.AwesomeMarkers.icon%28%0A%20%20%20%20%20%20%20%20%20%20%20%20%20%20%20%20%7B%22extraClasses%22%3A%20%22fa-rotate-0%22%2C%20%22icon%22%3A%20%22building%22%2C%20%22iconColor%22%3A%20%22white%22%2C%20%22markerColor%22%3A%20%22red%22%2C%20%22prefix%22%3A%20%22fa%22%7D%0A%20%20%20%20%20%20%20%20%20%20%20%20%29%3B%0A%20%20%20%20%20%20%20%20%20%20%20%20marker_5ed93afc7ed04a7bae3345ee8a5cc93b.setIcon%28icon_b3df89bdc8a84f4187c0e16ea08ea7f2%29%3B%0A%20%20%20%20%20%20%20%20%0A%20%20%20%20%0A%20%20%20%20%20%20%20%20%20%20%20%20marker_5ed93afc7ed04a7bae3345ee8a5cc93b.bindTooltip%28%0A%20%20%20%20%20%20%20%20%20%20%20%20%20%20%20%20%60%3Cdiv%3E%0A%20%20%20%20%20%20%20%20%20%20%20%20%20%20%20%20%20%20%20%20%20Livestream%0A%20%20%20%20%20%20%20%20%20%20%20%20%20%20%20%20%20%3C/div%3E%60%2C%0A%20%20%20%20%20%20%20%20%20%20%20%20%20%20%20%20%7B%22sticky%22%3A%20true%7D%0A%20%20%20%20%20%20%20%20%20%20%20%20%29%3B%0A%20%20%20%20%20%20%20%20%0A%20%20%20%20%0A%20%20%20%20%20%20%20%20%20%20%20%20var%20marker_f38b5ffba7354f8984db3e0a93be5419%20%3D%20L.marker%28%0A%20%20%20%20%20%20%20%20%20%20%20%20%20%20%20%20%5B40.69371727%2C%20-73.96025%5D%2C%0A%20%20%20%20%20%20%20%20%20%20%20%20%20%20%20%20%7B%7D%0A%20%20%20%20%20%20%20%20%20%20%20%20%29.addTo%28map_19010dd6f521423297a2d267655927bf%29%3B%0A%20%20%20%20%20%20%20%20%0A%20%20%20%20%0A%20%20%20%20%20%20%20%20%20%20%20%20var%20icon_7db066b393cf46648d4e06342c4a7305%20%3D%20L.AwesomeMarkers.icon%28%0A%20%20%20%20%20%20%20%20%20%20%20%20%20%20%20%20%7B%22extraClasses%22%3A%20%22fa-rotate-0%22%2C%20%22icon%22%3A%20%22plane%22%2C%20%22iconColor%22%3A%20%22white%22%2C%20%22markerColor%22%3A%20%22blue%22%2C%20%22prefix%22%3A%20%22fa%22%7D%0A%20%20%20%20%20%20%20%20%20%20%20%20%29%3B%0A%20%20%20%20%20%20%20%20%20%20%20%20marker_f38b5ffba7354f8984db3e0a93be5419.setIcon%28icon_7db066b393cf46648d4e06342c4a7305%29%3B%0A%20%20%20%20%20%20%20%20%0A%20%20%20%20%0A%20%20%20%20%20%20%20%20%20%20%20%20marker_f38b5ffba7354f8984db3e0a93be5419.bindTooltip%28%0A%20%20%20%20%20%20%20%20%20%20%20%20%20%20%20%20%60%3Cdiv%3E%0A%20%20%20%20%20%20%20%20%20%20%20%20%20%20%20%20%20%20%20%20%20Aeropuerto.%20Bell%20Call%20Service%0A%20%20%20%20%20%20%20%20%20%20%20%20%20%20%20%20%20%3C/div%3E%60%2C%0A%20%20%20%20%20%20%20%20%20%20%20%20%20%20%20%20%7B%22sticky%22%3A%20true%7D%0A%20%20%20%20%20%20%20%20%20%20%20%20%29%3B%0A%20%20%20%20%20%20%20%20%0A%20%20%20%20%0A%20%20%20%20%20%20%20%20%20%20%20%20var%20marker_b49e9f4b021141308b1b79775d087ba0%20%3D%20L.marker%28%0A%20%20%20%20%20%20%20%20%20%20%20%20%20%20%20%20%5B40.72294781563586%2C%20-73.99172649617472%5D%2C%0A%20%20%20%20%20%20%20%20%20%20%20%20%20%20%20%20%7B%7D%0A%20%20%20%20%20%20%20%20%20%20%20%20%29.addTo%28map_19010dd6f521423297a2d267655927bf%29%3B%0A%20%20%20%20%20%20%20%20%0A%20%20%20%20%0A%20%20%20%20%20%20%20%20%20%20%20%20var%20icon_57cedb01345b45a19f2dffcd99873d77%20%3D%20L.AwesomeMarkers.icon%28%0A%20%20%20%20%20%20%20%20%20%20%20%20%20%20%20%20%7B%22extraClasses%22%3A%20%22fa-rotate-0%22%2C%20%22icon%22%3A%20%22beer%22%2C%20%22iconColor%22%3A%20%22white%22%2C%20%22markerColor%22%3A%20%22pink%22%2C%20%22prefix%22%3A%20%22fa%22%7D%0A%20%20%20%20%20%20%20%20%20%20%20%20%29%3B%0A%20%20%20%20%20%20%20%20%20%20%20%20marker_b49e9f4b021141308b1b79775d087ba0.setIcon%28icon_57cedb01345b45a19f2dffcd99873d77%29%3B%0A%20%20%20%20%20%20%20%20%0A%20%20%20%20%0A%20%20%20%20%20%20%20%20%20%20%20%20marker_b49e9f4b021141308b1b79775d087ba0.bindTooltip%28%0A%20%20%20%20%20%20%20%20%20%20%20%20%20%20%20%20%60%3Cdiv%3E%0A%20%20%20%20%20%20%20%20%20%20%20%20%20%20%20%20%20%20%20%20%20Dicoteca.%20Public%20Arts%0A%20%20%20%20%20%20%20%20%20%20%20%20%20%20%20%20%20%3C/div%3E%60%2C%0A%20%20%20%20%20%20%20%20%20%20%20%20%20%20%20%20%7B%22sticky%22%3A%20true%7D%0A%20%20%20%20%20%20%20%20%20%20%20%20%29%3B%0A%20%20%20%20%20%20%20%20%0A%20%20%20%20%0A%20%20%20%20%20%20%20%20%20%20%20%20var%20marker_2d4dd34ad2c848e4b9d1b6cd6d5fef84%20%3D%20L.marker%28%0A%20%20%20%20%20%20%20%20%20%20%20%20%20%20%20%20%5B40.722584953691005%2C%20-73.9980228047693%5D%2C%0A%20%20%20%20%20%20%20%20%20%20%20%20%20%20%20%20%7B%7D%0A%20%20%20%20%20%20%20%20%20%20%20%20%29.addTo%28map_19010dd6f521423297a2d267655927bf%29%3B%0A%20%20%20%20%20%20%20%20%0A%20%20%20%20%0A%20%20%20%20%20%20%20%20%20%20%20%20var%20icon_de1e54f287fd49588d68eaad393a7504%20%3D%20L.AwesomeMarkers.icon%28%0A%20%20%20%20%20%20%20%20%20%20%20%20%20%20%20%20%7B%22extraClasses%22%3A%20%22fa-rotate-0%22%2C%20%22icon%22%3A%20%22coffee%22%2C%20%22iconColor%22%3A%20%22white%22%2C%20%22markerColor%22%3A%20%22darkgreen%22%2C%20%22prefix%22%3A%20%22fa%22%7D%0A%20%20%20%20%20%20%20%20%20%20%20%20%29%3B%0A%20%20%20%20%20%20%20%20%20%20%20%20marker_2d4dd34ad2c848e4b9d1b6cd6d5fef84.setIcon%28icon_de1e54f287fd49588d68eaad393a7504%29%3B%0A%20%20%20%20%20%20%20%20%0A%20%20%20%20%0A%20%20%20%20%20%20%20%20%20%20%20%20marker_2d4dd34ad2c848e4b9d1b6cd6d5fef84.bindTooltip%28%0A%20%20%20%20%20%20%20%20%20%20%20%20%20%20%20%20%60%3Cdiv%3E%0A%20%20%20%20%20%20%20%20%20%20%20%20%20%20%20%20%20%20%20%20%20Starbucks%0A%20%20%20%20%20%20%20%20%20%20%20%20%20%20%20%20%20%3C/div%3E%60%2C%0A%20%20%20%20%20%20%20%20%20%20%20%20%20%20%20%20%7B%22sticky%22%3A%20true%7D%0A%20%20%20%20%20%20%20%20%20%20%20%20%29%3B%0A%20%20%20%20%20%20%20%20%0A%20%20%20%20%0A%20%20%20%20%20%20%20%20%20%20%20%20var%20marker_cdf4aa687b5349658a92d4c3b86affc1%20%3D%20L.marker%28%0A%20%20%20%20%20%20%20%20%20%20%20%20%20%20%20%20%5B40.72207953581667%2C%20-73.99625027875686%5D%2C%0A%20%20%20%20%20%20%20%20%20%20%20%20%20%20%20%20%7B%7D%0A%20%20%20%20%20%20%20%20%20%20%20%20%29.addTo%28map_19010dd6f521423297a2d267655927bf%29%3B%0A%20%20%20%20%20%20%20%20%0A%20%20%20%20%0A%20%20%20%20%20%20%20%20%20%20%20%20var%20icon_7ce5b475846445179dc0c0b424014bd0%20%3D%20L.AwesomeMarkers.icon%28%0A%20%20%20%20%20%20%20%20%20%20%20%20%20%20%20%20%7B%22extraClasses%22%3A%20%22fa-rotate-0%22%2C%20%22icon%22%3A%20%22apple%22%2C%20%22iconColor%22%3A%20%22white%22%2C%20%22markerColor%22%3A%20%22green%22%2C%20%22prefix%22%3A%20%22fa%22%7D%0A%20%20%20%20%20%20%20%20%20%20%20%20%29%3B%0A%20%20%20%20%20%20%20%20%20%20%20%20marker_cdf4aa687b5349658a92d4c3b86affc1.setIcon%28icon_7ce5b475846445179dc0c0b424014bd0%29%3B%0A%20%20%20%20%20%20%20%20%0A%20%20%20%20%0A%20%20%20%20%20%20%20%20%20%20%20%20marker_cdf4aa687b5349658a92d4c3b86affc1.bindTooltip%28%0A%20%20%20%20%20%20%20%20%20%20%20%20%20%20%20%20%60%3Cdiv%3E%0A%20%20%20%20%20%20%20%20%20%20%20%20%20%20%20%20%20%20%20%20%20Restaurante%20Vegano.%20Beyond%20Sushi%0A%20%20%20%20%20%20%20%20%20%20%20%20%20%20%20%20%20%3C/div%3E%60%2C%0A%20%20%20%20%20%20%20%20%20%20%20%20%20%20%20%20%7B%22sticky%22%3A%20true%7D%0A%20%20%20%20%20%20%20%20%20%20%20%20%29%3B%0A%20%20%20%20%20%20%20%20%0A%20%20%20%20%0A%20%20%20%20%20%20%20%20%20%20%20%20var%20marker_439aab54435d47d78765311697240464%20%3D%20L.marker%28%0A%20%20%20%20%20%20%20%20%20%20%20%20%20%20%20%20%5B40.72506034424643%2C%20-73.99228003980646%5D%2C%0A%20%20%20%20%20%20%20%20%20%20%20%20%20%20%20%20%7B%7D%0A%20%20%20%20%20%20%20%20%20%20%20%20%29.addTo%28map_19010dd6f521423297a2d267655927bf%29%3B%0A%20%20%20%20%20%20%20%20%0A%20%20%20%20%0A%20%20%20%20%20%20%20%20%20%20%20%20var%20icon_1d8a22470729434ca12ddf28c5080f65%20%3D%20L.AwesomeMarkers.icon%28%0A%20%20%20%20%20%20%20%20%20%20%20%20%20%20%20%20%7B%22extraClasses%22%3A%20%22fa-rotate-0%22%2C%20%22icon%22%3A%20%22bus%22%2C%20%22iconColor%22%3A%20%22white%22%2C%20%22markerColor%22%3A%20%22purple%22%2C%20%22prefix%22%3A%20%22fa%22%7D%0A%20%20%20%20%20%20%20%20%20%20%20%20%29%3B%0A%20%20%20%20%20%20%20%20%20%20%20%20marker_439aab54435d47d78765311697240464.setIcon%28icon_1d8a22470729434ca12ddf28c5080f65%29%3B%0A%20%20%20%20%20%20%20%20%0A%20%20%20%20%0A%20%20%20%20%20%20%20%20%20%20%20%20marker_439aab54435d47d78765311697240464.bindTooltip%28%0A%20%20%20%20%20%20%20%20%20%20%20%20%20%20%20%20%60%3Cdiv%3E%0A%20%20%20%20%20%20%20%20%20%20%20%20%20%20%20%20%20%20%20%20%20Estaci%C3%B3n%20de%20autobuses%0A%20%20%20%20%20%20%20%20%20%20%20%20%20%20%20%20%20%3C/div%3E%60%2C%0A%20%20%20%20%20%20%20%20%20%20%20%20%20%20%20%20%7B%22sticky%22%3A%20true%7D%0A%20%20%20%20%20%20%20%20%20%20%20%20%29%3B%0A%20%20%20%20%20%20%20%20%0A%20%20%20%20%0A%20%20%20%20%20%20%20%20%20%20%20%20var%20marker_6890f7e44dac4ba48c3645b41f5f6906%20%3D%20L.marker%28%0A%20%20%20%20%20%20%20%20%20%20%20%20%20%20%20%20%5B40.72267150878906%2C%20-73.99515533447266%5D%2C%0A%20%20%20%20%20%20%20%20%20%20%20%20%20%20%20%20%7B%7D%0A%20%20%20%20%20%20%20%20%20%20%20%20%29.addTo%28map_19010dd6f521423297a2d267655927bf%29%3B%0A%20%20%20%20%20%20%20%20%0A%20%20%20%20%0A%20%20%20%20%20%20%20%20%20%20%20%20var%20icon_e7b0fec065764867944f7507ae32c873%20%3D%20L.AwesomeMarkers.icon%28%0A%20%20%20%20%20%20%20%20%20%20%20%20%20%20%20%20%7B%22extraClasses%22%3A%20%22fa-rotate-0%22%2C%20%22icon%22%3A%20%22graduation-cap%22%2C%20%22iconColor%22%3A%20%22white%22%2C%20%22markerColor%22%3A%20%22orange%22%2C%20%22prefix%22%3A%20%22fa%22%7D%0A%20%20%20%20%20%20%20%20%20%20%20%20%29%3B%0A%20%20%20%20%20%20%20%20%20%20%20%20marker_6890f7e44dac4ba48c3645b41f5f6906.setIcon%28icon_e7b0fec065764867944f7507ae32c873%29%3B%0A%20%20%20%20%20%20%20%20%0A%20%20%20%20%0A%20%20%20%20%20%20%20%20%20%20%20%20marker_6890f7e44dac4ba48c3645b41f5f6906.bindTooltip%28%0A%20%20%20%20%20%20%20%20%20%20%20%20%20%20%20%20%60%3Cdiv%3E%0A%20%20%20%20%20%20%20%20%20%20%20%20%20%20%20%20%20%20%20%20%20Colegios.%20Skillshare%20School%0A%20%20%20%20%20%20%20%20%20%20%20%20%20%20%20%20%20%3C/div%3E%60%2C%0A%20%20%20%20%20%20%20%20%20%20%20%20%20%20%20%20%7B%22sticky%22%3A%20true%7D%0A%20%20%20%20%20%20%20%20%20%20%20%20%29%3B%0A%20%20%20%20%20%20%20%20%0A%20%20%20%20%0A%20%20%20%20%20%20%20%20%20%20%20%20var%20marker_e48a5a45481a431d8a9a19bb80ed4b22%20%3D%20L.marker%28%0A%20%20%20%20%20%20%20%20%20%20%20%20%20%20%20%20%5B40.72746618943346%2C%20-73.99061496749717%5D%2C%0A%20%20%20%20%20%20%20%20%20%20%20%20%20%20%20%20%7B%7D%0A%20%20%20%20%20%20%20%20%20%20%20%20%29.addTo%28map_19010dd6f521423297a2d267655927bf%29%3B%0A%20%20%20%20%20%20%20%20%0A%20%20%20%20%0A%20%20%20%20%20%20%20%20%20%20%20%20var%20icon_be381aff4ede4a90b9eea0d0b56a42f7%20%3D%20L.AwesomeMarkers.icon%28%0A%20%20%20%20%20%20%20%20%20%20%20%20%20%20%20%20%7B%22extraClasses%22%3A%20%22fa-rotate-0%22%2C%20%22icon%22%3A%20%22paw%22%2C%20%22iconColor%22%3A%20%22white%22%2C%20%22markerColor%22%3A%20%22black%22%2C%20%22prefix%22%3A%20%22fa%22%7D%0A%20%20%20%20%20%20%20%20%20%20%20%20%29%3B%0A%20%20%20%20%20%20%20%20%20%20%20%20marker_e48a5a45481a431d8a9a19bb80ed4b22.setIcon%28icon_be381aff4ede4a90b9eea0d0b56a42f7%29%3B%0A%20%20%20%20%20%20%20%20%0A%20%20%20%20%0A%20%20%20%20%20%20%20%20%20%20%20%20marker_e48a5a45481a431d8a9a19bb80ed4b22.bindTooltip%28%0A%20%20%20%20%20%20%20%20%20%20%20%20%20%20%20%20%60%3Cdiv%3E%0A%20%20%20%20%20%20%20%20%20%20%20%20%20%20%20%20%20%20%20%20%20Vegan%20Restaurant%0A%20%20%20%20%20%20%20%20%20%20%20%20%20%20%20%20%20%3C/div%3E%60%2C%0A%20%20%20%20%20%20%20%20%20%20%20%20%20%20%20%20%7B%22sticky%22%3A%20true%7D%0A%20%20%20%20%20%20%20%20%20%20%20%20%29%3B%0A%20%20%20%20%20%20%20%20%0A%3C/script%3E onload=\"this.contentDocument.open();this.contentDocument.write(    decodeURIComponent(this.getAttribute('data-html')));this.contentDocument.close();\" allowfullscreen webkitallowfullscreen mozallowfullscreen></iframe></div></div>"
      ],
      "text/plain": [
       "<folium.folium.Map at 0x7fb0e88f2d90>"
      ]
     },
     "execution_count": 14,
     "metadata": {},
     "output_type": "execute_result"
    }
   ],
   "source": [
    "mapa"
   ]
  }
 ],
 "metadata": {
  "kernelspec": {
   "display_name": "OLAYA1",
   "language": "python",
   "name": "olaya1"
  },
  "language_info": {
   "codemirror_mode": {
    "name": "ipython",
    "version": 3
   },
   "file_extension": ".py",
   "mimetype": "text/x-python",
   "name": "python",
   "nbconvert_exporter": "python",
   "pygments_lexer": "ipython3",
   "version": "3.8.5"
  }
 },
 "nbformat": 4,
 "nbformat_minor": 5
}
