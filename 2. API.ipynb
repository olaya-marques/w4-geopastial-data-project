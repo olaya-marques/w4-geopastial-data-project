{
 "cells": [
  {
   "cell_type": "markdown",
   "id": "a1be022d",
   "metadata": {},
   "source": [
    "# API. Estudio de las variables 🪢"
   ]
  },
  {
   "cell_type": "markdown",
   "id": "af2ed994",
   "metadata": {},
   "source": [
    "En este jupyter notebook se encuentra todo el proceso de exportación de datos para el estudio de las variables requeridas, utilizando la API Foursquare. **Para la empresa LiveStream**."
   ]
  },
  {
   "cell_type": "markdown",
   "id": "589dc892",
   "metadata": {},
   "source": [
    "*Consideraciones*\n",
    "- Se ha establecido un \"limit\" de 10 elementos al realizar las llamadas a la API, para facilitar la selección, además de no superar el límite de llamadas a la API, permitida en la versión gratuita."
   ]
  },
  {
   "cell_type": "markdown",
   "id": "03df4339",
   "metadata": {},
   "source": [
    "## Índice 📎"
   ]
  },
  {
   "cell_type": "markdown",
   "id": "bf548205",
   "metadata": {},
   "source": [
    "1. Importación de librerías y funciones\n",
    "2. Importación de los datos\n",
    "3. Conexión con la API\n",
    "4. Estudio de las variables\n",
    ">- Aeropuertos\n",
    ">- Discotecas\n",
    ">- Starbucks\n",
    ">- Restaurantes veganos\n",
    ">- Estación de autobuses\n",
    ">- Colegios\n",
    ">- Veterinarios"
   ]
  },
  {
   "cell_type": "markdown",
   "id": "7770f519",
   "metadata": {},
   "source": [
    "## 1. Importación de librerías y funciones 📚"
   ]
  },
  {
   "cell_type": "code",
   "execution_count": 1,
   "id": "638b3305",
   "metadata": {},
   "outputs": [],
   "source": [
    "import requests\n",
    "import json\n",
    "from dotenv import load_dotenv\n",
    "import os\n",
    "import pandas as pd\n",
    "import geopandas as gpd\n",
    "from pymongo import MongoClient,GEOSPHERE\n",
    "from functools import reduce\n",
    "import operator\n",
    "from cartoframes.viz import Map, Layer, popup_element\n",
    "from pymongo import MongoClient\n",
    "import shapely.geometry\n",
    "import math"
   ]
  },
  {
   "cell_type": "markdown",
   "id": "a01d8b23",
   "metadata": {},
   "source": [
    "Otras funciones:"
   ]
  },
  {
   "cell_type": "code",
   "execution_count": 2,
   "id": "d4b88f32",
   "metadata": {},
   "outputs": [],
   "source": [
    "#import Funciones Funciones as fu"
   ]
  },
  {
   "cell_type": "markdown",
   "id": "328f8d6d",
   "metadata": {},
   "source": [
    "## 2. Importación de los datos 📍"
   ]
  },
  {
   "cell_type": "markdown",
   "id": "bbc7ad18",
   "metadata": {},
   "source": [
    "Para extraer las coordenadas de la oficina tenemos dos posibilidades, o bien mediante la información que nos proporciona la base de datos o bien a través de la API de geocode, introduciendo la dirección de la oficina selecionada."
   ]
  },
  {
   "cell_type": "code",
   "execution_count": 3,
   "id": "1366e170",
   "metadata": {},
   "outputs": [],
   "source": [
    "#Importación del dataset con los datos de las oficinas\n",
    "oficinas = pd.read_csv(\"./oficinas_info.csv\")"
   ]
  },
  {
   "cell_type": "code",
   "execution_count": 4,
   "id": "c3acade3",
   "metadata": {},
   "outputs": [],
   "source": [
    "#Indicamos la ciudad donde se sitúa la oficina\n",
    "city = \"New York\""
   ]
  },
  {
   "cell_type": "code",
   "execution_count": 5,
   "id": "f988c3ca",
   "metadata": {},
   "outputs": [
    {
     "data": {
      "text/plain": [
       "{'standard': {'addresst': {},\n",
       "  'city': 'New York',\n",
       "  'prov': 'US',\n",
       "  'countryname': 'United States of America',\n",
       "  'postal': {},\n",
       "  'confidence': '0.90'},\n",
       " 'longt': '-73.95861',\n",
       " 'alt': {'loc': {'longt': '-73.9536869565217',\n",
       "   'prov': 'NY',\n",
       "   'city': 'NEW YORK',\n",
       "   'postal': '10075',\n",
       "   'score': '25',\n",
       "   'latt': '40.7724386956522'}},\n",
       " 'elevation': {},\n",
       " 'latt': '40.68908'}"
      ]
     },
     "execution_count": 5,
     "metadata": {},
     "output_type": "execute_result"
    }
   ],
   "source": [
    "data = requests.get(f\"https://geocode.xyz/{city}?json=1\").json()\n",
    "data"
   ]
  },
  {
   "cell_type": "code",
   "execution_count": 6,
   "id": "8259b2ac",
   "metadata": {},
   "outputs": [],
   "source": [
    "#Creamos una función que saque las coordenadas de una dirección\n",
    "def geocode(direccion): \n",
    "    \"\"\"\n",
    "    Saca las coordenadas de una dirección\n",
    "    \"\"\"\n",
    "    data = requests.get(f\"https://geocode.xyz/{direccion}?json=1\").json()\n",
    "    try:\n",
    "        return {\n",
    "            \"type\":\"Point\",\n",
    "            \"coordinates\":  [float(data[\"latt\"]), float(data[\"longt\"])]\n",
    "        }\n",
    "    except:\n",
    "        return data"
   ]
  },
  {
   "cell_type": "code",
   "execution_count": 7,
   "id": "e65f29db",
   "metadata": {},
   "outputs": [],
   "source": [
    "#Creamos una variable que contenga la dirección de la oficina deseada\n",
    "direccion = \"636 Broadway, New York\""
   ]
  },
  {
   "cell_type": "code",
   "execution_count": 8,
   "id": "97a1a34b",
   "metadata": {},
   "outputs": [
    {
     "data": {
      "text/plain": [
       "{'type': 'Point', 'coordinates': [40.72628, -73.99587]}"
      ]
     },
     "execution_count": 8,
     "metadata": {},
     "output_type": "execute_result"
    }
   ],
   "source": [
    "#Imprimimos las coordenadas en \"type\": \"Point\" para más tarde poder realizar la visualización y el tratamiento de datos.\n",
    "coordenadas = geocode(direccion)\n",
    "coordenadas"
   ]
  },
  {
   "cell_type": "code",
   "execution_count": 9,
   "id": "71d3e850",
   "metadata": {},
   "outputs": [
    {
     "data": {
      "text/html": [
       "<div>\n",
       "<style scoped>\n",
       "    .dataframe tbody tr th:only-of-type {\n",
       "        vertical-align: middle;\n",
       "    }\n",
       "\n",
       "    .dataframe tbody tr th {\n",
       "        vertical-align: top;\n",
       "    }\n",
       "\n",
       "    .dataframe thead th {\n",
       "        text-align: right;\n",
       "    }\n",
       "</style>\n",
       "<table border=\"1\" class=\"dataframe\">\n",
       "  <thead>\n",
       "    <tr style=\"text-align: right;\">\n",
       "      <th></th>\n",
       "      <th>Unnamed: 0</th>\n",
       "      <th>city</th>\n",
       "      <th>country_code</th>\n",
       "      <th>latitude</th>\n",
       "      <th>longitude</th>\n",
       "      <th>name</th>\n",
       "      <th>category_code</th>\n",
       "      <th>number_of_employees</th>\n",
       "      <th>founded_year</th>\n",
       "    </tr>\n",
       "  </thead>\n",
       "  <tbody>\n",
       "    <tr>\n",
       "      <th>0</th>\n",
       "      <td>0</td>\n",
       "      <td>New York</td>\n",
       "      <td>USA</td>\n",
       "      <td>40.726155</td>\n",
       "      <td>-73.995625</td>\n",
       "      <td>Livestream</td>\n",
       "      <td>games_video</td>\n",
       "      <td>120</td>\n",
       "      <td>2007</td>\n",
       "    </tr>\n",
       "    <tr>\n",
       "      <th>1</th>\n",
       "      <td>1</td>\n",
       "      <td>New York</td>\n",
       "      <td>USA</td>\n",
       "      <td>40.717248</td>\n",
       "      <td>-74.002662</td>\n",
       "      <td>Boonty</td>\n",
       "      <td>games_video</td>\n",
       "      <td>150</td>\n",
       "      <td>2001</td>\n",
       "    </tr>\n",
       "  </tbody>\n",
       "</table>\n",
       "</div>"
      ],
      "text/plain": [
       "   Unnamed: 0      city country_code   latitude  longitude        name  \\\n",
       "0           0  New York          USA  40.726155 -73.995625  Livestream   \n",
       "1           1  New York          USA  40.717248 -74.002662      Boonty   \n",
       "\n",
       "  category_code  number_of_employees  founded_year  \n",
       "0   games_video                  120          2007  \n",
       "1   games_video                  150          2001  "
      ]
     },
     "execution_count": 9,
     "metadata": {},
     "output_type": "execute_result"
    }
   ],
   "source": [
    "#Comprobamos que coinciden con los datos del DataFrame\n",
    "oficinas"
   ]
  },
  {
   "cell_type": "markdown",
   "id": "f5d5f796",
   "metadata": {},
   "source": [
    "*Consideraciones: Se tomaran las coordenadas 40.726155, -73.995625 de la emprea LiveStream para el estudio de las varibles*"
   ]
  },
  {
   "cell_type": "markdown",
   "id": "5a8468ca",
   "metadata": {},
   "source": [
    "## 3. Conexión con la API. Foursquare 🔌"
   ]
  },
  {
   "cell_type": "markdown",
   "id": "daa4db8d",
   "metadata": {},
   "source": [
    "A continuación antes de realizar el estudio de las demás variables y requisitos que debe cumplir la nueva sede procederemos a establecer la conexión con la API de Foursquare, un servicio que proporciona la geolocalización de lugares específicos gracias a la recolección de datos por parte de los usuarios y consumidores de la propia app."
   ]
  },
  {
   "cell_type": "code",
   "execution_count": 10,
   "id": "6be15d7b",
   "metadata": {},
   "outputs": [],
   "source": [
    "url = \"https://api.foursquare.com/v2/venues/explore\""
   ]
  },
  {
   "cell_type": "code",
   "execution_count": 11,
   "id": "5541ed7a",
   "metadata": {},
   "outputs": [],
   "source": [
    "client_id = open(\"./client_id.txt\").readlines()[0].rstrip()"
   ]
  },
  {
   "cell_type": "code",
   "execution_count": 12,
   "id": "2ce71b7c",
   "metadata": {},
   "outputs": [],
   "source": [
    "client_secret = open(\"./client_secret.txt\").readlines()[0].rstrip()"
   ]
  },
  {
   "cell_type": "code",
   "execution_count": 13,
   "id": "c834641c",
   "metadata": {},
   "outputs": [],
   "source": [
    "coordenadas = \"40.726155, -73.995625\""
   ]
  },
  {
   "cell_type": "markdown",
   "id": "f4469013",
   "metadata": {},
   "source": [
    "## 4. Estudio de las variables ✳️"
   ]
  },
  {
   "cell_type": "markdown",
   "id": "0a6052f5",
   "metadata": {},
   "source": [
    "Una vez que tenemos la conexión con la API vamos a comprobar que la oficina se sitúa en una localización óptima en base a los requisitos establecidos por nuestros empleados:\n",
    "- Aeropuertos y estaciones de autobuses para viajes a largas distancia y rutinarios\n",
    "- En lo respectivo al ocio: discotecas, restaurantes veganos y Starbucks\n",
    "- Colegios\n",
    "- Veterinario"
   ]
  },
  {
   "cell_type": "markdown",
   "id": "5d3aea1e",
   "metadata": {},
   "source": [
    "## 4.1 Aeropuerto ✈️"
   ]
  },
  {
   "cell_type": "code",
   "execution_count": 14,
   "id": "69e44397",
   "metadata": {},
   "outputs": [],
   "source": [
    "params1 = {\"client_id\" : client_id,\n",
    "              \"client_secret\" : client_secret,\n",
    "              \"v\": \"20180323\",\n",
    "              \"ll\": coordenadas,\n",
    "              \"query\": \"airport\",\n",
    "              \"limit\": 10,\n",
    "              \"radius\": 5000\n",
    "             }\n",
    "response1 = requests.get(url,params=params1).json()"
   ]
  },
  {
   "cell_type": "markdown",
   "id": "52b6a156",
   "metadata": {},
   "source": [
    "Tras pasar las queries y los parámetros por la API, obtenemos un diccionario de con dos keys \"meta\" y \"response\", lod datos que nosostros necesitamos se encuentran en \"response\"."
   ]
  },
  {
   "cell_type": "code",
   "execution_count": 15,
   "id": "b47cfb8f",
   "metadata": {},
   "outputs": [],
   "source": [
    "data1 = response1.get(\"response\")"
   ]
  },
  {
   "cell_type": "code",
   "execution_count": 16,
   "id": "5bb0c3bc",
   "metadata": {},
   "outputs": [],
   "source": [
    "decode1 = data1.get(\"groups\")[0] "
   ]
  },
  {
   "cell_type": "markdown",
   "id": "cbdebf3d",
   "metadata": {},
   "source": [
    "*Consideraciones: La razón por la que nos quedamos con el elemento 0 es porque los valores que quiero tomar se encuentran en una lista dentro del diccionarario (data1) anterior. Lo siguiente será extraer el nombre y las coordenadas, creando de nuevo una variable:*"
   ]
  },
  {
   "cell_type": "code",
   "execution_count": 17,
   "id": "0293d26a",
   "metadata": {},
   "outputs": [],
   "source": [
    "aeropuerto = decode1.get(\"items\")"
   ]
  },
  {
   "cell_type": "code",
   "execution_count": 18,
   "id": "7d5d843d",
   "metadata": {},
   "outputs": [],
   "source": [
    "mapa_nombre = [\"venue\", \"name\"]\n",
    "mapa_latitud = [\"venue\",\"location\",\"lat\"]\n",
    "mapa_longitud = [\"venue\",\"location\",\"lng\"]"
   ]
  },
  {
   "cell_type": "code",
   "execution_count": 19,
   "id": "ee250bd1",
   "metadata": {},
   "outputs": [],
   "source": [
    "#Fuentes\n",
    "def getFromDict(diccionario,mapa):\n",
    "    return reduce(operator.getitem,mapa,diccionario)"
   ]
  },
  {
   "cell_type": "code",
   "execution_count": 20,
   "id": "7a1b0acc",
   "metadata": {},
   "outputs": [],
   "source": [
    "#Extración de los datos\n",
    "aeropuertos = []\n",
    "for dic in aeropuerto:\n",
    "    lista = {}\n",
    "    lista[\"nombre\"] = getFromDict(dic, mapa_nombre)\n",
    "    lista[\"latitud\"] = getFromDict(dic, mapa_latitud)\n",
    "    lista[\"longitud\"] = getFromDict(dic, mapa_longitud)\n",
    "    aeropuertos.append(lista)"
   ]
  },
  {
   "cell_type": "code",
   "execution_count": 21,
   "id": "d33ee941",
   "metadata": {},
   "outputs": [
    {
     "data": {
      "text/html": [
       "<div>\n",
       "<style scoped>\n",
       "    .dataframe tbody tr th:only-of-type {\n",
       "        vertical-align: middle;\n",
       "    }\n",
       "\n",
       "    .dataframe tbody tr th {\n",
       "        vertical-align: top;\n",
       "    }\n",
       "\n",
       "    .dataframe thead th {\n",
       "        text-align: right;\n",
       "    }\n",
       "</style>\n",
       "<table border=\"1\" class=\"dataframe\">\n",
       "  <thead>\n",
       "    <tr style=\"text-align: right;\">\n",
       "      <th></th>\n",
       "      <th>nombre</th>\n",
       "      <th>latitud</th>\n",
       "      <th>longitud</th>\n",
       "    </tr>\n",
       "  </thead>\n",
       "  <tbody>\n",
       "    <tr>\n",
       "      <th>0</th>\n",
       "      <td>PH Helipad</td>\n",
       "      <td>40.732918</td>\n",
       "      <td>-73.995468</td>\n",
       "    </tr>\n",
       "    <tr>\n",
       "      <th>1</th>\n",
       "      <td>Corporate Express Travel</td>\n",
       "      <td>40.722429</td>\n",
       "      <td>-74.002404</td>\n",
       "    </tr>\n",
       "    <tr>\n",
       "      <th>2</th>\n",
       "      <td>Priority One Jets</td>\n",
       "      <td>40.709288</td>\n",
       "      <td>-74.006822</td>\n",
       "    </tr>\n",
       "    <tr>\n",
       "      <th>3</th>\n",
       "      <td>Atlantic Aviation</td>\n",
       "      <td>40.744048</td>\n",
       "      <td>-73.973925</td>\n",
       "    </tr>\n",
       "    <tr>\n",
       "      <th>4</th>\n",
       "      <td>Us Helicopter</td>\n",
       "      <td>40.702437</td>\n",
       "      <td>-74.013122</td>\n",
       "    </tr>\n",
       "    <tr>\n",
       "      <th>5</th>\n",
       "      <td>New York City Limo Service</td>\n",
       "      <td>40.745192</td>\n",
       "      <td>-73.983371</td>\n",
       "    </tr>\n",
       "    <tr>\n",
       "      <th>6</th>\n",
       "      <td>New Bell Car Service</td>\n",
       "      <td>40.693717</td>\n",
       "      <td>-73.960250</td>\n",
       "    </tr>\n",
       "    <tr>\n",
       "      <th>7</th>\n",
       "      <td>Times Square Limousine</td>\n",
       "      <td>40.752182</td>\n",
       "      <td>-74.003348</td>\n",
       "    </tr>\n",
       "    <tr>\n",
       "      <th>8</th>\n",
       "      <td>Charter Jet One</td>\n",
       "      <td>40.752684</td>\n",
       "      <td>-73.975902</td>\n",
       "    </tr>\n",
       "    <tr>\n",
       "      <th>9</th>\n",
       "      <td>Lower East Side Car Service</td>\n",
       "      <td>40.726151</td>\n",
       "      <td>-73.977334</td>\n",
       "    </tr>\n",
       "  </tbody>\n",
       "</table>\n",
       "</div>"
      ],
      "text/plain": [
       "                        nombre    latitud   longitud\n",
       "0                   PH Helipad  40.732918 -73.995468\n",
       "1     Corporate Express Travel  40.722429 -74.002404\n",
       "2            Priority One Jets  40.709288 -74.006822\n",
       "3            Atlantic Aviation  40.744048 -73.973925\n",
       "4                Us Helicopter  40.702437 -74.013122\n",
       "5   New York City Limo Service  40.745192 -73.983371\n",
       "6         New Bell Car Service  40.693717 -73.960250\n",
       "7       Times Square Limousine  40.752182 -74.003348\n",
       "8              Charter Jet One  40.752684 -73.975902\n",
       "9  Lower East Side Car Service  40.726151 -73.977334"
      ]
     },
     "execution_count": 21,
     "metadata": {},
     "output_type": "execute_result"
    }
   ],
   "source": [
    "#Creación del DataFrame\n",
    "df_aeropuertos = pd.DataFrame(aeropuertos)\n",
    "df_aeropuertos"
   ]
  },
  {
   "cell_type": "code",
   "execution_count": 22,
   "id": "5d394948",
   "metadata": {},
   "outputs": [
    {
     "data": {
      "text/html": [
       "<div>\n",
       "<style scoped>\n",
       "    .dataframe tbody tr th:only-of-type {\n",
       "        vertical-align: middle;\n",
       "    }\n",
       "\n",
       "    .dataframe tbody tr th {\n",
       "        vertical-align: top;\n",
       "    }\n",
       "\n",
       "    .dataframe thead th {\n",
       "        text-align: right;\n",
       "    }\n",
       "</style>\n",
       "<table border=\"1\" class=\"dataframe\">\n",
       "  <thead>\n",
       "    <tr style=\"text-align: right;\">\n",
       "      <th></th>\n",
       "      <th>nombre</th>\n",
       "      <th>latitud</th>\n",
       "      <th>longitud</th>\n",
       "      <th>geometry</th>\n",
       "    </tr>\n",
       "  </thead>\n",
       "  <tbody>\n",
       "    <tr>\n",
       "      <th>0</th>\n",
       "      <td>PH Helipad</td>\n",
       "      <td>40.732918</td>\n",
       "      <td>-73.995468</td>\n",
       "      <td>POINT (-73.99547 40.73292)</td>\n",
       "    </tr>\n",
       "    <tr>\n",
       "      <th>1</th>\n",
       "      <td>Corporate Express Travel</td>\n",
       "      <td>40.722429</td>\n",
       "      <td>-74.002404</td>\n",
       "      <td>POINT (-74.00240 40.72243)</td>\n",
       "    </tr>\n",
       "    <tr>\n",
       "      <th>2</th>\n",
       "      <td>Priority One Jets</td>\n",
       "      <td>40.709288</td>\n",
       "      <td>-74.006822</td>\n",
       "      <td>POINT (-74.00682 40.70929)</td>\n",
       "    </tr>\n",
       "    <tr>\n",
       "      <th>3</th>\n",
       "      <td>Atlantic Aviation</td>\n",
       "      <td>40.744048</td>\n",
       "      <td>-73.973925</td>\n",
       "      <td>POINT (-73.97393 40.74405)</td>\n",
       "    </tr>\n",
       "    <tr>\n",
       "      <th>4</th>\n",
       "      <td>Us Helicopter</td>\n",
       "      <td>40.702437</td>\n",
       "      <td>-74.013122</td>\n",
       "      <td>POINT (-74.01312 40.70244)</td>\n",
       "    </tr>\n",
       "    <tr>\n",
       "      <th>5</th>\n",
       "      <td>New York City Limo Service</td>\n",
       "      <td>40.745192</td>\n",
       "      <td>-73.983371</td>\n",
       "      <td>POINT (-73.98337 40.74519)</td>\n",
       "    </tr>\n",
       "    <tr>\n",
       "      <th>6</th>\n",
       "      <td>New Bell Car Service</td>\n",
       "      <td>40.693717</td>\n",
       "      <td>-73.960250</td>\n",
       "      <td>POINT (-73.96025 40.69372)</td>\n",
       "    </tr>\n",
       "    <tr>\n",
       "      <th>7</th>\n",
       "      <td>Times Square Limousine</td>\n",
       "      <td>40.752182</td>\n",
       "      <td>-74.003348</td>\n",
       "      <td>POINT (-74.00335 40.75218)</td>\n",
       "    </tr>\n",
       "    <tr>\n",
       "      <th>8</th>\n",
       "      <td>Charter Jet One</td>\n",
       "      <td>40.752684</td>\n",
       "      <td>-73.975902</td>\n",
       "      <td>POINT (-73.97590 40.75268)</td>\n",
       "    </tr>\n",
       "    <tr>\n",
       "      <th>9</th>\n",
       "      <td>Lower East Side Car Service</td>\n",
       "      <td>40.726151</td>\n",
       "      <td>-73.977334</td>\n",
       "      <td>POINT (-73.97733 40.72615)</td>\n",
       "    </tr>\n",
       "  </tbody>\n",
       "</table>\n",
       "</div>"
      ],
      "text/plain": [
       "                        nombre    latitud   longitud  \\\n",
       "0                   PH Helipad  40.732918 -73.995468   \n",
       "1     Corporate Express Travel  40.722429 -74.002404   \n",
       "2            Priority One Jets  40.709288 -74.006822   \n",
       "3            Atlantic Aviation  40.744048 -73.973925   \n",
       "4                Us Helicopter  40.702437 -74.013122   \n",
       "5   New York City Limo Service  40.745192 -73.983371   \n",
       "6         New Bell Car Service  40.693717 -73.960250   \n",
       "7       Times Square Limousine  40.752182 -74.003348   \n",
       "8              Charter Jet One  40.752684 -73.975902   \n",
       "9  Lower East Side Car Service  40.726151 -73.977334   \n",
       "\n",
       "                     geometry  \n",
       "0  POINT (-73.99547 40.73292)  \n",
       "1  POINT (-74.00240 40.72243)  \n",
       "2  POINT (-74.00682 40.70929)  \n",
       "3  POINT (-73.97393 40.74405)  \n",
       "4  POINT (-74.01312 40.70244)  \n",
       "5  POINT (-73.98337 40.74519)  \n",
       "6  POINT (-73.96025 40.69372)  \n",
       "7  POINT (-74.00335 40.75218)  \n",
       "8  POINT (-73.97590 40.75268)  \n",
       "9  POINT (-73.97733 40.72615)  "
      ]
     },
     "execution_count": 22,
     "metadata": {},
     "output_type": "execute_result"
    }
   ],
   "source": [
    "#Lo transformamos en GeoDataFrame\n",
    "gdf_aeropuertos = gpd.GeoDataFrame(df_aeropuertos, geometry = gpd.points_from_xy(df_aeropuertos.longitud, df_aeropuertos.latitud))\n",
    "gdf_aeropuertos"
   ]
  },
  {
   "cell_type": "code",
   "execution_count": 23,
   "id": "cbfc23d7",
   "metadata": {},
   "outputs": [],
   "source": [
    "#Map(Layer(gdf_aeropuertos,\"color:blue\",popup_hover = [popup_element(\"nombre\", \"Aeropuertos\")]))"
   ]
  },
  {
   "cell_type": "markdown",
   "id": "bf042435",
   "metadata": {},
   "source": [
    "🔴  **¿Cual será el más cercano?**"
   ]
  },
  {
   "cell_type": "code",
   "execution_count": 24,
   "id": "c6be0480",
   "metadata": {},
   "outputs": [
    {
     "name": "stderr",
     "output_type": "stream",
     "text": [
      "/usr/local/Caskroom/miniconda/base/lib/python3.8/site-packages/geopandas/geodataframe.py:1321: UserWarning: Geometry column does not contain geometry.\n",
      "  warnings.warn(\"Geometry column does not contain geometry.\")\n"
     ]
    },
    {
     "data": {
      "text/html": [
       "<div>\n",
       "<style scoped>\n",
       "    .dataframe tbody tr th:only-of-type {\n",
       "        vertical-align: middle;\n",
       "    }\n",
       "\n",
       "    .dataframe tbody tr th {\n",
       "        vertical-align: top;\n",
       "    }\n",
       "\n",
       "    .dataframe thead th {\n",
       "        text-align: right;\n",
       "    }\n",
       "</style>\n",
       "<table border=\"1\" class=\"dataframe\">\n",
       "  <thead>\n",
       "    <tr style=\"text-align: right;\">\n",
       "      <th></th>\n",
       "      <th>nombre</th>\n",
       "      <th>latitud</th>\n",
       "      <th>longitud</th>\n",
       "      <th>geometry</th>\n",
       "    </tr>\n",
       "  </thead>\n",
       "  <tbody>\n",
       "    <tr>\n",
       "      <th>0</th>\n",
       "      <td>PH Helipad</td>\n",
       "      <td>40.732918</td>\n",
       "      <td>-73.995468</td>\n",
       "      <td>{'type': 'Point', 'coordinates': (-73.99546813...</td>\n",
       "    </tr>\n",
       "    <tr>\n",
       "      <th>1</th>\n",
       "      <td>Corporate Express Travel</td>\n",
       "      <td>40.722429</td>\n",
       "      <td>-74.002404</td>\n",
       "      <td>{'type': 'Point', 'coordinates': (-74.00240421...</td>\n",
       "    </tr>\n",
       "    <tr>\n",
       "      <th>2</th>\n",
       "      <td>Priority One Jets</td>\n",
       "      <td>40.709288</td>\n",
       "      <td>-74.006822</td>\n",
       "      <td>{'type': 'Point', 'coordinates': (-74.00682172...</td>\n",
       "    </tr>\n",
       "    <tr>\n",
       "      <th>3</th>\n",
       "      <td>Atlantic Aviation</td>\n",
       "      <td>40.744048</td>\n",
       "      <td>-73.973925</td>\n",
       "      <td>{'type': 'Point', 'coordinates': (-73.97392544...</td>\n",
       "    </tr>\n",
       "    <tr>\n",
       "      <th>4</th>\n",
       "      <td>Us Helicopter</td>\n",
       "      <td>40.702437</td>\n",
       "      <td>-74.013122</td>\n",
       "      <td>{'type': 'Point', 'coordinates': (-74.01312247...</td>\n",
       "    </tr>\n",
       "    <tr>\n",
       "      <th>5</th>\n",
       "      <td>New York City Limo Service</td>\n",
       "      <td>40.745192</td>\n",
       "      <td>-73.983371</td>\n",
       "      <td>{'type': 'Point', 'coordinates': (-73.98337125...</td>\n",
       "    </tr>\n",
       "    <tr>\n",
       "      <th>6</th>\n",
       "      <td>New Bell Car Service</td>\n",
       "      <td>40.693717</td>\n",
       "      <td>-73.960250</td>\n",
       "      <td>{'type': 'Point', 'coordinates': (-73.96025, 4...</td>\n",
       "    </tr>\n",
       "    <tr>\n",
       "      <th>7</th>\n",
       "      <td>Times Square Limousine</td>\n",
       "      <td>40.752182</td>\n",
       "      <td>-74.003348</td>\n",
       "      <td>{'type': 'Point', 'coordinates': (-74.00334835...</td>\n",
       "    </tr>\n",
       "    <tr>\n",
       "      <th>8</th>\n",
       "      <td>Charter Jet One</td>\n",
       "      <td>40.752684</td>\n",
       "      <td>-73.975902</td>\n",
       "      <td>{'type': 'Point', 'coordinates': (-73.9759022,...</td>\n",
       "    </tr>\n",
       "    <tr>\n",
       "      <th>9</th>\n",
       "      <td>Lower East Side Car Service</td>\n",
       "      <td>40.726151</td>\n",
       "      <td>-73.977334</td>\n",
       "      <td>{'type': 'Point', 'coordinates': (-73.977334, ...</td>\n",
       "    </tr>\n",
       "  </tbody>\n",
       "</table>\n",
       "</div>"
      ],
      "text/plain": [
       "                        nombre    latitud   longitud  \\\n",
       "0                   PH Helipad  40.732918 -73.995468   \n",
       "1     Corporate Express Travel  40.722429 -74.002404   \n",
       "2            Priority One Jets  40.709288 -74.006822   \n",
       "3            Atlantic Aviation  40.744048 -73.973925   \n",
       "4                Us Helicopter  40.702437 -74.013122   \n",
       "5   New York City Limo Service  40.745192 -73.983371   \n",
       "6         New Bell Car Service  40.693717 -73.960250   \n",
       "7       Times Square Limousine  40.752182 -74.003348   \n",
       "8              Charter Jet One  40.752684 -73.975902   \n",
       "9  Lower East Side Car Service  40.726151 -73.977334   \n",
       "\n",
       "                                            geometry  \n",
       "0  {'type': 'Point', 'coordinates': (-73.99546813...  \n",
       "1  {'type': 'Point', 'coordinates': (-74.00240421...  \n",
       "2  {'type': 'Point', 'coordinates': (-74.00682172...  \n",
       "3  {'type': 'Point', 'coordinates': (-73.97392544...  \n",
       "4  {'type': 'Point', 'coordinates': (-74.01312247...  \n",
       "5  {'type': 'Point', 'coordinates': (-73.98337125...  \n",
       "6  {'type': 'Point', 'coordinates': (-73.96025, 4...  \n",
       "7  {'type': 'Point', 'coordinates': (-74.00334835...  \n",
       "8  {'type': 'Point', 'coordinates': (-73.9759022,...  \n",
       "9  {'type': 'Point', 'coordinates': (-73.977334, ...  "
      ]
     },
     "execution_count": 24,
     "metadata": {},
     "output_type": "execute_result"
    }
   ],
   "source": [
    "#Transformamos la información en tipo \"point\"\n",
    "gdf_aeropuertos['geometry']=gdf_aeropuertos['geometry'].apply(lambda x:shapely.geometry.mapping(x))\n",
    "gdf_aeropuertos"
   ]
  },
  {
   "cell_type": "markdown",
   "id": "a728b560",
   "metadata": {},
   "source": [
    "*Para realizar las oportunas geoqueries necesitamos crear una indexación geoespacial en MongoDB.*"
   ]
  },
  {
   "cell_type": "code",
   "execution_count": 25,
   "id": "59e52f7b",
   "metadata": {},
   "outputs": [
    {
     "data": {
      "text/plain": [
       "'geometry_2dsphere'"
      ]
     },
     "execution_count": 25,
     "metadata": {},
     "output_type": "execute_result"
    }
   ],
   "source": [
    "client = MongoClient()\n",
    "db = client[\"Ironhack-lab\"]\n",
    "collection1 = db.aeropuertos\n",
    "collection1.create_index ([(\"geometry\", GEOSPHERE)])"
   ]
  },
  {
   "cell_type": "markdown",
   "id": "e4eda9f2",
   "metadata": {},
   "source": [
    "Una vez creada la nueva colección introducimos los datos referentes a la lista de aeropuertos."
   ]
  },
  {
   "cell_type": "code",
   "execution_count": 26,
   "id": "6bd126f1",
   "metadata": {},
   "outputs": [
    {
     "data": {
      "text/plain": [
       "<pymongo.results.InsertManyResult at 0x7fb7b0e7e6c0>"
      ]
     },
     "execution_count": 26,
     "metadata": {},
     "output_type": "execute_result"
    }
   ],
   "source": [
    "data1 = gdf_aeropuertos.to_dict(orient=\"records\")\n",
    "collection1.insert_many(data1)"
   ]
  },
  {
   "cell_type": "markdown",
   "id": "614acfc7",
   "metadata": {},
   "source": [
    "Emplearemos la función la $near la cual nos indica el elemento más cercano en este caso a las coordenadas de la oficina.\n",
    "\n",
    "*Como la lista no las da ordenada de más cercano a más lejano tomaremos solo el primer elemento*"
   ]
  },
  {
   "cell_type": "code",
   "execution_count": 27,
   "id": "5c7bf951",
   "metadata": {},
   "outputs": [
    {
     "data": {
      "text/plain": [
       "{'_id': ObjectId('60d97f6fbaa8249db79ab578'),\n",
       " 'nombre': 'New Bell Car Service',\n",
       " 'latitud': 40.69371727,\n",
       " 'longitud': -73.96025,\n",
       " 'geometry': {'type': 'Point', 'coordinates': [-73.96025, 40.69371727]}}"
      ]
     },
     "execution_count": 27,
     "metadata": {},
     "output_type": "execute_result"
    }
   ],
   "source": [
    "cercano1 = db.aeropuertos.find({\"geometry\":{\"$near\":{\"type\":\"Point\", \"coordinates\":[40.726155, -73.995625]}}})\n",
    "list(cercano1)[0]"
   ]
  },
  {
   "cell_type": "markdown",
   "id": "4d056f38",
   "metadata": {},
   "source": [
    "Para calcular la distancia en km entre los dos puntos se empleará la fórmula de Harvesine implementada en una función a través de Python."
   ]
  },
  {
   "cell_type": "code",
   "execution_count": 28,
   "id": "4bd7ba1d",
   "metadata": {},
   "outputs": [],
   "source": [
    "def distancia(lat1, lon1, lat2, lon2):\n",
    "    rad=math.pi/180\n",
    "    dlat=lat2-lat1\n",
    "    dlon=lon2-lon1\n",
    "    R=6372.795477598\n",
    "    a=(math.sin(rad*dlat/2))**2 + math.cos(rad*lat1)*math.cos(rad*lat2)*(math.sin(rad*dlon/2))**2\n",
    "    distancia=2*R*math.asin(math.sqrt(a))\n",
    "    return distancia"
   ]
  },
  {
   "cell_type": "code",
   "execution_count": 29,
   "id": "a1030eae",
   "metadata": {},
   "outputs": [
    {
     "data": {
      "text/plain": [
       "4.691816306762731"
      ]
     },
     "execution_count": 29,
     "metadata": {},
     "output_type": "execute_result"
    }
   ],
   "source": [
    "distancia(40.72628,-73.995625,40.69371727,-73.96025)"
   ]
  },
  {
   "cell_type": "markdown",
   "id": "689e3ecc",
   "metadata": {},
   "source": [
    "✅ Resumen: El más cercano es \"New Bell Car Service\" a 4,69 km."
   ]
  },
  {
   "cell_type": "markdown",
   "id": "df28b5f7",
   "metadata": {},
   "source": [
    "## 4.2 Discotecas 💃"
   ]
  },
  {
   "cell_type": "markdown",
   "id": "55091f82",
   "metadata": {},
   "source": [
    "*Para realizar el estudio de esta variable y las siguientes se seguirá el mismo proceso que para obtener los datos relativos al aeropuerto.*"
   ]
  },
  {
   "cell_type": "code",
   "execution_count": 30,
   "id": "724b7e03",
   "metadata": {},
   "outputs": [],
   "source": [
    "params2 = {\"client_id\" : client_id,\n",
    "              \"client_secret\" : client_secret,\n",
    "              \"v\": \"20180323\",\n",
    "              \"ll\": coordenadas,\n",
    "              \"query\": \"nightclub\",\n",
    "              \"limit\": 10,\n",
    "              \"radius\": 500\n",
    "             }\n",
    "response2 = requests.get(url,params=params2).json()"
   ]
  },
  {
   "cell_type": "code",
   "execution_count": 31,
   "id": "bff9c5ac",
   "metadata": {},
   "outputs": [],
   "source": [
    "data2 = response2.get(\"response\")\n",
    "decode2 = data2.get(\"groups\")[0] \n",
    "discoteca = decode2.get(\"items\")"
   ]
  },
  {
   "cell_type": "code",
   "execution_count": 32,
   "id": "5919b48b",
   "metadata": {},
   "outputs": [],
   "source": [
    "#Extración de los datos\n",
    "discotecas = []\n",
    "for dic in discoteca:\n",
    "    lista = {}\n",
    "    lista[\"nombre\"] = getFromDict(dic, mapa_nombre)\n",
    "    lista[\"latitud\"] = getFromDict(dic, mapa_latitud)\n",
    "    lista[\"longitud\"] = getFromDict(dic, mapa_longitud)\n",
    "    discotecas.append(lista)"
   ]
  },
  {
   "cell_type": "code",
   "execution_count": 33,
   "id": "f461e47b",
   "metadata": {},
   "outputs": [
    {
     "data": {
      "text/html": [
       "<div>\n",
       "<style scoped>\n",
       "    .dataframe tbody tr th:only-of-type {\n",
       "        vertical-align: middle;\n",
       "    }\n",
       "\n",
       "    .dataframe tbody tr th {\n",
       "        vertical-align: top;\n",
       "    }\n",
       "\n",
       "    .dataframe thead th {\n",
       "        text-align: right;\n",
       "    }\n",
       "</style>\n",
       "<table border=\"1\" class=\"dataframe\">\n",
       "  <thead>\n",
       "    <tr style=\"text-align: right;\">\n",
       "      <th></th>\n",
       "      <th>nombre</th>\n",
       "      <th>latitud</th>\n",
       "      <th>longitud</th>\n",
       "    </tr>\n",
       "  </thead>\n",
       "  <tbody>\n",
       "    <tr>\n",
       "      <th>0</th>\n",
       "      <td>Public Arts</td>\n",
       "      <td>40.722948</td>\n",
       "      <td>-73.991726</td>\n",
       "    </tr>\n",
       "    <tr>\n",
       "      <th>1</th>\n",
       "      <td>ACME Basement</td>\n",
       "      <td>40.727362</td>\n",
       "      <td>-73.993846</td>\n",
       "    </tr>\n",
       "    <tr>\n",
       "      <th>2</th>\n",
       "      <td>Von</td>\n",
       "      <td>40.725300</td>\n",
       "      <td>-73.992508</td>\n",
       "    </tr>\n",
       "    <tr>\n",
       "      <th>3</th>\n",
       "      <td>8 Bond Street</td>\n",
       "      <td>40.726730</td>\n",
       "      <td>-73.994224</td>\n",
       "    </tr>\n",
       "    <tr>\n",
       "      <th>4</th>\n",
       "      <td>The Loft</td>\n",
       "      <td>40.726084</td>\n",
       "      <td>-73.996820</td>\n",
       "    </tr>\n",
       "    <tr>\n",
       "      <th>5</th>\n",
       "      <td>Le Poisson Rouge</td>\n",
       "      <td>40.728490</td>\n",
       "      <td>-73.999952</td>\n",
       "    </tr>\n",
       "    <tr>\n",
       "      <th>6</th>\n",
       "      <td>The Gallery at LPR</td>\n",
       "      <td>40.728409</td>\n",
       "      <td>-73.999977</td>\n",
       "    </tr>\n",
       "    <tr>\n",
       "      <th>7</th>\n",
       "      <td>Negril Village</td>\n",
       "      <td>40.729566</td>\n",
       "      <td>-73.998304</td>\n",
       "    </tr>\n",
       "    <tr>\n",
       "      <th>8</th>\n",
       "      <td>Carroll Place</td>\n",
       "      <td>40.728544</td>\n",
       "      <td>-73.999834</td>\n",
       "    </tr>\n",
       "    <tr>\n",
       "      <th>9</th>\n",
       "      <td>Terra Blues</td>\n",
       "      <td>40.728288</td>\n",
       "      <td>-73.999381</td>\n",
       "    </tr>\n",
       "  </tbody>\n",
       "</table>\n",
       "</div>"
      ],
      "text/plain": [
       "               nombre    latitud   longitud\n",
       "0         Public Arts  40.722948 -73.991726\n",
       "1       ACME Basement  40.727362 -73.993846\n",
       "2                 Von  40.725300 -73.992508\n",
       "3       8 Bond Street  40.726730 -73.994224\n",
       "4            The Loft  40.726084 -73.996820\n",
       "5    Le Poisson Rouge  40.728490 -73.999952\n",
       "6  The Gallery at LPR  40.728409 -73.999977\n",
       "7      Negril Village  40.729566 -73.998304\n",
       "8       Carroll Place  40.728544 -73.999834\n",
       "9         Terra Blues  40.728288 -73.999381"
      ]
     },
     "execution_count": 33,
     "metadata": {},
     "output_type": "execute_result"
    }
   ],
   "source": [
    "#Creación del DataFrame\n",
    "df_discotecas = pd.DataFrame(discotecas)\n",
    "df_discotecas"
   ]
  },
  {
   "cell_type": "code",
   "execution_count": 34,
   "id": "89e0d32b",
   "metadata": {},
   "outputs": [
    {
     "data": {
      "text/html": [
       "<div>\n",
       "<style scoped>\n",
       "    .dataframe tbody tr th:only-of-type {\n",
       "        vertical-align: middle;\n",
       "    }\n",
       "\n",
       "    .dataframe tbody tr th {\n",
       "        vertical-align: top;\n",
       "    }\n",
       "\n",
       "    .dataframe thead th {\n",
       "        text-align: right;\n",
       "    }\n",
       "</style>\n",
       "<table border=\"1\" class=\"dataframe\">\n",
       "  <thead>\n",
       "    <tr style=\"text-align: right;\">\n",
       "      <th></th>\n",
       "      <th>nombre</th>\n",
       "      <th>latitud</th>\n",
       "      <th>longitud</th>\n",
       "      <th>geometry</th>\n",
       "    </tr>\n",
       "  </thead>\n",
       "  <tbody>\n",
       "    <tr>\n",
       "      <th>0</th>\n",
       "      <td>Public Arts</td>\n",
       "      <td>40.722948</td>\n",
       "      <td>-73.991726</td>\n",
       "      <td>POINT (-73.99173 40.72295)</td>\n",
       "    </tr>\n",
       "    <tr>\n",
       "      <th>1</th>\n",
       "      <td>ACME Basement</td>\n",
       "      <td>40.727362</td>\n",
       "      <td>-73.993846</td>\n",
       "      <td>POINT (-73.99385 40.72736)</td>\n",
       "    </tr>\n",
       "    <tr>\n",
       "      <th>2</th>\n",
       "      <td>Von</td>\n",
       "      <td>40.725300</td>\n",
       "      <td>-73.992508</td>\n",
       "      <td>POINT (-73.99251 40.72530)</td>\n",
       "    </tr>\n",
       "    <tr>\n",
       "      <th>3</th>\n",
       "      <td>8 Bond Street</td>\n",
       "      <td>40.726730</td>\n",
       "      <td>-73.994224</td>\n",
       "      <td>POINT (-73.99422 40.72673)</td>\n",
       "    </tr>\n",
       "    <tr>\n",
       "      <th>4</th>\n",
       "      <td>The Loft</td>\n",
       "      <td>40.726084</td>\n",
       "      <td>-73.996820</td>\n",
       "      <td>POINT (-73.99682 40.72608)</td>\n",
       "    </tr>\n",
       "    <tr>\n",
       "      <th>5</th>\n",
       "      <td>Le Poisson Rouge</td>\n",
       "      <td>40.728490</td>\n",
       "      <td>-73.999952</td>\n",
       "      <td>POINT (-73.99995 40.72849)</td>\n",
       "    </tr>\n",
       "    <tr>\n",
       "      <th>6</th>\n",
       "      <td>The Gallery at LPR</td>\n",
       "      <td>40.728409</td>\n",
       "      <td>-73.999977</td>\n",
       "      <td>POINT (-73.99998 40.72841)</td>\n",
       "    </tr>\n",
       "    <tr>\n",
       "      <th>7</th>\n",
       "      <td>Negril Village</td>\n",
       "      <td>40.729566</td>\n",
       "      <td>-73.998304</td>\n",
       "      <td>POINT (-73.99830 40.72957)</td>\n",
       "    </tr>\n",
       "    <tr>\n",
       "      <th>8</th>\n",
       "      <td>Carroll Place</td>\n",
       "      <td>40.728544</td>\n",
       "      <td>-73.999834</td>\n",
       "      <td>POINT (-73.99983 40.72854)</td>\n",
       "    </tr>\n",
       "    <tr>\n",
       "      <th>9</th>\n",
       "      <td>Terra Blues</td>\n",
       "      <td>40.728288</td>\n",
       "      <td>-73.999381</td>\n",
       "      <td>POINT (-73.99938 40.72829)</td>\n",
       "    </tr>\n",
       "  </tbody>\n",
       "</table>\n",
       "</div>"
      ],
      "text/plain": [
       "               nombre    latitud   longitud                    geometry\n",
       "0         Public Arts  40.722948 -73.991726  POINT (-73.99173 40.72295)\n",
       "1       ACME Basement  40.727362 -73.993846  POINT (-73.99385 40.72736)\n",
       "2                 Von  40.725300 -73.992508  POINT (-73.99251 40.72530)\n",
       "3       8 Bond Street  40.726730 -73.994224  POINT (-73.99422 40.72673)\n",
       "4            The Loft  40.726084 -73.996820  POINT (-73.99682 40.72608)\n",
       "5    Le Poisson Rouge  40.728490 -73.999952  POINT (-73.99995 40.72849)\n",
       "6  The Gallery at LPR  40.728409 -73.999977  POINT (-73.99998 40.72841)\n",
       "7      Negril Village  40.729566 -73.998304  POINT (-73.99830 40.72957)\n",
       "8       Carroll Place  40.728544 -73.999834  POINT (-73.99983 40.72854)\n",
       "9         Terra Blues  40.728288 -73.999381  POINT (-73.99938 40.72829)"
      ]
     },
     "execution_count": 34,
     "metadata": {},
     "output_type": "execute_result"
    }
   ],
   "source": [
    "#Lo transformamos en GeoDataFrame\n",
    "gdf_discotecas = gpd.GeoDataFrame(df_discotecas, geometry = gpd.points_from_xy(df_discotecas.longitud, df_discotecas.latitud))\n",
    "gdf_discotecas"
   ]
  },
  {
   "cell_type": "code",
   "execution_count": 35,
   "id": "c29f6e20",
   "metadata": {},
   "outputs": [],
   "source": [
    "#Map(Layer(gdf_discotecas,\"color:pink\",popup_hover = [popup_element(\"nombre\", \"Discotecas\")]))"
   ]
  },
  {
   "cell_type": "markdown",
   "id": "f82aa335",
   "metadata": {},
   "source": [
    "🔴 **¿Cual será la más cercano?** "
   ]
  },
  {
   "cell_type": "code",
   "execution_count": 36,
   "id": "08de8344",
   "metadata": {},
   "outputs": [
    {
     "name": "stderr",
     "output_type": "stream",
     "text": [
      "/usr/local/Caskroom/miniconda/base/lib/python3.8/site-packages/geopandas/geodataframe.py:1321: UserWarning: Geometry column does not contain geometry.\n",
      "  warnings.warn(\"Geometry column does not contain geometry.\")\n"
     ]
    },
    {
     "data": {
      "text/html": [
       "<div>\n",
       "<style scoped>\n",
       "    .dataframe tbody tr th:only-of-type {\n",
       "        vertical-align: middle;\n",
       "    }\n",
       "\n",
       "    .dataframe tbody tr th {\n",
       "        vertical-align: top;\n",
       "    }\n",
       "\n",
       "    .dataframe thead th {\n",
       "        text-align: right;\n",
       "    }\n",
       "</style>\n",
       "<table border=\"1\" class=\"dataframe\">\n",
       "  <thead>\n",
       "    <tr style=\"text-align: right;\">\n",
       "      <th></th>\n",
       "      <th>nombre</th>\n",
       "      <th>latitud</th>\n",
       "      <th>longitud</th>\n",
       "      <th>geometry</th>\n",
       "    </tr>\n",
       "  </thead>\n",
       "  <tbody>\n",
       "    <tr>\n",
       "      <th>0</th>\n",
       "      <td>Public Arts</td>\n",
       "      <td>40.722948</td>\n",
       "      <td>-73.991726</td>\n",
       "      <td>{'type': 'Point', 'coordinates': (-73.99172649...</td>\n",
       "    </tr>\n",
       "    <tr>\n",
       "      <th>1</th>\n",
       "      <td>ACME Basement</td>\n",
       "      <td>40.727362</td>\n",
       "      <td>-73.993846</td>\n",
       "      <td>{'type': 'Point', 'coordinates': (-73.99384600...</td>\n",
       "    </tr>\n",
       "    <tr>\n",
       "      <th>2</th>\n",
       "      <td>Von</td>\n",
       "      <td>40.725300</td>\n",
       "      <td>-73.992508</td>\n",
       "      <td>{'type': 'Point', 'coordinates': (-73.99250765...</td>\n",
       "    </tr>\n",
       "    <tr>\n",
       "      <th>3</th>\n",
       "      <td>8 Bond Street</td>\n",
       "      <td>40.726730</td>\n",
       "      <td>-73.994224</td>\n",
       "      <td>{'type': 'Point', 'coordinates': (-73.994224, ...</td>\n",
       "    </tr>\n",
       "    <tr>\n",
       "      <th>4</th>\n",
       "      <td>The Loft</td>\n",
       "      <td>40.726084</td>\n",
       "      <td>-73.996820</td>\n",
       "      <td>{'type': 'Point', 'coordinates': (-73.99682, 4...</td>\n",
       "    </tr>\n",
       "    <tr>\n",
       "      <th>5</th>\n",
       "      <td>Le Poisson Rouge</td>\n",
       "      <td>40.728490</td>\n",
       "      <td>-73.999952</td>\n",
       "      <td>{'type': 'Point', 'coordinates': (-73.99995206...</td>\n",
       "    </tr>\n",
       "    <tr>\n",
       "      <th>6</th>\n",
       "      <td>The Gallery at LPR</td>\n",
       "      <td>40.728409</td>\n",
       "      <td>-73.999977</td>\n",
       "      <td>{'type': 'Point', 'coordinates': (-73.99997711...</td>\n",
       "    </tr>\n",
       "    <tr>\n",
       "      <th>7</th>\n",
       "      <td>Negril Village</td>\n",
       "      <td>40.729566</td>\n",
       "      <td>-73.998304</td>\n",
       "      <td>{'type': 'Point', 'coordinates': (-73.99830435...</td>\n",
       "    </tr>\n",
       "    <tr>\n",
       "      <th>8</th>\n",
       "      <td>Carroll Place</td>\n",
       "      <td>40.728544</td>\n",
       "      <td>-73.999834</td>\n",
       "      <td>{'type': 'Point', 'coordinates': (-73.99983388...</td>\n",
       "    </tr>\n",
       "    <tr>\n",
       "      <th>9</th>\n",
       "      <td>Terra Blues</td>\n",
       "      <td>40.728288</td>\n",
       "      <td>-73.999381</td>\n",
       "      <td>{'type': 'Point', 'coordinates': (-73.99938089...</td>\n",
       "    </tr>\n",
       "  </tbody>\n",
       "</table>\n",
       "</div>"
      ],
      "text/plain": [
       "               nombre    latitud   longitud  \\\n",
       "0         Public Arts  40.722948 -73.991726   \n",
       "1       ACME Basement  40.727362 -73.993846   \n",
       "2                 Von  40.725300 -73.992508   \n",
       "3       8 Bond Street  40.726730 -73.994224   \n",
       "4            The Loft  40.726084 -73.996820   \n",
       "5    Le Poisson Rouge  40.728490 -73.999952   \n",
       "6  The Gallery at LPR  40.728409 -73.999977   \n",
       "7      Negril Village  40.729566 -73.998304   \n",
       "8       Carroll Place  40.728544 -73.999834   \n",
       "9         Terra Blues  40.728288 -73.999381   \n",
       "\n",
       "                                            geometry  \n",
       "0  {'type': 'Point', 'coordinates': (-73.99172649...  \n",
       "1  {'type': 'Point', 'coordinates': (-73.99384600...  \n",
       "2  {'type': 'Point', 'coordinates': (-73.99250765...  \n",
       "3  {'type': 'Point', 'coordinates': (-73.994224, ...  \n",
       "4  {'type': 'Point', 'coordinates': (-73.99682, 4...  \n",
       "5  {'type': 'Point', 'coordinates': (-73.99995206...  \n",
       "6  {'type': 'Point', 'coordinates': (-73.99997711...  \n",
       "7  {'type': 'Point', 'coordinates': (-73.99830435...  \n",
       "8  {'type': 'Point', 'coordinates': (-73.99983388...  \n",
       "9  {'type': 'Point', 'coordinates': (-73.99938089...  "
      ]
     },
     "execution_count": 36,
     "metadata": {},
     "output_type": "execute_result"
    }
   ],
   "source": [
    "gdf_discotecas['geometry'] = gdf_discotecas['geometry'].apply(lambda x:shapely.geometry.mapping(x))\n",
    "gdf_discotecas"
   ]
  },
  {
   "cell_type": "code",
   "execution_count": 37,
   "id": "72d6e8b5",
   "metadata": {},
   "outputs": [
    {
     "data": {
      "text/plain": [
       "'geometry_2dsphere'"
      ]
     },
     "execution_count": 37,
     "metadata": {},
     "output_type": "execute_result"
    }
   ],
   "source": [
    "client = MongoClient()\n",
    "db = client[\"Ironhack-lab\"]\n",
    "collection2 = db.discotecas\n",
    "collection2.create_index ([(\"geometry\", GEOSPHERE)])"
   ]
  },
  {
   "cell_type": "code",
   "execution_count": 38,
   "id": "6020f8c8",
   "metadata": {},
   "outputs": [
    {
     "data": {
      "text/plain": [
       "<pymongo.results.InsertManyResult at 0x7fb7a0b02140>"
      ]
     },
     "execution_count": 38,
     "metadata": {},
     "output_type": "execute_result"
    }
   ],
   "source": [
    "data2 = gdf_discotecas.to_dict(orient=\"records\")\n",
    "collection2.insert_many(data2)"
   ]
  },
  {
   "cell_type": "code",
   "execution_count": 39,
   "id": "43ff95b0",
   "metadata": {},
   "outputs": [
    {
     "data": {
      "text/plain": [
       "{'_id': ObjectId('60d97f98baa8249db79ab57d'),\n",
       " 'nombre': 'Public Arts',\n",
       " 'latitud': 40.72294781563586,\n",
       " 'longitud': -73.99172649617472,\n",
       " 'geometry': {'type': 'Point',\n",
       "  'coordinates': [-73.99172649617472, 40.72294781563586]}}"
      ]
     },
     "execution_count": 39,
     "metadata": {},
     "output_type": "execute_result"
    }
   ],
   "source": [
    "cercano2 = db.discotecas.find({\"geometry\":{\"$near\":{\"type\":\"Point\", \"coordinates\":[40.726155, -73.995625],\"$minDistance\": 500, \"$maxDistance\":300}}})\n",
    "list(cercano2)[0]"
   ]
  },
  {
   "cell_type": "code",
   "execution_count": 40,
   "id": "a627add4",
   "metadata": {},
   "outputs": [
    {
     "data": {
      "text/plain": [
       "0.4953317318767005"
      ]
     },
     "execution_count": 40,
     "metadata": {},
     "output_type": "execute_result"
    }
   ],
   "source": [
    "distancia(40.72628,-73.995625,40.72294781563586,-73.99172649617472)"
   ]
  },
  {
   "cell_type": "markdown",
   "id": "d2d14854",
   "metadata": {},
   "source": [
    "✅ Resumen: La discoteca más cercana es \"Public Arts\" a unos 495 metros."
   ]
  },
  {
   "cell_type": "markdown",
   "id": "c8123cd8",
   "metadata": {},
   "source": [
    "## 4.3 Starbucks ☕"
   ]
  },
  {
   "cell_type": "code",
   "execution_count": 41,
   "id": "b1f45bcf",
   "metadata": {},
   "outputs": [],
   "source": [
    "params3 = {\"client_id\" : client_id,\n",
    "              \"client_secret\" : client_secret,\n",
    "              \"v\": \"20180323\",\n",
    "              \"ll\": coordenadas,\n",
    "              \"query\": \"starbucks\",\n",
    "              \"limit\": 10,\n",
    "              \"radius\": 500\n",
    "             }\n",
    "response3 = requests.get(url,params=params3).json()"
   ]
  },
  {
   "cell_type": "code",
   "execution_count": 42,
   "id": "eec026bf",
   "metadata": {},
   "outputs": [],
   "source": [
    "data3 = response3.get(\"response\")\n",
    "decode3 = data3.get(\"groups\")[0] \n",
    "starbuck = decode3.get(\"items\")"
   ]
  },
  {
   "cell_type": "code",
   "execution_count": 43,
   "id": "7158a10b",
   "metadata": {},
   "outputs": [],
   "source": [
    "#Extración de los datos\n",
    "starbucks = []\n",
    "for dic in starbuck:\n",
    "    lista = {}\n",
    "    lista[\"nombre\"] = getFromDict(dic, mapa_nombre)\n",
    "    lista[\"latitud\"] = getFromDict(dic, mapa_latitud)\n",
    "    lista[\"longitud\"] = getFromDict(dic, mapa_longitud)\n",
    "    starbucks.append(lista)"
   ]
  },
  {
   "cell_type": "code",
   "execution_count": 44,
   "id": "ec1f835f",
   "metadata": {},
   "outputs": [
    {
     "data": {
      "text/html": [
       "<div>\n",
       "<style scoped>\n",
       "    .dataframe tbody tr th:only-of-type {\n",
       "        vertical-align: middle;\n",
       "    }\n",
       "\n",
       "    .dataframe tbody tr th {\n",
       "        vertical-align: top;\n",
       "    }\n",
       "\n",
       "    .dataframe thead th {\n",
       "        text-align: right;\n",
       "    }\n",
       "</style>\n",
       "<table border=\"1\" class=\"dataframe\">\n",
       "  <thead>\n",
       "    <tr style=\"text-align: right;\">\n",
       "      <th></th>\n",
       "      <th>nombre</th>\n",
       "      <th>latitud</th>\n",
       "      <th>longitud</th>\n",
       "    </tr>\n",
       "  </thead>\n",
       "  <tbody>\n",
       "    <tr>\n",
       "      <th>0</th>\n",
       "      <td>Starbucks Reserve</td>\n",
       "      <td>40.729943</td>\n",
       "      <td>-73.993913</td>\n",
       "    </tr>\n",
       "    <tr>\n",
       "      <th>1</th>\n",
       "      <td>Starbucks</td>\n",
       "      <td>40.727192</td>\n",
       "      <td>-73.995460</td>\n",
       "    </tr>\n",
       "    <tr>\n",
       "      <th>2</th>\n",
       "      <td>Starbucks</td>\n",
       "      <td>40.726890</td>\n",
       "      <td>-74.000260</td>\n",
       "    </tr>\n",
       "    <tr>\n",
       "      <th>3</th>\n",
       "      <td>Starbucks</td>\n",
       "      <td>40.722585</td>\n",
       "      <td>-73.998023</td>\n",
       "    </tr>\n",
       "    <tr>\n",
       "      <th>4</th>\n",
       "      <td>Starbucks</td>\n",
       "      <td>40.729655</td>\n",
       "      <td>-73.996179</td>\n",
       "    </tr>\n",
       "  </tbody>\n",
       "</table>\n",
       "</div>"
      ],
      "text/plain": [
       "              nombre    latitud   longitud\n",
       "0  Starbucks Reserve  40.729943 -73.993913\n",
       "1          Starbucks  40.727192 -73.995460\n",
       "2          Starbucks  40.726890 -74.000260\n",
       "3          Starbucks  40.722585 -73.998023\n",
       "4          Starbucks  40.729655 -73.996179"
      ]
     },
     "execution_count": 44,
     "metadata": {},
     "output_type": "execute_result"
    }
   ],
   "source": [
    "df_starbucks = pd.DataFrame(starbucks)\n",
    "df_starbucks"
   ]
  },
  {
   "cell_type": "code",
   "execution_count": 45,
   "id": "9dd91d15",
   "metadata": {},
   "outputs": [
    {
     "data": {
      "text/html": [
       "<div>\n",
       "<style scoped>\n",
       "    .dataframe tbody tr th:only-of-type {\n",
       "        vertical-align: middle;\n",
       "    }\n",
       "\n",
       "    .dataframe tbody tr th {\n",
       "        vertical-align: top;\n",
       "    }\n",
       "\n",
       "    .dataframe thead th {\n",
       "        text-align: right;\n",
       "    }\n",
       "</style>\n",
       "<table border=\"1\" class=\"dataframe\">\n",
       "  <thead>\n",
       "    <tr style=\"text-align: right;\">\n",
       "      <th></th>\n",
       "      <th>nombre</th>\n",
       "      <th>latitud</th>\n",
       "      <th>longitud</th>\n",
       "      <th>geometry</th>\n",
       "    </tr>\n",
       "  </thead>\n",
       "  <tbody>\n",
       "    <tr>\n",
       "      <th>0</th>\n",
       "      <td>Starbucks Reserve</td>\n",
       "      <td>40.729943</td>\n",
       "      <td>-73.993913</td>\n",
       "      <td>POINT (-73.99391 40.72994)</td>\n",
       "    </tr>\n",
       "    <tr>\n",
       "      <th>1</th>\n",
       "      <td>Starbucks</td>\n",
       "      <td>40.727192</td>\n",
       "      <td>-73.995460</td>\n",
       "      <td>POINT (-73.99546 40.72719)</td>\n",
       "    </tr>\n",
       "    <tr>\n",
       "      <th>2</th>\n",
       "      <td>Starbucks</td>\n",
       "      <td>40.726890</td>\n",
       "      <td>-74.000260</td>\n",
       "      <td>POINT (-74.00026 40.72689)</td>\n",
       "    </tr>\n",
       "    <tr>\n",
       "      <th>3</th>\n",
       "      <td>Starbucks</td>\n",
       "      <td>40.722585</td>\n",
       "      <td>-73.998023</td>\n",
       "      <td>POINT (-73.99802 40.72258)</td>\n",
       "    </tr>\n",
       "    <tr>\n",
       "      <th>4</th>\n",
       "      <td>Starbucks</td>\n",
       "      <td>40.729655</td>\n",
       "      <td>-73.996179</td>\n",
       "      <td>POINT (-73.99618 40.72966)</td>\n",
       "    </tr>\n",
       "  </tbody>\n",
       "</table>\n",
       "</div>"
      ],
      "text/plain": [
       "              nombre    latitud   longitud                    geometry\n",
       "0  Starbucks Reserve  40.729943 -73.993913  POINT (-73.99391 40.72994)\n",
       "1          Starbucks  40.727192 -73.995460  POINT (-73.99546 40.72719)\n",
       "2          Starbucks  40.726890 -74.000260  POINT (-74.00026 40.72689)\n",
       "3          Starbucks  40.722585 -73.998023  POINT (-73.99802 40.72258)\n",
       "4          Starbucks  40.729655 -73.996179  POINT (-73.99618 40.72966)"
      ]
     },
     "execution_count": 45,
     "metadata": {},
     "output_type": "execute_result"
    }
   ],
   "source": [
    "#Lo transformamos en GeoDataFrame\n",
    "gdf_starbucks = gpd.GeoDataFrame(df_starbucks, geometry = gpd.points_from_xy(df_starbucks.longitud, df_starbucks.latitud))\n",
    "gdf_starbucks"
   ]
  },
  {
   "cell_type": "code",
   "execution_count": 46,
   "id": "89242460",
   "metadata": {},
   "outputs": [],
   "source": [
    "#Map(Layer(gdf_starbucks,\"color:darkgreen\",popup_hover = [popup_element(\"nombre\", \"Starbucks\")]))"
   ]
  },
  {
   "cell_type": "markdown",
   "id": "a27a6b3a",
   "metadata": {},
   "source": [
    "🔴 La empresa dispone de 5 Starbucks cercanos en un radio de 500 metros. Sin embargo de todos ellos:  \n",
    "**¿Cual será el más cercano?** "
   ]
  },
  {
   "cell_type": "code",
   "execution_count": 47,
   "id": "0d7087cc",
   "metadata": {},
   "outputs": [
    {
     "name": "stderr",
     "output_type": "stream",
     "text": [
      "/usr/local/Caskroom/miniconda/base/lib/python3.8/site-packages/geopandas/geodataframe.py:1321: UserWarning: Geometry column does not contain geometry.\n",
      "  warnings.warn(\"Geometry column does not contain geometry.\")\n"
     ]
    },
    {
     "data": {
      "text/html": [
       "<div>\n",
       "<style scoped>\n",
       "    .dataframe tbody tr th:only-of-type {\n",
       "        vertical-align: middle;\n",
       "    }\n",
       "\n",
       "    .dataframe tbody tr th {\n",
       "        vertical-align: top;\n",
       "    }\n",
       "\n",
       "    .dataframe thead th {\n",
       "        text-align: right;\n",
       "    }\n",
       "</style>\n",
       "<table border=\"1\" class=\"dataframe\">\n",
       "  <thead>\n",
       "    <tr style=\"text-align: right;\">\n",
       "      <th></th>\n",
       "      <th>nombre</th>\n",
       "      <th>latitud</th>\n",
       "      <th>longitud</th>\n",
       "      <th>geometry</th>\n",
       "    </tr>\n",
       "  </thead>\n",
       "  <tbody>\n",
       "    <tr>\n",
       "      <th>0</th>\n",
       "      <td>Starbucks Reserve</td>\n",
       "      <td>40.729943</td>\n",
       "      <td>-73.993913</td>\n",
       "      <td>{'type': 'Point', 'coordinates': (-73.99391319...</td>\n",
       "    </tr>\n",
       "    <tr>\n",
       "      <th>1</th>\n",
       "      <td>Starbucks</td>\n",
       "      <td>40.727192</td>\n",
       "      <td>-73.995460</td>\n",
       "      <td>{'type': 'Point', 'coordinates': (-73.99546, 4...</td>\n",
       "    </tr>\n",
       "    <tr>\n",
       "      <th>2</th>\n",
       "      <td>Starbucks</td>\n",
       "      <td>40.726890</td>\n",
       "      <td>-74.000260</td>\n",
       "      <td>{'type': 'Point', 'coordinates': (-74.00026, 4...</td>\n",
       "    </tr>\n",
       "    <tr>\n",
       "      <th>3</th>\n",
       "      <td>Starbucks</td>\n",
       "      <td>40.722585</td>\n",
       "      <td>-73.998023</td>\n",
       "      <td>{'type': 'Point', 'coordinates': (-73.99802280...</td>\n",
       "    </tr>\n",
       "    <tr>\n",
       "      <th>4</th>\n",
       "      <td>Starbucks</td>\n",
       "      <td>40.729655</td>\n",
       "      <td>-73.996179</td>\n",
       "      <td>{'type': 'Point', 'coordinates': (-73.996179, ...</td>\n",
       "    </tr>\n",
       "  </tbody>\n",
       "</table>\n",
       "</div>"
      ],
      "text/plain": [
       "              nombre    latitud   longitud  \\\n",
       "0  Starbucks Reserve  40.729943 -73.993913   \n",
       "1          Starbucks  40.727192 -73.995460   \n",
       "2          Starbucks  40.726890 -74.000260   \n",
       "3          Starbucks  40.722585 -73.998023   \n",
       "4          Starbucks  40.729655 -73.996179   \n",
       "\n",
       "                                            geometry  \n",
       "0  {'type': 'Point', 'coordinates': (-73.99391319...  \n",
       "1  {'type': 'Point', 'coordinates': (-73.99546, 4...  \n",
       "2  {'type': 'Point', 'coordinates': (-74.00026, 4...  \n",
       "3  {'type': 'Point', 'coordinates': (-73.99802280...  \n",
       "4  {'type': 'Point', 'coordinates': (-73.996179, ...  "
      ]
     },
     "execution_count": 47,
     "metadata": {},
     "output_type": "execute_result"
    }
   ],
   "source": [
    "gdf_starbucks['geometry'] = gdf_starbucks['geometry'].apply(lambda x:shapely.geometry.mapping(x))\n",
    "gdf_starbucks"
   ]
  },
  {
   "cell_type": "code",
   "execution_count": 48,
   "id": "0271126c",
   "metadata": {},
   "outputs": [
    {
     "data": {
      "text/plain": [
       "'geometry_2dsphere'"
      ]
     },
     "execution_count": 48,
     "metadata": {},
     "output_type": "execute_result"
    }
   ],
   "source": [
    "client = MongoClient()\n",
    "db = client[\"Ironhack-lab\"]\n",
    "collection3 = db.starbucks\n",
    "collection3.create_index ([(\"geometry\", GEOSPHERE)])"
   ]
  },
  {
   "cell_type": "code",
   "execution_count": 49,
   "id": "6c2036fb",
   "metadata": {},
   "outputs": [
    {
     "data": {
      "text/plain": [
       "<pymongo.results.InsertManyResult at 0x7fb780537100>"
      ]
     },
     "execution_count": 49,
     "metadata": {},
     "output_type": "execute_result"
    }
   ],
   "source": [
    "data3 = gdf_starbucks.to_dict(orient=\"records\")\n",
    "collection3.insert_many(data3)"
   ]
  },
  {
   "cell_type": "code",
   "execution_count": 50,
   "id": "1c1221bb",
   "metadata": {},
   "outputs": [
    {
     "data": {
      "text/plain": [
       "{'_id': ObjectId('60d97fb8baa8249db79ab58b'),\n",
       " 'nombre': 'Starbucks',\n",
       " 'latitud': 40.722584953691005,\n",
       " 'longitud': -73.9980228047693,\n",
       " 'geometry': {'type': 'Point',\n",
       "  'coordinates': [-73.9980228047693, 40.722584953691005]}}"
      ]
     },
     "execution_count": 50,
     "metadata": {},
     "output_type": "execute_result"
    }
   ],
   "source": [
    "cercano3 = db.starbucks.find({\"geometry\":{\"$near\":{\"type\":\"Point\", \"coordinates\":[40.726155, -73.995625],\"$minDistance\": 500, \"$maxDistance\":300}}})\n",
    "list(cercano3)[0]"
   ]
  },
  {
   "cell_type": "code",
   "execution_count": 51,
   "id": "efa3d5f4",
   "metadata": {},
   "outputs": [
    {
     "data": {
      "text/plain": [
       "0.4579977064355368"
      ]
     },
     "execution_count": 51,
     "metadata": {},
     "output_type": "execute_result"
    }
   ],
   "source": [
    "distancia(40.72628,-73.995625,40.722584953691005,-73.9980228047693)"
   ]
  },
  {
   "cell_type": "markdown",
   "id": "ba45502a",
   "metadata": {},
   "source": [
    "✅ Resumen: El Starbucks más cercano se encuentra a 458 metros"
   ]
  },
  {
   "cell_type": "markdown",
   "id": "72cac620",
   "metadata": {},
   "source": [
    "## 4.4 Restaurante Vegano 🥕"
   ]
  },
  {
   "cell_type": "code",
   "execution_count": 52,
   "id": "a1205416",
   "metadata": {},
   "outputs": [],
   "source": [
    "params4 = {\"client_id\" : client_id,\n",
    "              \"client_secret\" : client_secret,\n",
    "              \"v\": \"20180323\",\n",
    "              \"ll\": coordenadas,\n",
    "              \"query\": \"vegan restaurants\",\n",
    "              \"limit\": 10,\n",
    "              \"radius\": 500\n",
    "             }\n",
    "response4 = requests.get(url,params=params4).json()"
   ]
  },
  {
   "cell_type": "code",
   "execution_count": 53,
   "id": "06cf2a61",
   "metadata": {},
   "outputs": [],
   "source": [
    "data4 = response4.get(\"response\")\n",
    "decode4 = data4.get(\"groups\")[0] \n",
    "vegan = decode4.get(\"items\")"
   ]
  },
  {
   "cell_type": "code",
   "execution_count": 54,
   "id": "4c50ec8f",
   "metadata": {},
   "outputs": [],
   "source": [
    "#Extración de los datos\n",
    "resveganos = []\n",
    "for dic in vegan:\n",
    "    lista = {}\n",
    "    lista[\"nombre\"] = getFromDict(dic, mapa_nombre)\n",
    "    lista[\"latitud\"] = getFromDict(dic, mapa_latitud)\n",
    "    lista[\"longitud\"] = getFromDict(dic, mapa_longitud)\n",
    "    resveganos.append(lista)"
   ]
  },
  {
   "cell_type": "code",
   "execution_count": 55,
   "id": "c974f92f",
   "metadata": {},
   "outputs": [
    {
     "data": {
      "text/html": [
       "<div>\n",
       "<style scoped>\n",
       "    .dataframe tbody tr th:only-of-type {\n",
       "        vertical-align: middle;\n",
       "    }\n",
       "\n",
       "    .dataframe tbody tr th {\n",
       "        vertical-align: top;\n",
       "    }\n",
       "\n",
       "    .dataframe thead th {\n",
       "        text-align: right;\n",
       "    }\n",
       "</style>\n",
       "<table border=\"1\" class=\"dataframe\">\n",
       "  <thead>\n",
       "    <tr style=\"text-align: right;\">\n",
       "      <th></th>\n",
       "      <th>nombre</th>\n",
       "      <th>latitud</th>\n",
       "      <th>longitud</th>\n",
       "    </tr>\n",
       "  </thead>\n",
       "  <tbody>\n",
       "    <tr>\n",
       "      <th>0</th>\n",
       "      <td>Little Atlas</td>\n",
       "      <td>40.728646</td>\n",
       "      <td>-73.994723</td>\n",
       "    </tr>\n",
       "    <tr>\n",
       "      <th>1</th>\n",
       "      <td>by CHLOE.</td>\n",
       "      <td>40.722770</td>\n",
       "      <td>-73.997200</td>\n",
       "    </tr>\n",
       "    <tr>\n",
       "      <th>2</th>\n",
       "      <td>Juice Press</td>\n",
       "      <td>40.723439</td>\n",
       "      <td>-73.994877</td>\n",
       "    </tr>\n",
       "    <tr>\n",
       "      <th>3</th>\n",
       "      <td>Farmacy At Chef’s Club Counter</td>\n",
       "      <td>40.722263</td>\n",
       "      <td>-73.997388</td>\n",
       "    </tr>\n",
       "    <tr>\n",
       "      <th>4</th>\n",
       "      <td>Quantum Leap</td>\n",
       "      <td>40.729209</td>\n",
       "      <td>-73.998867</td>\n",
       "    </tr>\n",
       "    <tr>\n",
       "      <th>5</th>\n",
       "      <td>Double Zero</td>\n",
       "      <td>40.726108</td>\n",
       "      <td>-73.989806</td>\n",
       "    </tr>\n",
       "    <tr>\n",
       "      <th>6</th>\n",
       "      <td>Beyond Sushi</td>\n",
       "      <td>40.722080</td>\n",
       "      <td>-73.996250</td>\n",
       "    </tr>\n",
       "    <tr>\n",
       "      <th>7</th>\n",
       "      <td>Bar Verde</td>\n",
       "      <td>40.726064</td>\n",
       "      <td>-73.989779</td>\n",
       "    </tr>\n",
       "    <tr>\n",
       "      <th>8</th>\n",
       "      <td>Juice Press</td>\n",
       "      <td>40.725941</td>\n",
       "      <td>-74.001189</td>\n",
       "    </tr>\n",
       "    <tr>\n",
       "      <th>9</th>\n",
       "      <td>&amp;pizza</td>\n",
       "      <td>40.729770</td>\n",
       "      <td>-73.992736</td>\n",
       "    </tr>\n",
       "  </tbody>\n",
       "</table>\n",
       "</div>"
      ],
      "text/plain": [
       "                           nombre    latitud   longitud\n",
       "0                    Little Atlas  40.728646 -73.994723\n",
       "1                       by CHLOE.  40.722770 -73.997200\n",
       "2                     Juice Press  40.723439 -73.994877\n",
       "3  Farmacy At Chef’s Club Counter  40.722263 -73.997388\n",
       "4                    Quantum Leap  40.729209 -73.998867\n",
       "5                     Double Zero  40.726108 -73.989806\n",
       "6                    Beyond Sushi  40.722080 -73.996250\n",
       "7                       Bar Verde  40.726064 -73.989779\n",
       "8                     Juice Press  40.725941 -74.001189\n",
       "9                          &pizza  40.729770 -73.992736"
      ]
     },
     "execution_count": 55,
     "metadata": {},
     "output_type": "execute_result"
    }
   ],
   "source": [
    "#Creación del DataFrame\n",
    "df_resveganos = pd.DataFrame(resveganos)\n",
    "df_resveganos"
   ]
  },
  {
   "cell_type": "code",
   "execution_count": 56,
   "id": "75d1b8a7",
   "metadata": {},
   "outputs": [
    {
     "data": {
      "text/html": [
       "<div>\n",
       "<style scoped>\n",
       "    .dataframe tbody tr th:only-of-type {\n",
       "        vertical-align: middle;\n",
       "    }\n",
       "\n",
       "    .dataframe tbody tr th {\n",
       "        vertical-align: top;\n",
       "    }\n",
       "\n",
       "    .dataframe thead th {\n",
       "        text-align: right;\n",
       "    }\n",
       "</style>\n",
       "<table border=\"1\" class=\"dataframe\">\n",
       "  <thead>\n",
       "    <tr style=\"text-align: right;\">\n",
       "      <th></th>\n",
       "      <th>nombre</th>\n",
       "      <th>latitud</th>\n",
       "      <th>longitud</th>\n",
       "      <th>geometry</th>\n",
       "    </tr>\n",
       "  </thead>\n",
       "  <tbody>\n",
       "    <tr>\n",
       "      <th>0</th>\n",
       "      <td>Little Atlas</td>\n",
       "      <td>40.728646</td>\n",
       "      <td>-73.994723</td>\n",
       "      <td>POINT (-73.99472 40.72865)</td>\n",
       "    </tr>\n",
       "    <tr>\n",
       "      <th>1</th>\n",
       "      <td>by CHLOE.</td>\n",
       "      <td>40.722770</td>\n",
       "      <td>-73.997200</td>\n",
       "      <td>POINT (-73.99720 40.72277)</td>\n",
       "    </tr>\n",
       "    <tr>\n",
       "      <th>2</th>\n",
       "      <td>Juice Press</td>\n",
       "      <td>40.723439</td>\n",
       "      <td>-73.994877</td>\n",
       "      <td>POINT (-73.99488 40.72344)</td>\n",
       "    </tr>\n",
       "    <tr>\n",
       "      <th>3</th>\n",
       "      <td>Farmacy At Chef’s Club Counter</td>\n",
       "      <td>40.722263</td>\n",
       "      <td>-73.997388</td>\n",
       "      <td>POINT (-73.99739 40.72226)</td>\n",
       "    </tr>\n",
       "    <tr>\n",
       "      <th>4</th>\n",
       "      <td>Quantum Leap</td>\n",
       "      <td>40.729209</td>\n",
       "      <td>-73.998867</td>\n",
       "      <td>POINT (-73.99887 40.72921)</td>\n",
       "    </tr>\n",
       "    <tr>\n",
       "      <th>5</th>\n",
       "      <td>Double Zero</td>\n",
       "      <td>40.726108</td>\n",
       "      <td>-73.989806</td>\n",
       "      <td>POINT (-73.98981 40.72611)</td>\n",
       "    </tr>\n",
       "    <tr>\n",
       "      <th>6</th>\n",
       "      <td>Beyond Sushi</td>\n",
       "      <td>40.722080</td>\n",
       "      <td>-73.996250</td>\n",
       "      <td>POINT (-73.99625 40.72208)</td>\n",
       "    </tr>\n",
       "    <tr>\n",
       "      <th>7</th>\n",
       "      <td>Bar Verde</td>\n",
       "      <td>40.726064</td>\n",
       "      <td>-73.989779</td>\n",
       "      <td>POINT (-73.98978 40.72606)</td>\n",
       "    </tr>\n",
       "    <tr>\n",
       "      <th>8</th>\n",
       "      <td>Juice Press</td>\n",
       "      <td>40.725941</td>\n",
       "      <td>-74.001189</td>\n",
       "      <td>POINT (-74.00119 40.72594)</td>\n",
       "    </tr>\n",
       "    <tr>\n",
       "      <th>9</th>\n",
       "      <td>&amp;pizza</td>\n",
       "      <td>40.729770</td>\n",
       "      <td>-73.992736</td>\n",
       "      <td>POINT (-73.99274 40.72977)</td>\n",
       "    </tr>\n",
       "  </tbody>\n",
       "</table>\n",
       "</div>"
      ],
      "text/plain": [
       "                           nombre    latitud   longitud  \\\n",
       "0                    Little Atlas  40.728646 -73.994723   \n",
       "1                       by CHLOE.  40.722770 -73.997200   \n",
       "2                     Juice Press  40.723439 -73.994877   \n",
       "3  Farmacy At Chef’s Club Counter  40.722263 -73.997388   \n",
       "4                    Quantum Leap  40.729209 -73.998867   \n",
       "5                     Double Zero  40.726108 -73.989806   \n",
       "6                    Beyond Sushi  40.722080 -73.996250   \n",
       "7                       Bar Verde  40.726064 -73.989779   \n",
       "8                     Juice Press  40.725941 -74.001189   \n",
       "9                          &pizza  40.729770 -73.992736   \n",
       "\n",
       "                     geometry  \n",
       "0  POINT (-73.99472 40.72865)  \n",
       "1  POINT (-73.99720 40.72277)  \n",
       "2  POINT (-73.99488 40.72344)  \n",
       "3  POINT (-73.99739 40.72226)  \n",
       "4  POINT (-73.99887 40.72921)  \n",
       "5  POINT (-73.98981 40.72611)  \n",
       "6  POINT (-73.99625 40.72208)  \n",
       "7  POINT (-73.98978 40.72606)  \n",
       "8  POINT (-74.00119 40.72594)  \n",
       "9  POINT (-73.99274 40.72977)  "
      ]
     },
     "execution_count": 56,
     "metadata": {},
     "output_type": "execute_result"
    }
   ],
   "source": [
    "#Lo transformamos en GeoDataFrame\n",
    "gdf_resveganos = gpd.GeoDataFrame(df_resveganos, geometry = gpd.points_from_xy(df_resveganos.longitud, df_resveganos.latitud))\n",
    "gdf_resveganos"
   ]
  },
  {
   "cell_type": "code",
   "execution_count": 57,
   "id": "c8de1ee2",
   "metadata": {},
   "outputs": [],
   "source": [
    "#Map(Layer(gdf_resveganos,\"color:green\",popup_hover = [popup_element(\"nombre\", \"Restaurantes Veganos\")]))"
   ]
  },
  {
   "cell_type": "markdown",
   "id": "3d049134",
   "metadata": {},
   "source": [
    "🔴 **¿Cual será el más cercano?** "
   ]
  },
  {
   "cell_type": "code",
   "execution_count": 58,
   "id": "1f58b040",
   "metadata": {},
   "outputs": [
    {
     "name": "stderr",
     "output_type": "stream",
     "text": [
      "/usr/local/Caskroom/miniconda/base/lib/python3.8/site-packages/geopandas/geodataframe.py:1321: UserWarning: Geometry column does not contain geometry.\n",
      "  warnings.warn(\"Geometry column does not contain geometry.\")\n"
     ]
    },
    {
     "data": {
      "text/html": [
       "<div>\n",
       "<style scoped>\n",
       "    .dataframe tbody tr th:only-of-type {\n",
       "        vertical-align: middle;\n",
       "    }\n",
       "\n",
       "    .dataframe tbody tr th {\n",
       "        vertical-align: top;\n",
       "    }\n",
       "\n",
       "    .dataframe thead th {\n",
       "        text-align: right;\n",
       "    }\n",
       "</style>\n",
       "<table border=\"1\" class=\"dataframe\">\n",
       "  <thead>\n",
       "    <tr style=\"text-align: right;\">\n",
       "      <th></th>\n",
       "      <th>nombre</th>\n",
       "      <th>latitud</th>\n",
       "      <th>longitud</th>\n",
       "      <th>geometry</th>\n",
       "    </tr>\n",
       "  </thead>\n",
       "  <tbody>\n",
       "    <tr>\n",
       "      <th>0</th>\n",
       "      <td>Little Atlas</td>\n",
       "      <td>40.728646</td>\n",
       "      <td>-73.994723</td>\n",
       "      <td>{'type': 'Point', 'coordinates': (-73.99472251...</td>\n",
       "    </tr>\n",
       "    <tr>\n",
       "      <th>1</th>\n",
       "      <td>by CHLOE.</td>\n",
       "      <td>40.722770</td>\n",
       "      <td>-73.997200</td>\n",
       "      <td>{'type': 'Point', 'coordinates': (-73.9972, 40...</td>\n",
       "    </tr>\n",
       "    <tr>\n",
       "      <th>2</th>\n",
       "      <td>Juice Press</td>\n",
       "      <td>40.723439</td>\n",
       "      <td>-73.994877</td>\n",
       "      <td>{'type': 'Point', 'coordinates': (-73.99487685...</td>\n",
       "    </tr>\n",
       "    <tr>\n",
       "      <th>3</th>\n",
       "      <td>Farmacy At Chef’s Club Counter</td>\n",
       "      <td>40.722263</td>\n",
       "      <td>-73.997388</td>\n",
       "      <td>{'type': 'Point', 'coordinates': (-73.997388, ...</td>\n",
       "    </tr>\n",
       "    <tr>\n",
       "      <th>4</th>\n",
       "      <td>Quantum Leap</td>\n",
       "      <td>40.729209</td>\n",
       "      <td>-73.998867</td>\n",
       "      <td>{'type': 'Point', 'coordinates': (-73.99886686...</td>\n",
       "    </tr>\n",
       "    <tr>\n",
       "      <th>5</th>\n",
       "      <td>Double Zero</td>\n",
       "      <td>40.726108</td>\n",
       "      <td>-73.989806</td>\n",
       "      <td>{'type': 'Point', 'coordinates': (-73.98980624...</td>\n",
       "    </tr>\n",
       "    <tr>\n",
       "      <th>6</th>\n",
       "      <td>Beyond Sushi</td>\n",
       "      <td>40.722080</td>\n",
       "      <td>-73.996250</td>\n",
       "      <td>{'type': 'Point', 'coordinates': (-73.99625027...</td>\n",
       "    </tr>\n",
       "    <tr>\n",
       "      <th>7</th>\n",
       "      <td>Bar Verde</td>\n",
       "      <td>40.726064</td>\n",
       "      <td>-73.989779</td>\n",
       "      <td>{'type': 'Point', 'coordinates': (-73.9897793,...</td>\n",
       "    </tr>\n",
       "    <tr>\n",
       "      <th>8</th>\n",
       "      <td>Juice Press</td>\n",
       "      <td>40.725941</td>\n",
       "      <td>-74.001189</td>\n",
       "      <td>{'type': 'Point', 'coordinates': (-74.00118930...</td>\n",
       "    </tr>\n",
       "    <tr>\n",
       "      <th>9</th>\n",
       "      <td>&amp;pizza</td>\n",
       "      <td>40.729770</td>\n",
       "      <td>-73.992736</td>\n",
       "      <td>{'type': 'Point', 'coordinates': (-73.99273619...</td>\n",
       "    </tr>\n",
       "  </tbody>\n",
       "</table>\n",
       "</div>"
      ],
      "text/plain": [
       "                           nombre    latitud   longitud  \\\n",
       "0                    Little Atlas  40.728646 -73.994723   \n",
       "1                       by CHLOE.  40.722770 -73.997200   \n",
       "2                     Juice Press  40.723439 -73.994877   \n",
       "3  Farmacy At Chef’s Club Counter  40.722263 -73.997388   \n",
       "4                    Quantum Leap  40.729209 -73.998867   \n",
       "5                     Double Zero  40.726108 -73.989806   \n",
       "6                    Beyond Sushi  40.722080 -73.996250   \n",
       "7                       Bar Verde  40.726064 -73.989779   \n",
       "8                     Juice Press  40.725941 -74.001189   \n",
       "9                          &pizza  40.729770 -73.992736   \n",
       "\n",
       "                                            geometry  \n",
       "0  {'type': 'Point', 'coordinates': (-73.99472251...  \n",
       "1  {'type': 'Point', 'coordinates': (-73.9972, 40...  \n",
       "2  {'type': 'Point', 'coordinates': (-73.99487685...  \n",
       "3  {'type': 'Point', 'coordinates': (-73.997388, ...  \n",
       "4  {'type': 'Point', 'coordinates': (-73.99886686...  \n",
       "5  {'type': 'Point', 'coordinates': (-73.98980624...  \n",
       "6  {'type': 'Point', 'coordinates': (-73.99625027...  \n",
       "7  {'type': 'Point', 'coordinates': (-73.9897793,...  \n",
       "8  {'type': 'Point', 'coordinates': (-74.00118930...  \n",
       "9  {'type': 'Point', 'coordinates': (-73.99273619...  "
      ]
     },
     "execution_count": 58,
     "metadata": {},
     "output_type": "execute_result"
    }
   ],
   "source": [
    "gdf_resveganos['geometry'] = gdf_resveganos['geometry'].apply(lambda x:shapely.geometry.mapping(x))\n",
    "gdf_resveganos"
   ]
  },
  {
   "cell_type": "code",
   "execution_count": 59,
   "id": "a178054b",
   "metadata": {},
   "outputs": [
    {
     "data": {
      "text/plain": [
       "'geometry_2dsphere'"
      ]
     },
     "execution_count": 59,
     "metadata": {},
     "output_type": "execute_result"
    }
   ],
   "source": [
    "client = MongoClient()\n",
    "db = client[\"Ironhack-lab\"]\n",
    "collection4 = db.resveganos\n",
    "collection4.create_index ([(\"geometry\", GEOSPHERE)])"
   ]
  },
  {
   "cell_type": "code",
   "execution_count": 60,
   "id": "ec56c0c2",
   "metadata": {},
   "outputs": [
    {
     "data": {
      "text/plain": [
       "<pymongo.results.InsertManyResult at 0x7fb7b0dbea00>"
      ]
     },
     "execution_count": 60,
     "metadata": {},
     "output_type": "execute_result"
    }
   ],
   "source": [
    "data4 = gdf_resveganos.to_dict(orient=\"records\")\n",
    "collection4.insert_many(data4)"
   ]
  },
  {
   "cell_type": "code",
   "execution_count": 61,
   "id": "95f2a144",
   "metadata": {},
   "outputs": [
    {
     "data": {
      "text/plain": [
       "{'_id': ObjectId('60d97fdbbaa8249db79ab594'),\n",
       " 'nombre': 'Beyond Sushi',\n",
       " 'latitud': 40.72207953581667,\n",
       " 'longitud': -73.99625027875686,\n",
       " 'geometry': {'type': 'Point',\n",
       "  'coordinates': [-73.99625027875686, 40.72207953581667]}}"
      ]
     },
     "execution_count": 61,
     "metadata": {},
     "output_type": "execute_result"
    }
   ],
   "source": [
    "cercano4 = db.resveganos.find({\"geometry\":{\"$near\":{\"type\":\"Point\", \"coordinates\":[40.726155, -73.995625],\"$minDistance\": 500, \"$maxDistance\":300}}})\n",
    "list(cercano4)[0]"
   ]
  },
  {
   "cell_type": "code",
   "execution_count": 62,
   "id": "ea3a07ac",
   "metadata": {},
   "outputs": [
    {
     "data": {
      "text/plain": [
       "0.4701656012037206"
      ]
     },
     "execution_count": 62,
     "metadata": {},
     "output_type": "execute_result"
    }
   ],
   "source": [
    "distancia(40.72628,-73.995625,40.72207953581667,-73.99625027875686)"
   ]
  },
  {
   "cell_type": "markdown",
   "id": "92555f42",
   "metadata": {},
   "source": [
    "✅ Resumen: El restaurante vegano más cercano se encuentra a 470 metros"
   ]
  },
  {
   "cell_type": "markdown",
   "id": "704af018",
   "metadata": {},
   "source": [
    "## 4.5 Estación de autobuses 🚌"
   ]
  },
  {
   "cell_type": "code",
   "execution_count": 63,
   "id": "c6d73268",
   "metadata": {},
   "outputs": [],
   "source": [
    "params5 = {\"client_id\" : client_id,\n",
    "              \"client_secret\" : client_secret,\n",
    "              \"v\": \"20180323\",\n",
    "              \"ll\": coordenadas,\n",
    "              \"query\": \"bus station\",\n",
    "              \"limit\": 10,\n",
    "              \"radius\": 500\n",
    "             }\n",
    "response5 = requests.get(url,params=params5).json()"
   ]
  },
  {
   "cell_type": "code",
   "execution_count": 64,
   "id": "af4a27ab",
   "metadata": {},
   "outputs": [],
   "source": [
    "data5 = response5.get(\"response\")\n",
    "decode5 = data5.get(\"groups\")[0] \n",
    "bus = decode5.get(\"items\")"
   ]
  },
  {
   "cell_type": "code",
   "execution_count": 65,
   "id": "ef59baa4",
   "metadata": {},
   "outputs": [],
   "source": [
    "#Extración de los datos\n",
    "autobuses = []\n",
    "for dic in bus:\n",
    "    lista = {}\n",
    "    lista[\"nombre\"] = getFromDict(dic, mapa_nombre)\n",
    "    lista[\"latitud\"] = getFromDict(dic, mapa_latitud)\n",
    "    lista[\"longitud\"] = getFromDict(dic, mapa_longitud)\n",
    "    autobuses.append(lista)"
   ]
  },
  {
   "cell_type": "code",
   "execution_count": 66,
   "id": "ab52eab1",
   "metadata": {},
   "outputs": [
    {
     "data": {
      "text/html": [
       "<div>\n",
       "<style scoped>\n",
       "    .dataframe tbody tr th:only-of-type {\n",
       "        vertical-align: middle;\n",
       "    }\n",
       "\n",
       "    .dataframe tbody tr th {\n",
       "        vertical-align: top;\n",
       "    }\n",
       "\n",
       "    .dataframe thead th {\n",
       "        text-align: right;\n",
       "    }\n",
       "</style>\n",
       "<table border=\"1\" class=\"dataframe\">\n",
       "  <thead>\n",
       "    <tr style=\"text-align: right;\">\n",
       "      <th></th>\n",
       "      <th>nombre</th>\n",
       "      <th>latitud</th>\n",
       "      <th>longitud</th>\n",
       "    </tr>\n",
       "  </thead>\n",
       "  <tbody>\n",
       "    <tr>\n",
       "      <th>0</th>\n",
       "      <td>MTA X7, X9, X10, X27B, X28B (Houston St/Mercer...</td>\n",
       "      <td>40.725877</td>\n",
       "      <td>-73.997340</td>\n",
       "    </tr>\n",
       "    <tr>\n",
       "      <th>1</th>\n",
       "      <td>M21 bus stop</td>\n",
       "      <td>40.726785</td>\n",
       "      <td>-73.998616</td>\n",
       "    </tr>\n",
       "    <tr>\n",
       "      <th>2</th>\n",
       "      <td>MTA Bus 103</td>\n",
       "      <td>40.725060</td>\n",
       "      <td>-73.992280</td>\n",
       "    </tr>\n",
       "    <tr>\n",
       "      <th>3</th>\n",
       "      <td>M21 Bus BW &amp; HS</td>\n",
       "      <td>40.725313</td>\n",
       "      <td>-73.996228</td>\n",
       "    </tr>\n",
       "    <tr>\n",
       "      <th>4</th>\n",
       "      <td>OvRride Bus to Windham</td>\n",
       "      <td>40.727263</td>\n",
       "      <td>-73.995824</td>\n",
       "    </tr>\n",
       "    <tr>\n",
       "      <th>5</th>\n",
       "      <td>Bleecker St - Skyline Bus Tour</td>\n",
       "      <td>40.726576</td>\n",
       "      <td>-73.995903</td>\n",
       "    </tr>\n",
       "    <tr>\n",
       "      <th>6</th>\n",
       "      <td>MTA Bus Stop M5 @ Broadway And Houston</td>\n",
       "      <td>40.725447</td>\n",
       "      <td>-73.997169</td>\n",
       "    </tr>\n",
       "    <tr>\n",
       "      <th>7</th>\n",
       "      <td>MTA Bus - E Houston St &amp; Crosby St (M21)</td>\n",
       "      <td>40.725409</td>\n",
       "      <td>-73.996106</td>\n",
       "    </tr>\n",
       "    <tr>\n",
       "      <th>8</th>\n",
       "      <td>MTA Bus - E Houston St &amp; Broadway (M21)</td>\n",
       "      <td>40.725141</td>\n",
       "      <td>-73.996310</td>\n",
       "    </tr>\n",
       "    <tr>\n",
       "      <th>9</th>\n",
       "      <td>NYU Shuttle - Route A</td>\n",
       "      <td>40.728766</td>\n",
       "      <td>-73.993848</td>\n",
       "    </tr>\n",
       "  </tbody>\n",
       "</table>\n",
       "</div>"
      ],
      "text/plain": [
       "                                              nombre    latitud   longitud\n",
       "0  MTA X7, X9, X10, X27B, X28B (Houston St/Mercer...  40.725877 -73.997340\n",
       "1                                       M21 bus stop  40.726785 -73.998616\n",
       "2                                        MTA Bus 103  40.725060 -73.992280\n",
       "3                                    M21 Bus BW & HS  40.725313 -73.996228\n",
       "4                             OvRride Bus to Windham  40.727263 -73.995824\n",
       "5                     Bleecker St - Skyline Bus Tour  40.726576 -73.995903\n",
       "6             MTA Bus Stop M5 @ Broadway And Houston  40.725447 -73.997169\n",
       "7           MTA Bus - E Houston St & Crosby St (M21)  40.725409 -73.996106\n",
       "8            MTA Bus - E Houston St & Broadway (M21)  40.725141 -73.996310\n",
       "9                              NYU Shuttle - Route A  40.728766 -73.993848"
      ]
     },
     "execution_count": 66,
     "metadata": {},
     "output_type": "execute_result"
    }
   ],
   "source": [
    "#Creación del DataFrame\n",
    "df_autobuses = pd.DataFrame(autobuses)\n",
    "df_autobuses"
   ]
  },
  {
   "cell_type": "code",
   "execution_count": 67,
   "id": "4ac7d774",
   "metadata": {},
   "outputs": [
    {
     "data": {
      "text/html": [
       "<div>\n",
       "<style scoped>\n",
       "    .dataframe tbody tr th:only-of-type {\n",
       "        vertical-align: middle;\n",
       "    }\n",
       "\n",
       "    .dataframe tbody tr th {\n",
       "        vertical-align: top;\n",
       "    }\n",
       "\n",
       "    .dataframe thead th {\n",
       "        text-align: right;\n",
       "    }\n",
       "</style>\n",
       "<table border=\"1\" class=\"dataframe\">\n",
       "  <thead>\n",
       "    <tr style=\"text-align: right;\">\n",
       "      <th></th>\n",
       "      <th>nombre</th>\n",
       "      <th>latitud</th>\n",
       "      <th>longitud</th>\n",
       "      <th>geometry</th>\n",
       "    </tr>\n",
       "  </thead>\n",
       "  <tbody>\n",
       "    <tr>\n",
       "      <th>0</th>\n",
       "      <td>MTA X7, X9, X10, X27B, X28B (Houston St/Mercer...</td>\n",
       "      <td>40.725877</td>\n",
       "      <td>-73.997340</td>\n",
       "      <td>POINT (-73.99734 40.72588)</td>\n",
       "    </tr>\n",
       "    <tr>\n",
       "      <th>1</th>\n",
       "      <td>M21 bus stop</td>\n",
       "      <td>40.726785</td>\n",
       "      <td>-73.998616</td>\n",
       "      <td>POINT (-73.99862 40.72679)</td>\n",
       "    </tr>\n",
       "    <tr>\n",
       "      <th>2</th>\n",
       "      <td>MTA Bus 103</td>\n",
       "      <td>40.725060</td>\n",
       "      <td>-73.992280</td>\n",
       "      <td>POINT (-73.99228 40.72506)</td>\n",
       "    </tr>\n",
       "    <tr>\n",
       "      <th>3</th>\n",
       "      <td>M21 Bus BW &amp; HS</td>\n",
       "      <td>40.725313</td>\n",
       "      <td>-73.996228</td>\n",
       "      <td>POINT (-73.99623 40.72531)</td>\n",
       "    </tr>\n",
       "    <tr>\n",
       "      <th>4</th>\n",
       "      <td>OvRride Bus to Windham</td>\n",
       "      <td>40.727263</td>\n",
       "      <td>-73.995824</td>\n",
       "      <td>POINT (-73.99582 40.72726)</td>\n",
       "    </tr>\n",
       "    <tr>\n",
       "      <th>5</th>\n",
       "      <td>Bleecker St - Skyline Bus Tour</td>\n",
       "      <td>40.726576</td>\n",
       "      <td>-73.995903</td>\n",
       "      <td>POINT (-73.99590 40.72658)</td>\n",
       "    </tr>\n",
       "    <tr>\n",
       "      <th>6</th>\n",
       "      <td>MTA Bus Stop M5 @ Broadway And Houston</td>\n",
       "      <td>40.725447</td>\n",
       "      <td>-73.997169</td>\n",
       "      <td>POINT (-73.99717 40.72545)</td>\n",
       "    </tr>\n",
       "    <tr>\n",
       "      <th>7</th>\n",
       "      <td>MTA Bus - E Houston St &amp; Crosby St (M21)</td>\n",
       "      <td>40.725409</td>\n",
       "      <td>-73.996106</td>\n",
       "      <td>POINT (-73.99611 40.72541)</td>\n",
       "    </tr>\n",
       "    <tr>\n",
       "      <th>8</th>\n",
       "      <td>MTA Bus - E Houston St &amp; Broadway (M21)</td>\n",
       "      <td>40.725141</td>\n",
       "      <td>-73.996310</td>\n",
       "      <td>POINT (-73.99631 40.72514)</td>\n",
       "    </tr>\n",
       "    <tr>\n",
       "      <th>9</th>\n",
       "      <td>NYU Shuttle - Route A</td>\n",
       "      <td>40.728766</td>\n",
       "      <td>-73.993848</td>\n",
       "      <td>POINT (-73.99385 40.72877)</td>\n",
       "    </tr>\n",
       "  </tbody>\n",
       "</table>\n",
       "</div>"
      ],
      "text/plain": [
       "                                              nombre    latitud   longitud  \\\n",
       "0  MTA X7, X9, X10, X27B, X28B (Houston St/Mercer...  40.725877 -73.997340   \n",
       "1                                       M21 bus stop  40.726785 -73.998616   \n",
       "2                                        MTA Bus 103  40.725060 -73.992280   \n",
       "3                                    M21 Bus BW & HS  40.725313 -73.996228   \n",
       "4                             OvRride Bus to Windham  40.727263 -73.995824   \n",
       "5                     Bleecker St - Skyline Bus Tour  40.726576 -73.995903   \n",
       "6             MTA Bus Stop M5 @ Broadway And Houston  40.725447 -73.997169   \n",
       "7           MTA Bus - E Houston St & Crosby St (M21)  40.725409 -73.996106   \n",
       "8            MTA Bus - E Houston St & Broadway (M21)  40.725141 -73.996310   \n",
       "9                              NYU Shuttle - Route A  40.728766 -73.993848   \n",
       "\n",
       "                     geometry  \n",
       "0  POINT (-73.99734 40.72588)  \n",
       "1  POINT (-73.99862 40.72679)  \n",
       "2  POINT (-73.99228 40.72506)  \n",
       "3  POINT (-73.99623 40.72531)  \n",
       "4  POINT (-73.99582 40.72726)  \n",
       "5  POINT (-73.99590 40.72658)  \n",
       "6  POINT (-73.99717 40.72545)  \n",
       "7  POINT (-73.99611 40.72541)  \n",
       "8  POINT (-73.99631 40.72514)  \n",
       "9  POINT (-73.99385 40.72877)  "
      ]
     },
     "execution_count": 67,
     "metadata": {},
     "output_type": "execute_result"
    }
   ],
   "source": [
    "#Lo transformamos en GeoDataFrame\n",
    "gdf_autobuses = gpd.GeoDataFrame(df_autobuses, geometry = gpd.points_from_xy(df_autobuses.longitud, df_autobuses.latitud))\n",
    "gdf_autobuses"
   ]
  },
  {
   "cell_type": "code",
   "execution_count": 68,
   "id": "39aaa5ce",
   "metadata": {},
   "outputs": [],
   "source": [
    "#Map(Layer(gdf_autobuses,\"color:purple\",popup_hover = [popup_element(\"nombre\", \"Estación de autobuses\")]))"
   ]
  },
  {
   "cell_type": "markdown",
   "id": "4841283a",
   "metadata": {},
   "source": [
    "🔴 **¿Cual será el más cercano?** "
   ]
  },
  {
   "cell_type": "code",
   "execution_count": 69,
   "id": "56305f48",
   "metadata": {},
   "outputs": [
    {
     "name": "stderr",
     "output_type": "stream",
     "text": [
      "/usr/local/Caskroom/miniconda/base/lib/python3.8/site-packages/geopandas/geodataframe.py:1321: UserWarning: Geometry column does not contain geometry.\n",
      "  warnings.warn(\"Geometry column does not contain geometry.\")\n"
     ]
    },
    {
     "data": {
      "text/html": [
       "<div>\n",
       "<style scoped>\n",
       "    .dataframe tbody tr th:only-of-type {\n",
       "        vertical-align: middle;\n",
       "    }\n",
       "\n",
       "    .dataframe tbody tr th {\n",
       "        vertical-align: top;\n",
       "    }\n",
       "\n",
       "    .dataframe thead th {\n",
       "        text-align: right;\n",
       "    }\n",
       "</style>\n",
       "<table border=\"1\" class=\"dataframe\">\n",
       "  <thead>\n",
       "    <tr style=\"text-align: right;\">\n",
       "      <th></th>\n",
       "      <th>nombre</th>\n",
       "      <th>latitud</th>\n",
       "      <th>longitud</th>\n",
       "      <th>geometry</th>\n",
       "    </tr>\n",
       "  </thead>\n",
       "  <tbody>\n",
       "    <tr>\n",
       "      <th>0</th>\n",
       "      <td>MTA X7, X9, X10, X27B, X28B (Houston St/Mercer...</td>\n",
       "      <td>40.725877</td>\n",
       "      <td>-73.997340</td>\n",
       "      <td>{'type': 'Point', 'coordinates': (-73.99734020...</td>\n",
       "    </tr>\n",
       "    <tr>\n",
       "      <th>1</th>\n",
       "      <td>M21 bus stop</td>\n",
       "      <td>40.726785</td>\n",
       "      <td>-73.998616</td>\n",
       "      <td>{'type': 'Point', 'coordinates': (-73.99861564...</td>\n",
       "    </tr>\n",
       "    <tr>\n",
       "      <th>2</th>\n",
       "      <td>MTA Bus 103</td>\n",
       "      <td>40.725060</td>\n",
       "      <td>-73.992280</td>\n",
       "      <td>{'type': 'Point', 'coordinates': (-73.99228003...</td>\n",
       "    </tr>\n",
       "    <tr>\n",
       "      <th>3</th>\n",
       "      <td>M21 Bus BW &amp; HS</td>\n",
       "      <td>40.725313</td>\n",
       "      <td>-73.996228</td>\n",
       "      <td>{'type': 'Point', 'coordinates': (-73.99622821...</td>\n",
       "    </tr>\n",
       "    <tr>\n",
       "      <th>4</th>\n",
       "      <td>OvRride Bus to Windham</td>\n",
       "      <td>40.727263</td>\n",
       "      <td>-73.995824</td>\n",
       "      <td>{'type': 'Point', 'coordinates': (-73.995824, ...</td>\n",
       "    </tr>\n",
       "    <tr>\n",
       "      <th>5</th>\n",
       "      <td>Bleecker St - Skyline Bus Tour</td>\n",
       "      <td>40.726576</td>\n",
       "      <td>-73.995903</td>\n",
       "      <td>{'type': 'Point', 'coordinates': (-73.99590254...</td>\n",
       "    </tr>\n",
       "    <tr>\n",
       "      <th>6</th>\n",
       "      <td>MTA Bus Stop M5 @ Broadway And Houston</td>\n",
       "      <td>40.725447</td>\n",
       "      <td>-73.997169</td>\n",
       "      <td>{'type': 'Point', 'coordinates': (-73.99716949...</td>\n",
       "    </tr>\n",
       "    <tr>\n",
       "      <th>7</th>\n",
       "      <td>MTA Bus - E Houston St &amp; Crosby St (M21)</td>\n",
       "      <td>40.725409</td>\n",
       "      <td>-73.996106</td>\n",
       "      <td>{'type': 'Point', 'coordinates': (-73.99610638...</td>\n",
       "    </tr>\n",
       "    <tr>\n",
       "      <th>8</th>\n",
       "      <td>MTA Bus - E Houston St &amp; Broadway (M21)</td>\n",
       "      <td>40.725141</td>\n",
       "      <td>-73.996310</td>\n",
       "      <td>{'type': 'Point', 'coordinates': (-73.99631023...</td>\n",
       "    </tr>\n",
       "    <tr>\n",
       "      <th>9</th>\n",
       "      <td>NYU Shuttle - Route A</td>\n",
       "      <td>40.728766</td>\n",
       "      <td>-73.993848</td>\n",
       "      <td>{'type': 'Point', 'coordinates': (-73.993848, ...</td>\n",
       "    </tr>\n",
       "  </tbody>\n",
       "</table>\n",
       "</div>"
      ],
      "text/plain": [
       "                                              nombre    latitud   longitud  \\\n",
       "0  MTA X7, X9, X10, X27B, X28B (Houston St/Mercer...  40.725877 -73.997340   \n",
       "1                                       M21 bus stop  40.726785 -73.998616   \n",
       "2                                        MTA Bus 103  40.725060 -73.992280   \n",
       "3                                    M21 Bus BW & HS  40.725313 -73.996228   \n",
       "4                             OvRride Bus to Windham  40.727263 -73.995824   \n",
       "5                     Bleecker St - Skyline Bus Tour  40.726576 -73.995903   \n",
       "6             MTA Bus Stop M5 @ Broadway And Houston  40.725447 -73.997169   \n",
       "7           MTA Bus - E Houston St & Crosby St (M21)  40.725409 -73.996106   \n",
       "8            MTA Bus - E Houston St & Broadway (M21)  40.725141 -73.996310   \n",
       "9                              NYU Shuttle - Route A  40.728766 -73.993848   \n",
       "\n",
       "                                            geometry  \n",
       "0  {'type': 'Point', 'coordinates': (-73.99734020...  \n",
       "1  {'type': 'Point', 'coordinates': (-73.99861564...  \n",
       "2  {'type': 'Point', 'coordinates': (-73.99228003...  \n",
       "3  {'type': 'Point', 'coordinates': (-73.99622821...  \n",
       "4  {'type': 'Point', 'coordinates': (-73.995824, ...  \n",
       "5  {'type': 'Point', 'coordinates': (-73.99590254...  \n",
       "6  {'type': 'Point', 'coordinates': (-73.99716949...  \n",
       "7  {'type': 'Point', 'coordinates': (-73.99610638...  \n",
       "8  {'type': 'Point', 'coordinates': (-73.99631023...  \n",
       "9  {'type': 'Point', 'coordinates': (-73.993848, ...  "
      ]
     },
     "execution_count": 69,
     "metadata": {},
     "output_type": "execute_result"
    }
   ],
   "source": [
    "gdf_autobuses['geometry'] = gdf_autobuses['geometry'].apply(lambda x:shapely.geometry.mapping(x))\n",
    "gdf_autobuses"
   ]
  },
  {
   "cell_type": "code",
   "execution_count": 70,
   "id": "2c95d1bc",
   "metadata": {},
   "outputs": [
    {
     "data": {
      "text/plain": [
       "'geometry_2dsphere'"
      ]
     },
     "execution_count": 70,
     "metadata": {},
     "output_type": "execute_result"
    }
   ],
   "source": [
    "client = MongoClient()\n",
    "db = client[\"Ironhack-lab\"]\n",
    "collection5 = db.autobuses\n",
    "collection5.create_index ([(\"geometry\", GEOSPHERE)])"
   ]
  },
  {
   "cell_type": "code",
   "execution_count": 71,
   "id": "476c92f9",
   "metadata": {},
   "outputs": [
    {
     "data": {
      "text/plain": [
       "<pymongo.results.InsertManyResult at 0x7fb770267f40>"
      ]
     },
     "execution_count": 71,
     "metadata": {},
     "output_type": "execute_result"
    }
   ],
   "source": [
    "data5 = gdf_autobuses.to_dict(orient=\"records\")\n",
    "collection5.insert_many(data5)"
   ]
  },
  {
   "cell_type": "code",
   "execution_count": 72,
   "id": "ab4f29ba",
   "metadata": {},
   "outputs": [
    {
     "data": {
      "text/plain": [
       "{'_id': ObjectId('60d97fffbaa8249db79ab59b'),\n",
       " 'nombre': 'MTA Bus 103',\n",
       " 'latitud': 40.72506034424643,\n",
       " 'longitud': -73.99228003980646,\n",
       " 'geometry': {'type': 'Point',\n",
       "  'coordinates': [-73.99228003980646, 40.72506034424643]}}"
      ]
     },
     "execution_count": 72,
     "metadata": {},
     "output_type": "execute_result"
    }
   ],
   "source": [
    "cercano5 = db.autobuses.find({\"geometry\":{\"$near\":{\"type\":\"Point\", \"coordinates\":[40.726155, -73.995625],\"$minDistance\": 500, \"$maxDistance\":300}}})\n",
    "list(cercano5)[0]"
   ]
  },
  {
   "cell_type": "code",
   "execution_count": 73,
   "id": "637861a3",
   "metadata": {},
   "outputs": [
    {
     "data": {
      "text/plain": [
       "0.31289076969772284"
      ]
     },
     "execution_count": 73,
     "metadata": {},
     "output_type": "execute_result"
    }
   ],
   "source": [
    "distancia(40.72628,-73.995625,40.72506034424643,-73.99228003980646)"
   ]
  },
  {
   "cell_type": "markdown",
   "id": "5a588d96",
   "metadata": {},
   "source": [
    "✅ Resumen: La parada de autobuses más cercana se encuentra a 312 metros"
   ]
  },
  {
   "cell_type": "markdown",
   "id": "f42e59b4",
   "metadata": {},
   "source": [
    "## 4.6 Colegios 👶🏻"
   ]
  },
  {
   "cell_type": "code",
   "execution_count": 74,
   "id": "2e65f0a2",
   "metadata": {},
   "outputs": [],
   "source": [
    "params6 = {\"client_id\" : client_id,\n",
    "              \"client_secret\" : client_secret,\n",
    "              \"v\": \"20180323\",\n",
    "              \"ll\": coordenadas,\n",
    "              \"query\": \"school\",\n",
    "              \"limit\": 10,\n",
    "              \"radius\": 500\n",
    "             }\n",
    "response6 = requests.get(url,params=params6).json() "
   ]
  },
  {
   "cell_type": "code",
   "execution_count": 75,
   "id": "538cf780",
   "metadata": {},
   "outputs": [],
   "source": [
    "data6 = response6.get(\"response\")\n",
    "decode6 = data6.get(\"groups\")[0] \n",
    "escuela = decode6.get(\"items\")"
   ]
  },
  {
   "cell_type": "code",
   "execution_count": 76,
   "id": "e347ea7e",
   "metadata": {},
   "outputs": [],
   "source": [
    "#Extración de los datos\n",
    "escuelas = []\n",
    "for dic in escuela:\n",
    "    lista = {}\n",
    "    lista[\"nombre\"] = getFromDict(dic, mapa_nombre)\n",
    "    lista[\"latitud\"] = getFromDict(dic, mapa_latitud)\n",
    "    lista[\"longitud\"] = getFromDict(dic, mapa_longitud)\n",
    "    escuelas.append(lista)"
   ]
  },
  {
   "cell_type": "code",
   "execution_count": 77,
   "id": "862f8e81",
   "metadata": {},
   "outputs": [
    {
     "data": {
      "text/html": [
       "<div>\n",
       "<style scoped>\n",
       "    .dataframe tbody tr th:only-of-type {\n",
       "        vertical-align: middle;\n",
       "    }\n",
       "\n",
       "    .dataframe tbody tr th {\n",
       "        vertical-align: top;\n",
       "    }\n",
       "\n",
       "    .dataframe thead th {\n",
       "        text-align: right;\n",
       "    }\n",
       "</style>\n",
       "<table border=\"1\" class=\"dataframe\">\n",
       "  <thead>\n",
       "    <tr style=\"text-align: right;\">\n",
       "      <th></th>\n",
       "      <th>nombre</th>\n",
       "      <th>latitud</th>\n",
       "      <th>longitud</th>\n",
       "    </tr>\n",
       "  </thead>\n",
       "  <tbody>\n",
       "    <tr>\n",
       "      <th>0</th>\n",
       "      <td>AppAcademy</td>\n",
       "      <td>40.725326</td>\n",
       "      <td>-73.996808</td>\n",
       "    </tr>\n",
       "    <tr>\n",
       "      <th>1</th>\n",
       "      <td>MUJI</td>\n",
       "      <td>40.728645</td>\n",
       "      <td>-73.991321</td>\n",
       "    </tr>\n",
       "    <tr>\n",
       "      <th>2</th>\n",
       "      <td>Kaleidoscope Kids</td>\n",
       "      <td>40.728154</td>\n",
       "      <td>-73.997730</td>\n",
       "    </tr>\n",
       "    <tr>\n",
       "      <th>3</th>\n",
       "      <td>Make Up For Ever Academy</td>\n",
       "      <td>40.723749</td>\n",
       "      <td>-73.998006</td>\n",
       "    </tr>\n",
       "    <tr>\n",
       "      <th>4</th>\n",
       "      <td>Skillshare School</td>\n",
       "      <td>40.722672</td>\n",
       "      <td>-73.995155</td>\n",
       "    </tr>\n",
       "    <tr>\n",
       "      <th>5</th>\n",
       "      <td>The Hemispheric Institute of Performance and P...</td>\n",
       "      <td>40.727893</td>\n",
       "      <td>-73.991590</td>\n",
       "    </tr>\n",
       "    <tr>\n",
       "      <th>6</th>\n",
       "      <td>Kimmel 604 - N'Harmz!</td>\n",
       "      <td>40.730061</td>\n",
       "      <td>-73.997726</td>\n",
       "    </tr>\n",
       "    <tr>\n",
       "      <th>7</th>\n",
       "      <td>La Salle Academy</td>\n",
       "      <td>40.724944</td>\n",
       "      <td>-73.990278</td>\n",
       "    </tr>\n",
       "    <tr>\n",
       "      <th>8</th>\n",
       "      <td>Kaplan International English</td>\n",
       "      <td>40.725790</td>\n",
       "      <td>-73.996446</td>\n",
       "    </tr>\n",
       "    <tr>\n",
       "      <th>9</th>\n",
       "      <td>NYU Wagner - Robert F. Wagner Graduate School ...</td>\n",
       "      <td>40.724804</td>\n",
       "      <td>-73.995343</td>\n",
       "    </tr>\n",
       "  </tbody>\n",
       "</table>\n",
       "</div>"
      ],
      "text/plain": [
       "                                              nombre    latitud   longitud\n",
       "0                                         AppAcademy  40.725326 -73.996808\n",
       "1                                               MUJI  40.728645 -73.991321\n",
       "2                                  Kaleidoscope Kids  40.728154 -73.997730\n",
       "3                           Make Up For Ever Academy  40.723749 -73.998006\n",
       "4                                  Skillshare School  40.722672 -73.995155\n",
       "5  The Hemispheric Institute of Performance and P...  40.727893 -73.991590\n",
       "6                              Kimmel 604 - N'Harmz!  40.730061 -73.997726\n",
       "7                                   La Salle Academy  40.724944 -73.990278\n",
       "8                       Kaplan International English  40.725790 -73.996446\n",
       "9  NYU Wagner - Robert F. Wagner Graduate School ...  40.724804 -73.995343"
      ]
     },
     "execution_count": 77,
     "metadata": {},
     "output_type": "execute_result"
    }
   ],
   "source": [
    "#Creación del DataFrame\n",
    "df_escuelas = pd.DataFrame(escuelas)\n",
    "df_escuelas"
   ]
  },
  {
   "cell_type": "code",
   "execution_count": 78,
   "id": "5c8ee57c",
   "metadata": {},
   "outputs": [
    {
     "data": {
      "text/html": [
       "<div>\n",
       "<style scoped>\n",
       "    .dataframe tbody tr th:only-of-type {\n",
       "        vertical-align: middle;\n",
       "    }\n",
       "\n",
       "    .dataframe tbody tr th {\n",
       "        vertical-align: top;\n",
       "    }\n",
       "\n",
       "    .dataframe thead th {\n",
       "        text-align: right;\n",
       "    }\n",
       "</style>\n",
       "<table border=\"1\" class=\"dataframe\">\n",
       "  <thead>\n",
       "    <tr style=\"text-align: right;\">\n",
       "      <th></th>\n",
       "      <th>nombre</th>\n",
       "      <th>latitud</th>\n",
       "      <th>longitud</th>\n",
       "      <th>geometry</th>\n",
       "    </tr>\n",
       "  </thead>\n",
       "  <tbody>\n",
       "    <tr>\n",
       "      <th>0</th>\n",
       "      <td>AppAcademy</td>\n",
       "      <td>40.725326</td>\n",
       "      <td>-73.996808</td>\n",
       "      <td>POINT (-73.99681 40.72533)</td>\n",
       "    </tr>\n",
       "    <tr>\n",
       "      <th>1</th>\n",
       "      <td>MUJI</td>\n",
       "      <td>40.728645</td>\n",
       "      <td>-73.991321</td>\n",
       "      <td>POINT (-73.99132 40.72865)</td>\n",
       "    </tr>\n",
       "    <tr>\n",
       "      <th>2</th>\n",
       "      <td>Kaleidoscope Kids</td>\n",
       "      <td>40.728154</td>\n",
       "      <td>-73.997730</td>\n",
       "      <td>POINT (-73.99773 40.72815)</td>\n",
       "    </tr>\n",
       "    <tr>\n",
       "      <th>3</th>\n",
       "      <td>Make Up For Ever Academy</td>\n",
       "      <td>40.723749</td>\n",
       "      <td>-73.998006</td>\n",
       "      <td>POINT (-73.99801 40.72375)</td>\n",
       "    </tr>\n",
       "    <tr>\n",
       "      <th>4</th>\n",
       "      <td>Skillshare School</td>\n",
       "      <td>40.722672</td>\n",
       "      <td>-73.995155</td>\n",
       "      <td>POINT (-73.99516 40.72267)</td>\n",
       "    </tr>\n",
       "    <tr>\n",
       "      <th>5</th>\n",
       "      <td>The Hemispheric Institute of Performance and P...</td>\n",
       "      <td>40.727893</td>\n",
       "      <td>-73.991590</td>\n",
       "      <td>POINT (-73.99159 40.72789)</td>\n",
       "    </tr>\n",
       "    <tr>\n",
       "      <th>6</th>\n",
       "      <td>Kimmel 604 - N'Harmz!</td>\n",
       "      <td>40.730061</td>\n",
       "      <td>-73.997726</td>\n",
       "      <td>POINT (-73.99773 40.73006)</td>\n",
       "    </tr>\n",
       "    <tr>\n",
       "      <th>7</th>\n",
       "      <td>La Salle Academy</td>\n",
       "      <td>40.724944</td>\n",
       "      <td>-73.990278</td>\n",
       "      <td>POINT (-73.99028 40.72494)</td>\n",
       "    </tr>\n",
       "    <tr>\n",
       "      <th>8</th>\n",
       "      <td>Kaplan International English</td>\n",
       "      <td>40.725790</td>\n",
       "      <td>-73.996446</td>\n",
       "      <td>POINT (-73.99645 40.72579)</td>\n",
       "    </tr>\n",
       "    <tr>\n",
       "      <th>9</th>\n",
       "      <td>NYU Wagner - Robert F. Wagner Graduate School ...</td>\n",
       "      <td>40.724804</td>\n",
       "      <td>-73.995343</td>\n",
       "      <td>POINT (-73.99534 40.72480)</td>\n",
       "    </tr>\n",
       "  </tbody>\n",
       "</table>\n",
       "</div>"
      ],
      "text/plain": [
       "                                              nombre    latitud   longitud  \\\n",
       "0                                         AppAcademy  40.725326 -73.996808   \n",
       "1                                               MUJI  40.728645 -73.991321   \n",
       "2                                  Kaleidoscope Kids  40.728154 -73.997730   \n",
       "3                           Make Up For Ever Academy  40.723749 -73.998006   \n",
       "4                                  Skillshare School  40.722672 -73.995155   \n",
       "5  The Hemispheric Institute of Performance and P...  40.727893 -73.991590   \n",
       "6                              Kimmel 604 - N'Harmz!  40.730061 -73.997726   \n",
       "7                                   La Salle Academy  40.724944 -73.990278   \n",
       "8                       Kaplan International English  40.725790 -73.996446   \n",
       "9  NYU Wagner - Robert F. Wagner Graduate School ...  40.724804 -73.995343   \n",
       "\n",
       "                     geometry  \n",
       "0  POINT (-73.99681 40.72533)  \n",
       "1  POINT (-73.99132 40.72865)  \n",
       "2  POINT (-73.99773 40.72815)  \n",
       "3  POINT (-73.99801 40.72375)  \n",
       "4  POINT (-73.99516 40.72267)  \n",
       "5  POINT (-73.99159 40.72789)  \n",
       "6  POINT (-73.99773 40.73006)  \n",
       "7  POINT (-73.99028 40.72494)  \n",
       "8  POINT (-73.99645 40.72579)  \n",
       "9  POINT (-73.99534 40.72480)  "
      ]
     },
     "execution_count": 78,
     "metadata": {},
     "output_type": "execute_result"
    }
   ],
   "source": [
    "#Lo transformamos en GeoDataFrame\n",
    "gdf_escuelas = gpd.GeoDataFrame(df_escuelas, geometry = gpd.points_from_xy(df_escuelas.longitud, df_escuelas.latitud))\n",
    "gdf_escuelas"
   ]
  },
  {
   "cell_type": "code",
   "execution_count": 79,
   "id": "75b80a31",
   "metadata": {},
   "outputs": [],
   "source": [
    "#Map(Layer(gdf_escuelas,\"color:orange\",popup_hover = [popup_element(\"nombre\", \"Escuelas\")]))"
   ]
  },
  {
   "cell_type": "markdown",
   "id": "853bd53d",
   "metadata": {},
   "source": [
    "🔴  **¿Cual será el más cercano?** "
   ]
  },
  {
   "cell_type": "code",
   "execution_count": 80,
   "id": "e2e7c9e2",
   "metadata": {},
   "outputs": [
    {
     "name": "stderr",
     "output_type": "stream",
     "text": [
      "/usr/local/Caskroom/miniconda/base/lib/python3.8/site-packages/geopandas/geodataframe.py:1321: UserWarning: Geometry column does not contain geometry.\n",
      "  warnings.warn(\"Geometry column does not contain geometry.\")\n"
     ]
    },
    {
     "data": {
      "text/html": [
       "<div>\n",
       "<style scoped>\n",
       "    .dataframe tbody tr th:only-of-type {\n",
       "        vertical-align: middle;\n",
       "    }\n",
       "\n",
       "    .dataframe tbody tr th {\n",
       "        vertical-align: top;\n",
       "    }\n",
       "\n",
       "    .dataframe thead th {\n",
       "        text-align: right;\n",
       "    }\n",
       "</style>\n",
       "<table border=\"1\" class=\"dataframe\">\n",
       "  <thead>\n",
       "    <tr style=\"text-align: right;\">\n",
       "      <th></th>\n",
       "      <th>nombre</th>\n",
       "      <th>latitud</th>\n",
       "      <th>longitud</th>\n",
       "      <th>geometry</th>\n",
       "    </tr>\n",
       "  </thead>\n",
       "  <tbody>\n",
       "    <tr>\n",
       "      <th>0</th>\n",
       "      <td>AppAcademy</td>\n",
       "      <td>40.725326</td>\n",
       "      <td>-73.996808</td>\n",
       "      <td>{'type': 'Point', 'coordinates': (-73.99680795...</td>\n",
       "    </tr>\n",
       "    <tr>\n",
       "      <th>1</th>\n",
       "      <td>MUJI</td>\n",
       "      <td>40.728645</td>\n",
       "      <td>-73.991321</td>\n",
       "      <td>{'type': 'Point', 'coordinates': (-73.99132132...</td>\n",
       "    </tr>\n",
       "    <tr>\n",
       "      <th>2</th>\n",
       "      <td>Kaleidoscope Kids</td>\n",
       "      <td>40.728154</td>\n",
       "      <td>-73.997730</td>\n",
       "      <td>{'type': 'Point', 'coordinates': (-73.99773039...</td>\n",
       "    </tr>\n",
       "    <tr>\n",
       "      <th>3</th>\n",
       "      <td>Make Up For Ever Academy</td>\n",
       "      <td>40.723749</td>\n",
       "      <td>-73.998006</td>\n",
       "      <td>{'type': 'Point', 'coordinates': (-73.9980063,...</td>\n",
       "    </tr>\n",
       "    <tr>\n",
       "      <th>4</th>\n",
       "      <td>Skillshare School</td>\n",
       "      <td>40.722672</td>\n",
       "      <td>-73.995155</td>\n",
       "      <td>{'type': 'Point', 'coordinates': (-73.99515533...</td>\n",
       "    </tr>\n",
       "    <tr>\n",
       "      <th>5</th>\n",
       "      <td>The Hemispheric Institute of Performance and P...</td>\n",
       "      <td>40.727893</td>\n",
       "      <td>-73.991590</td>\n",
       "      <td>{'type': 'Point', 'coordinates': (-73.99158954...</td>\n",
       "    </tr>\n",
       "    <tr>\n",
       "      <th>6</th>\n",
       "      <td>Kimmel 604 - N'Harmz!</td>\n",
       "      <td>40.730061</td>\n",
       "      <td>-73.997726</td>\n",
       "      <td>{'type': 'Point', 'coordinates': (-73.99772614...</td>\n",
       "    </tr>\n",
       "    <tr>\n",
       "      <th>7</th>\n",
       "      <td>La Salle Academy</td>\n",
       "      <td>40.724944</td>\n",
       "      <td>-73.990278</td>\n",
       "      <td>{'type': 'Point', 'coordinates': (-73.99027751...</td>\n",
       "    </tr>\n",
       "    <tr>\n",
       "      <th>8</th>\n",
       "      <td>Kaplan International English</td>\n",
       "      <td>40.725790</td>\n",
       "      <td>-73.996446</td>\n",
       "      <td>{'type': 'Point', 'coordinates': (-73.99644625...</td>\n",
       "    </tr>\n",
       "    <tr>\n",
       "      <th>9</th>\n",
       "      <td>NYU Wagner - Robert F. Wagner Graduate School ...</td>\n",
       "      <td>40.724804</td>\n",
       "      <td>-73.995343</td>\n",
       "      <td>{'type': 'Point', 'coordinates': (-73.99534254...</td>\n",
       "    </tr>\n",
       "  </tbody>\n",
       "</table>\n",
       "</div>"
      ],
      "text/plain": [
       "                                              nombre    latitud   longitud  \\\n",
       "0                                         AppAcademy  40.725326 -73.996808   \n",
       "1                                               MUJI  40.728645 -73.991321   \n",
       "2                                  Kaleidoscope Kids  40.728154 -73.997730   \n",
       "3                           Make Up For Ever Academy  40.723749 -73.998006   \n",
       "4                                  Skillshare School  40.722672 -73.995155   \n",
       "5  The Hemispheric Institute of Performance and P...  40.727893 -73.991590   \n",
       "6                              Kimmel 604 - N'Harmz!  40.730061 -73.997726   \n",
       "7                                   La Salle Academy  40.724944 -73.990278   \n",
       "8                       Kaplan International English  40.725790 -73.996446   \n",
       "9  NYU Wagner - Robert F. Wagner Graduate School ...  40.724804 -73.995343   \n",
       "\n",
       "                                            geometry  \n",
       "0  {'type': 'Point', 'coordinates': (-73.99680795...  \n",
       "1  {'type': 'Point', 'coordinates': (-73.99132132...  \n",
       "2  {'type': 'Point', 'coordinates': (-73.99773039...  \n",
       "3  {'type': 'Point', 'coordinates': (-73.9980063,...  \n",
       "4  {'type': 'Point', 'coordinates': (-73.99515533...  \n",
       "5  {'type': 'Point', 'coordinates': (-73.99158954...  \n",
       "6  {'type': 'Point', 'coordinates': (-73.99772614...  \n",
       "7  {'type': 'Point', 'coordinates': (-73.99027751...  \n",
       "8  {'type': 'Point', 'coordinates': (-73.99644625...  \n",
       "9  {'type': 'Point', 'coordinates': (-73.99534254...  "
      ]
     },
     "execution_count": 80,
     "metadata": {},
     "output_type": "execute_result"
    }
   ],
   "source": [
    "gdf_escuelas['geometry'] = gdf_escuelas['geometry'].apply(lambda x:shapely.geometry.mapping(x))\n",
    "gdf_escuelas"
   ]
  },
  {
   "cell_type": "code",
   "execution_count": 81,
   "id": "8e20ac81",
   "metadata": {},
   "outputs": [
    {
     "data": {
      "text/plain": [
       "'geometry_2dsphere'"
      ]
     },
     "execution_count": 81,
     "metadata": {},
     "output_type": "execute_result"
    }
   ],
   "source": [
    "client = MongoClient()\n",
    "db = client[\"Ironhack-lab\"]\n",
    "collection6 = db.escuelas\n",
    "collection6.create_index ([(\"geometry\", GEOSPHERE)])"
   ]
  },
  {
   "cell_type": "code",
   "execution_count": 82,
   "id": "47721394",
   "metadata": {},
   "outputs": [
    {
     "data": {
      "text/plain": [
       "<pymongo.results.InsertManyResult at 0x7fb770275080>"
      ]
     },
     "execution_count": 82,
     "metadata": {},
     "output_type": "execute_result"
    }
   ],
   "source": [
    "data6 = gdf_escuelas.to_dict(orient=\"records\")\n",
    "collection6.insert_many(data6)"
   ]
  },
  {
   "cell_type": "code",
   "execution_count": 83,
   "id": "22c59c5f",
   "metadata": {},
   "outputs": [
    {
     "data": {
      "text/plain": [
       "{'_id': ObjectId('60d9801ebaa8249db79ab5a8'),\n",
       " 'nombre': 'Skillshare School',\n",
       " 'latitud': 40.72267150878906,\n",
       " 'longitud': -73.99515533447266,\n",
       " 'geometry': {'type': 'Point',\n",
       "  'coordinates': [-73.99515533447266, 40.72267150878906]}}"
      ]
     },
     "execution_count": 83,
     "metadata": {},
     "output_type": "execute_result"
    }
   ],
   "source": [
    "cercano6 = db.escuelas.find({\"geometry\":{\"$near\":{\"type\":\"Point\", \"coordinates\":[40.726155, -73.995625],\"$minDistance\": 500, \"$maxDistance\":300}}})\n",
    "list(cercano6)[0]"
   ]
  },
  {
   "cell_type": "code",
   "execution_count": 84,
   "id": "1c6d3407",
   "metadata": {},
   "outputs": [
    {
     "data": {
      "text/plain": [
       "0.4033068180917176"
      ]
     },
     "execution_count": 84,
     "metadata": {},
     "output_type": "execute_result"
    }
   ],
   "source": [
    "distancia(40.72628,-73.995625,40.72267150878906,-73.99515533447266)"
   ]
  },
  {
   "cell_type": "markdown",
   "id": "c700930a",
   "metadata": {},
   "source": [
    "✅ Resumen: El colegio más cercano se encuentra a 403 metros."
   ]
  },
  {
   "cell_type": "markdown",
   "id": "d28efdbc",
   "metadata": {},
   "source": [
    "## 4.7 Veterinario 🐾"
   ]
  },
  {
   "cell_type": "code",
   "execution_count": 85,
   "id": "4b6d40e6",
   "metadata": {},
   "outputs": [],
   "source": [
    "params7 = {\"client_id\" : client_id,\n",
    "              \"client_secret\" : client_secret,\n",
    "              \"v\": \"20180323\",\n",
    "              \"ll\": coordenadas,\n",
    "              \"query\": \"veterinary\",\n",
    "              \"limit\": 10,\n",
    "              \"radius\": 500\n",
    "             }\n",
    "response7 = requests.get(url,params=params7).json() "
   ]
  },
  {
   "cell_type": "code",
   "execution_count": 86,
   "id": "8294324a",
   "metadata": {},
   "outputs": [],
   "source": [
    "data7 = response7.get(\"response\")\n",
    "decode7 = data7.get(\"groups\")[0] \n",
    "vet = decode7.get(\"items\")"
   ]
  },
  {
   "cell_type": "code",
   "execution_count": 87,
   "id": "c8785fb2",
   "metadata": {},
   "outputs": [],
   "source": [
    "#Extración de los datos\n",
    "veterinario = []\n",
    "for dic in vet:\n",
    "    lista = {}\n",
    "    lista[\"nombre\"] = getFromDict(dic, mapa_nombre)\n",
    "    lista[\"latitud\"] = getFromDict(dic, mapa_latitud)\n",
    "    lista[\"longitud\"] = getFromDict(dic, mapa_longitud)\n",
    "    veterinario.append(lista)"
   ]
  },
  {
   "cell_type": "code",
   "execution_count": 88,
   "id": "e6335389",
   "metadata": {},
   "outputs": [
    {
     "data": {
      "text/html": [
       "<div>\n",
       "<style scoped>\n",
       "    .dataframe tbody tr th:only-of-type {\n",
       "        vertical-align: middle;\n",
       "    }\n",
       "\n",
       "    .dataframe tbody tr th {\n",
       "        vertical-align: top;\n",
       "    }\n",
       "\n",
       "    .dataframe thead th {\n",
       "        text-align: right;\n",
       "    }\n",
       "</style>\n",
       "<table border=\"1\" class=\"dataframe\">\n",
       "  <thead>\n",
       "    <tr style=\"text-align: right;\">\n",
       "      <th></th>\n",
       "      <th>nombre</th>\n",
       "      <th>latitud</th>\n",
       "      <th>longitud</th>\n",
       "    </tr>\n",
       "  </thead>\n",
       "  <tbody>\n",
       "    <tr>\n",
       "      <th>0</th>\n",
       "      <td>Cooper Square Veterinary Hospital</td>\n",
       "      <td>40.727466</td>\n",
       "      <td>-73.990615</td>\n",
       "    </tr>\n",
       "  </tbody>\n",
       "</table>\n",
       "</div>"
      ],
      "text/plain": [
       "                              nombre    latitud   longitud\n",
       "0  Cooper Square Veterinary Hospital  40.727466 -73.990615"
      ]
     },
     "execution_count": 88,
     "metadata": {},
     "output_type": "execute_result"
    }
   ],
   "source": [
    "#Creación del DataFrame\n",
    "df_veterinario = pd.DataFrame(veterinario)\n",
    "df_veterinario"
   ]
  },
  {
   "cell_type": "code",
   "execution_count": 89,
   "id": "acc6cd09",
   "metadata": {},
   "outputs": [
    {
     "data": {
      "text/html": [
       "<div>\n",
       "<style scoped>\n",
       "    .dataframe tbody tr th:only-of-type {\n",
       "        vertical-align: middle;\n",
       "    }\n",
       "\n",
       "    .dataframe tbody tr th {\n",
       "        vertical-align: top;\n",
       "    }\n",
       "\n",
       "    .dataframe thead th {\n",
       "        text-align: right;\n",
       "    }\n",
       "</style>\n",
       "<table border=\"1\" class=\"dataframe\">\n",
       "  <thead>\n",
       "    <tr style=\"text-align: right;\">\n",
       "      <th></th>\n",
       "      <th>nombre</th>\n",
       "      <th>latitud</th>\n",
       "      <th>longitud</th>\n",
       "      <th>geometry</th>\n",
       "    </tr>\n",
       "  </thead>\n",
       "  <tbody>\n",
       "    <tr>\n",
       "      <th>0</th>\n",
       "      <td>Cooper Square Veterinary Hospital</td>\n",
       "      <td>40.727466</td>\n",
       "      <td>-73.990615</td>\n",
       "      <td>POINT (-73.99061 40.72747)</td>\n",
       "    </tr>\n",
       "  </tbody>\n",
       "</table>\n",
       "</div>"
      ],
      "text/plain": [
       "                              nombre    latitud   longitud  \\\n",
       "0  Cooper Square Veterinary Hospital  40.727466 -73.990615   \n",
       "\n",
       "                     geometry  \n",
       "0  POINT (-73.99061 40.72747)  "
      ]
     },
     "execution_count": 89,
     "metadata": {},
     "output_type": "execute_result"
    }
   ],
   "source": [
    "#Lo transformamos en GeoDataFrame\n",
    "gdf_veterinario = gpd.GeoDataFrame(df_veterinario, geometry = gpd.points_from_xy(df_veterinario.longitud, df_veterinario.latitud))\n",
    "gdf_veterinario"
   ]
  },
  {
   "cell_type": "code",
   "execution_count": 90,
   "id": "26608dde",
   "metadata": {},
   "outputs": [],
   "source": [
    "#Map(Layer(gdf_veterinario,\"color:black\",popup_hover = [popup_element(\"nombre\", \"Veterinarios\")]))"
   ]
  },
  {
   "cell_type": "markdown",
   "id": "f9283f35",
   "metadata": {},
   "source": [
    "🔴  **Distancia en metros** "
   ]
  },
  {
   "cell_type": "code",
   "execution_count": 91,
   "id": "14b10c35",
   "metadata": {},
   "outputs": [
    {
     "name": "stderr",
     "output_type": "stream",
     "text": [
      "/usr/local/Caskroom/miniconda/base/lib/python3.8/site-packages/geopandas/geodataframe.py:1321: UserWarning: Geometry column does not contain geometry.\n",
      "  warnings.warn(\"Geometry column does not contain geometry.\")\n"
     ]
    },
    {
     "data": {
      "text/html": [
       "<div>\n",
       "<style scoped>\n",
       "    .dataframe tbody tr th:only-of-type {\n",
       "        vertical-align: middle;\n",
       "    }\n",
       "\n",
       "    .dataframe tbody tr th {\n",
       "        vertical-align: top;\n",
       "    }\n",
       "\n",
       "    .dataframe thead th {\n",
       "        text-align: right;\n",
       "    }\n",
       "</style>\n",
       "<table border=\"1\" class=\"dataframe\">\n",
       "  <thead>\n",
       "    <tr style=\"text-align: right;\">\n",
       "      <th></th>\n",
       "      <th>nombre</th>\n",
       "      <th>latitud</th>\n",
       "      <th>longitud</th>\n",
       "      <th>geometry</th>\n",
       "    </tr>\n",
       "  </thead>\n",
       "  <tbody>\n",
       "    <tr>\n",
       "      <th>0</th>\n",
       "      <td>Cooper Square Veterinary Hospital</td>\n",
       "      <td>40.727466</td>\n",
       "      <td>-73.990615</td>\n",
       "      <td>{'type': 'Point', 'coordinates': (-73.99061496...</td>\n",
       "    </tr>\n",
       "  </tbody>\n",
       "</table>\n",
       "</div>"
      ],
      "text/plain": [
       "                              nombre    latitud   longitud  \\\n",
       "0  Cooper Square Veterinary Hospital  40.727466 -73.990615   \n",
       "\n",
       "                                            geometry  \n",
       "0  {'type': 'Point', 'coordinates': (-73.99061496...  "
      ]
     },
     "execution_count": 91,
     "metadata": {},
     "output_type": "execute_result"
    }
   ],
   "source": [
    "gdf_veterinario['geometry'] = gdf_veterinario['geometry'].apply(lambda x:shapely.geometry.mapping(x))\n",
    "gdf_veterinario"
   ]
  },
  {
   "cell_type": "code",
   "execution_count": 92,
   "id": "ecceae8a",
   "metadata": {},
   "outputs": [
    {
     "data": {
      "text/plain": [
       "'geometry_2dsphere'"
      ]
     },
     "execution_count": 92,
     "metadata": {},
     "output_type": "execute_result"
    }
   ],
   "source": [
    "client = MongoClient()\n",
    "db = client[\"Ironhack-lab\"]\n",
    "collection7 = db.veterinario\n",
    "collection7.create_index ([(\"geometry\", GEOSPHERE)])"
   ]
  },
  {
   "cell_type": "code",
   "execution_count": 93,
   "id": "c33f9c25",
   "metadata": {},
   "outputs": [
    {
     "data": {
      "text/plain": [
       "<pymongo.results.InsertManyResult at 0x7fb77029bc80>"
      ]
     },
     "execution_count": 93,
     "metadata": {},
     "output_type": "execute_result"
    }
   ],
   "source": [
    "data7 = gdf_veterinario.to_dict(orient=\"records\")\n",
    "collection7.insert_many(data7)"
   ]
  },
  {
   "cell_type": "code",
   "execution_count": 94,
   "id": "4b2fc89c",
   "metadata": {},
   "outputs": [],
   "source": [
    "#cercano7 = db.veterinario.find({\"geometry\":{\"$near\":{\"type\":\"Point\", \"coordinates\":[40.726155, -73.995625],\"$minDistance\": 500, \"$maxDistance\":300}}})\n",
    "#list(cercano7)[0]"
   ]
  },
  {
   "cell_type": "code",
   "execution_count": 95,
   "id": "e2e521f8",
   "metadata": {},
   "outputs": [
    {
     "data": {
      "text/plain": [
       "0.44242778677806777"
      ]
     },
     "execution_count": 95,
     "metadata": {},
     "output_type": "execute_result"
    }
   ],
   "source": [
    "distancia(40.72628,-73.995625,40.72746618943346,-73.99061496749717)"
   ]
  },
  {
   "cell_type": "markdown",
   "id": "05da1beb",
   "metadata": {},
   "source": [
    "✅ Resumen: El veterinario más cercano se encuentra a 442 metros."
   ]
  }
 ],
 "metadata": {
  "kernelspec": {
   "display_name": "OLAYA1",
   "language": "python",
   "name": "olaya1"
  },
  "language_info": {
   "codemirror_mode": {
    "name": "ipython",
    "version": 3
   },
   "file_extension": ".py",
   "mimetype": "text/x-python",
   "name": "python",
   "nbconvert_exporter": "python",
   "pygments_lexer": "ipython3",
   "version": "3.8.5"
  }
 },
 "nbformat": 4,
 "nbformat_minor": 5
}
