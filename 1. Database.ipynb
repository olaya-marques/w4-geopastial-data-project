{
 "cells": [
  {
   "cell_type": "markdown",
   "id": "a50331ac",
   "metadata": {},
   "source": [
    "# Base de datos. Eligiendo la compañía 🕵🏻"
   ]
  },
  {
   "cell_type": "markdown",
   "id": "0866db90",
   "metadata": {},
   "source": [
    "En este jupyter se encuentra todo el proceso de limpieza y selección de las oficinas descargadas del dataset de \"companies.json\" proporcionado por Ironhack."
   ]
  },
  {
   "cell_type": "markdown",
   "id": "93315af1",
   "metadata": {},
   "source": [
    "*Consideraciones*\n",
    "\n",
    "- Para la selección de las oficinas se tiene en cuenta que la empresa se compone por una plantilla de más o menos 85 empleados por ello la capacidad de la oficina será para 80 - 150 personas. Además puesto que es un sector actual y muy novedoso se exige que el año de fundación de la misma no sea superior al año 2000 y su categoría sea videojuegos.\n",
    "- Para la elección del país se tendrá en cuenta el análisis previo, que la empresa ya dispone de sedes en China y que su objetivo es la expansión dentro del marco internacional."
   ]
  },
  {
   "cell_type": "markdown",
   "id": "f47d11b2",
   "metadata": {},
   "source": [
    "## Índice 📎"
   ]
  },
  {
   "cell_type": "markdown",
   "id": "a0e0f1bd",
   "metadata": {},
   "source": [
    "1. Importación de librerias y funciones\n",
    "2. Importación de la base de datos \"companies\"\n",
    "3. Análisis previo\n",
    ">- Toma de datos\n",
    ">- Elección del país\n",
    "4. Exploración del dataset\n",
    "5. Selección de oficinas\n",
    "6. Exportación de los datos\n",
    "7. Visualización de los datos"
   ]
  },
  {
   "cell_type": "markdown",
   "id": "1c10bf67",
   "metadata": {},
   "source": [
    "## 1. Importación de librerias y funciones 📚"
   ]
  },
  {
   "cell_type": "code",
   "execution_count": 1,
   "id": "7bfaf8d3",
   "metadata": {},
   "outputs": [],
   "source": [
    "import pandas as pd\n",
    "import sqlalchemy as alch\n",
    "import numpy as np\n",
    "import re\n",
    "import requests\n",
    "import seaborn as sns\n",
    "import matplotlib.pyplot as plt\n",
    "from bs4 import BeautifulSoup\n",
    "from pymongo import MongoClient\n",
    "from pandas.io.json import json_normalize\n",
    "import cartoframes\n",
    "from cartoframes.viz import Map, Layer, popup_element\n",
    "import folium\n",
    "from folium import Choropleth, Circle, Marker, Icon, Map\n",
    "from folium.plugins import HeatMap, MarkerCluster"
   ]
  },
  {
   "cell_type": "markdown",
   "id": "4d6bf723",
   "metadata": {},
   "source": [
    "Otras funciones:"
   ]
  },
  {
   "cell_type": "code",
   "execution_count": 4,
   "id": "d631e35f",
   "metadata": {},
   "outputs": [],
   "source": [
    "from iteration_utilities import duplicates\n",
    "from iteration_utilities import unique_everseen\n",
    "#import Funciones Funciones.py as fu"
   ]
  },
  {
   "cell_type": "markdown",
   "id": "6e84fe48",
   "metadata": {},
   "source": [
    "## 2. Importación de la base de datos \"companies\" 📖"
   ]
  },
  {
   "cell_type": "code",
   "execution_count": 5,
   "id": "df90d5d5",
   "metadata": {},
   "outputs": [],
   "source": [
    "#Utilizamos el comando MongoClient para establecer la conexión con el servidor\n",
    "client = MongoClient(\"localhost:27017\")"
   ]
  },
  {
   "cell_type": "code",
   "execution_count": 6,
   "id": "2ee2d9f9",
   "metadata": {},
   "outputs": [],
   "source": [
    "#Una vez tenemos la conexión establecemos otra conexión a la base de datos con la que vamos a trabajar.\n",
    "db = client.get_database(\"Ironhack-lab\")\n",
    "#db.list_collection_names()"
   ]
  },
  {
   "cell_type": "code",
   "execution_count": 7,
   "id": "d6dc7c48",
   "metadata": {},
   "outputs": [
    {
     "data": {
      "text/plain": [
       "Collection(Database(MongoClient(host=['localhost:27017'], document_class=dict, tz_aware=False, connect=True), 'Ironhack-lab'), 'Companies')"
      ]
     },
     "execution_count": 7,
     "metadata": {},
     "output_type": "execute_result"
    }
   ],
   "source": [
    "#Realizamos lo mismo para collections\n",
    "companies = db.get_collection(\"Companies\")\n",
    "companies"
   ]
  },
  {
   "cell_type": "markdown",
   "id": "4151e10a",
   "metadata": {},
   "source": [
    "## 3. Análisis previo 🤓"
   ]
  },
  {
   "cell_type": "markdown",
   "id": "eb9c09e4",
   "metadata": {},
   "source": [
    "*La industria de videojuegos ha experimentado en los últimos años altas tasas de crecimiento, debido al desarrollo de la computación, capacidad de procesamiento e imágenes más reales, generando una recaudación mundial de 57.600 millones de euros durante 2009 y 91.000 millones de dólares en 2016.*\n",
    "\n",
    "Para realizar este ejercicio contamos con una empresa de videojuegos altamente reconocida y con gran notoriedad de marca en el mercado, por ello a la hora de escoger la ciudad donde se abrirá la nueva sede se tendrá en cuenta los países más competitivos los cuales generan mayores ingresos en el mundo de dicha industria. Para ello se tomará de referencia los datos extraidos de wikipedia: [list of videogames market by country](https://en.wikipedia.org/wiki/List_of_video_games_markets_by_country) mediante la herramienta de webscraping. "
   ]
  },
  {
   "cell_type": "markdown",
   "id": "55fb8cf4",
   "metadata": {},
   "source": [
    "### 3.1 Toma de Datos 🎣"
   ]
  },
  {
   "cell_type": "code",
   "execution_count": 8,
   "id": "8023006f",
   "metadata": {},
   "outputs": [],
   "source": [
    "url_paises = \"https://en.wikipedia.org/wiki/List_of_video_games_markets_by_country\""
   ]
  },
  {
   "cell_type": "code",
   "execution_count": 9,
   "id": "8dd5dbb2",
   "metadata": {},
   "outputs": [],
   "source": [
    "html_paises = requests.get(url_paises)"
   ]
  },
  {
   "cell_type": "code",
   "execution_count": 10,
   "id": "c8a0b5f0",
   "metadata": {},
   "outputs": [],
   "source": [
    "soup = BeautifulSoup(html_paises.content, \"html.parser\")"
   ]
  },
  {
   "cell_type": "markdown",
   "id": "e78e12b7",
   "metadata": {},
   "source": [
    "Observamos que se encuentra dentro de un tag llamado \"table\". Abrimos la consola y mediante la siguiente función la filtramos para comprobar si mediante ese filtro podemos seleccionar la información deseada:"
   ]
  },
  {
   "cell_type": "code",
   "execution_count": 11,
   "id": "5d806eb2",
   "metadata": {},
   "outputs": [],
   "source": [
    "#document.querySelectorAll(\"Table\").forEach(elm => elm.style.background = 'red')\n",
    "table = soup.find(\"table\")"
   ]
  },
  {
   "cell_type": "code",
   "execution_count": 12,
   "id": "b1f9ab2e",
   "metadata": {},
   "outputs": [],
   "source": [
    "#Reorganización de la tabla\n",
    "rows = table.find_all(\"tr\")\n",
    "rows = [row.text.replace(\"\\n\\n\", \",\").replace(\"\\n\", \",\").replace(\"\\xa0\", \"\").strip(\",\").split(\",\") for row in rows]"
   ]
  },
  {
   "cell_type": "code",
   "execution_count": 13,
   "id": "11d79c47",
   "metadata": {},
   "outputs": [],
   "source": [
    "#Creación del dataframe\n",
    "nombre_columnas = rows[0]\n",
    "data = rows[1:]\n",
    "paises = pd.DataFrame(data)\n",
    "#paises.head(10)"
   ]
  },
  {
   "cell_type": "code",
   "execution_count": 14,
   "id": "4f763844",
   "metadata": {},
   "outputs": [],
   "source": [
    "#Reenombramos las columnas\n",
    "paises.columns = [\"country\", \"market\", \"employees\", \"gamers\", \"game\"]"
   ]
  },
  {
   "cell_type": "code",
   "execution_count": 15,
   "id": "9a057e37",
   "metadata": {},
   "outputs": [],
   "source": [
    "#Eliminamos las columnas cuya información no es relevante\n",
    "paises2 = paises.drop([\"employees\",\"gamers\",\"game\"], axis=1)\n",
    "paises3= paises2[:11] #Escogemos el top 10 de países"
   ]
  },
  {
   "cell_type": "markdown",
   "id": "12a519ea",
   "metadata": {},
   "source": [
    "### 3.1 Elección del país 🌎"
   ]
  },
  {
   "cell_type": "code",
   "execution_count": 16,
   "id": "d88dbd76",
   "metadata": {},
   "outputs": [
    {
     "data": {
      "text/html": [
       "<div>\n",
       "<style scoped>\n",
       "    .dataframe tbody tr th:only-of-type {\n",
       "        vertical-align: middle;\n",
       "    }\n",
       "\n",
       "    .dataframe tbody tr th {\n",
       "        vertical-align: top;\n",
       "    }\n",
       "\n",
       "    .dataframe thead th {\n",
       "        text-align: right;\n",
       "    }\n",
       "</style>\n",
       "<table border=\"1\" class=\"dataframe\">\n",
       "  <thead>\n",
       "    <tr style=\"text-align: right;\">\n",
       "      <th></th>\n",
       "      <th>country</th>\n",
       "      <th>market</th>\n",
       "    </tr>\n",
       "  </thead>\n",
       "  <tbody>\n",
       "    <tr>\n",
       "      <th>0</th>\n",
       "      <td>China</td>\n",
       "      <td>$37.9 billion[2]</td>\n",
       "    </tr>\n",
       "    <tr>\n",
       "      <th>1</th>\n",
       "      <td>United States</td>\n",
       "      <td>$27.9 billion</td>\n",
       "    </tr>\n",
       "    <tr>\n",
       "      <th>2</th>\n",
       "      <td>Japan</td>\n",
       "      <td>$11.5 billion</td>\n",
       "    </tr>\n",
       "    <tr>\n",
       "      <th>3</th>\n",
       "      <td>United Kingdom</td>\n",
       "      <td>£5.7 billion</td>\n",
       "    </tr>\n",
       "    <tr>\n",
       "      <th>4</th>\n",
       "      <td>Germany</td>\n",
       "      <td>€4.4 billion</td>\n",
       "    </tr>\n",
       "    <tr>\n",
       "      <th>5</th>\n",
       "      <td>Canada</td>\n",
       "      <td>$3 billion</td>\n",
       "    </tr>\n",
       "    <tr>\n",
       "      <th>6</th>\n",
       "      <td>France</td>\n",
       "      <td>€2.7 billion</td>\n",
       "    </tr>\n",
       "    <tr>\n",
       "      <th>7</th>\n",
       "      <td>Australia</td>\n",
       "      <td>$2.9 billion</td>\n",
       "    </tr>\n",
       "    <tr>\n",
       "      <th>8</th>\n",
       "      <td>Russia</td>\n",
       "      <td>$2 billion</td>\n",
       "    </tr>\n",
       "    <tr>\n",
       "      <th>9</th>\n",
       "      <td>Italy</td>\n",
       "      <td>€1.8 billion</td>\n",
       "    </tr>\n",
       "    <tr>\n",
       "      <th>10</th>\n",
       "      <td>Spain</td>\n",
       "      <td>€1.5 billion</td>\n",
       "    </tr>\n",
       "  </tbody>\n",
       "</table>\n",
       "</div>"
      ],
      "text/plain": [
       "           country            market\n",
       "0            China  $37.9 billion[2]\n",
       "1    United States     $27.9 billion\n",
       "2            Japan     $11.5 billion\n",
       "3   United Kingdom      £5.7 billion\n",
       "4          Germany      €4.4 billion\n",
       "5           Canada        $3 billion\n",
       "6           France      €2.7 billion\n",
       "7        Australia      $2.9 billion\n",
       "8           Russia        $2 billion\n",
       "9            Italy      €1.8 billion\n",
       "10           Spain      €1.5 billion"
      ]
     },
     "execution_count": 16,
     "metadata": {},
     "output_type": "execute_result"
    }
   ],
   "source": [
    "paises3"
   ]
  },
  {
   "cell_type": "markdown",
   "id": "2cafca97",
   "metadata": {},
   "source": [
    "*Observamos que los países dónde se recauda mayor cantidad de dinero son China, Estados Unidos y Japón.* \n",
    "\n",
    "Partiendo de este análisis la decisión del CEO será lanzarse al mercado Internacional en Estados Unidos ya que es un mercado bastante competitivo y en el que considera que puede alcanzar una atractiva cuota de mercado además conocen y hablan el mismo idioma."
   ]
  },
  {
   "cell_type": "markdown",
   "id": "bc77a630",
   "metadata": {},
   "source": [
    "## 4. Exploración de datos 🔎"
   ]
  },
  {
   "cell_type": "markdown",
   "id": "181ffd5a",
   "metadata": {},
   "source": [
    "A continuación procederemos a realizar una exploración de la base de datos para posteriormente filtrar y proyectar aquellos datos que nos interesan."
   ]
  },
  {
   "cell_type": "code",
   "execution_count": 17,
   "id": "52aa501a",
   "metadata": {},
   "outputs": [
    {
     "data": {
      "text/plain": [
       "dict_keys(['_id', 'name', 'permalink', 'crunchbase_url', 'homepage_url', 'blog_url', 'blog_feed_url', 'twitter_username', 'category_code', 'number_of_employees', 'founded_year', 'founded_month', 'founded_day', 'deadpooled_year', 'tag_list', 'alias_list', 'email_address', 'phone_number', 'description', 'created_at', 'updated_at', 'overview', 'image', 'products', 'relationships', 'competitions', 'providerships', 'total_money_raised', 'funding_rounds', 'investments', 'acquisition', 'acquisitions', 'offices', 'milestones', 'video_embeds', 'screenshots', 'external_links', 'partners'])"
      ]
     },
     "execution_count": 17,
     "metadata": {},
     "output_type": "execute_result"
    }
   ],
   "source": [
    "#Para hacernos una idea de las keys que contiene nuestro diccionario\n",
    "companies.find_one().keys()"
   ]
  },
  {
   "cell_type": "markdown",
   "id": "525c9dd5",
   "metadata": {},
   "source": [
    "*Consideraciones: se toma como idea las keys de este diccionario ya que el método find_one de mongo escoge un valor aleatorio, el cual no tiene porque contener las mismas keys que el resto. Partiendo de esta idea:*"
   ]
  },
  {
   "cell_type": "markdown",
   "id": "65fdb379",
   "metadata": {},
   "source": [
    "Al tratarse de una empresa de videojuegos, el tipo de empresa \"category_code\" tendrá que ser especifico de esta industria. Para ello visualizamos los datos úncios contenidos en esta variable y seleccionamos el más acorde a nuestro menester en este caso \"games_video\"."
   ]
  },
  {
   "cell_type": "code",
   "execution_count": 18,
   "id": "e03997f0",
   "metadata": {},
   "outputs": [
    {
     "data": {
      "text/plain": [
       "[None,\n",
       " 'advertising',\n",
       " 'analytics',\n",
       " 'automotive',\n",
       " 'biotech',\n",
       " 'cleantech',\n",
       " 'consulting',\n",
       " 'design',\n",
       " 'ecommerce',\n",
       " 'education',\n",
       " 'enterprise',\n",
       " 'fashion',\n",
       " 'finance',\n",
       " 'games_video',\n",
       " 'government',\n",
       " 'hardware',\n",
       " 'health',\n",
       " 'hospitality',\n",
       " 'legal',\n",
       " 'local',\n",
       " 'manufacturing',\n",
       " 'medical',\n",
       " 'messaging',\n",
       " 'mobile',\n",
       " 'music',\n",
       " 'nanotech',\n",
       " 'network_hosting',\n",
       " 'news',\n",
       " 'nonprofit',\n",
       " 'other',\n",
       " 'photo_video',\n",
       " 'public_relations',\n",
       " 'real_estate',\n",
       " 'search',\n",
       " 'security',\n",
       " 'semiconductor',\n",
       " 'social',\n",
       " 'software',\n",
       " 'sports',\n",
       " 'transportation',\n",
       " 'travel',\n",
       " 'web']"
      ]
     },
     "execution_count": 18,
     "metadata": {},
     "output_type": "execute_result"
    }
   ],
   "source": [
    "companies.distinct(\"category_code\")"
   ]
  },
  {
   "cell_type": "markdown",
   "id": "fb137dac",
   "metadata": {},
   "source": [
    "Los demás requisitos que deberá cumplir la oficina en cuanto a su estructura y tamaño será que se encuentre en Nueva York, Estados Unidos (por los motivos comentados en el análisis previo) y que tenga una capacidad de entre 80 empleados y 150. Además de un año de fundación superior al año 2000."
   ]
  },
  {
   "cell_type": "code",
   "execution_count": 19,
   "id": "4d79ee71",
   "metadata": {},
   "outputs": [],
   "source": [
    "filtro = {\"$and\":[\n",
    "    {\"category_code\":{\"$eq\":\"games_video\"}},\n",
    "    {\"offices.country_code\":{\"$eq\":\"USA\"}},\n",
    "    {\"offices.city\":{\"$eq\":\"New York\"}},\n",
    "    {\"number_of_employees\":{\"$gte\": 80, \"$lte\":150}},\n",
    "    {\"founded_year\": {'$gte': 2000}}\n",
    "]}"
   ]
  },
  {
   "cell_type": "markdown",
   "id": "4e1884ab",
   "metadata": {},
   "source": [
    "Los datos que necesitamos para el posterior análisis son:"
   ]
  },
  {
   "cell_type": "code",
   "execution_count": 20,
   "id": "43a2a1cd",
   "metadata": {},
   "outputs": [],
   "source": [
    "proyeccion = {\"_id\":0, \"name\":1, \"category_code\":1, \"number_of_employees\":1, \"offices.city\":1, \"offices.country_code\":1, \"offices.latitude\":1, \"offices.longitude\":1, \"founded_year\":1}"
   ]
  },
  {
   "cell_type": "markdown",
   "id": "7fe819f7",
   "metadata": {},
   "source": [
    "## 5. Selección de oficinas 💼"
   ]
  },
  {
   "cell_type": "code",
   "execution_count": 21,
   "id": "ae9b3b28",
   "metadata": {},
   "outputs": [],
   "source": [
    "oficinas = list(companies.find(filtro,proyeccion))"
   ]
  },
  {
   "cell_type": "code",
   "execution_count": 22,
   "id": "74f3dd39",
   "metadata": {},
   "outputs": [
    {
     "data": {
      "text/plain": [
       "[{'name': 'Livestream',\n",
       "  'category_code': 'games_video',\n",
       "  'number_of_employees': 120,\n",
       "  'founded_year': 2007,\n",
       "  'offices': [{'city': 'New York',\n",
       "    'country_code': 'USA',\n",
       "    'latitude': 40.726155,\n",
       "    'longitude': -73.995625}]},\n",
       " {'name': 'Boonty',\n",
       "  'category_code': 'games_video',\n",
       "  'number_of_employees': 150,\n",
       "  'founded_year': 2001,\n",
       "  'offices': [{'city': 'New York',\n",
       "    'country_code': 'USA',\n",
       "    'latitude': 40.717248,\n",
       "    'longitude': -74.002662}]}]"
      ]
     },
     "execution_count": 22,
     "metadata": {},
     "output_type": "execute_result"
    }
   ],
   "source": [
    "oficinas"
   ]
  },
  {
   "cell_type": "code",
   "execution_count": 23,
   "id": "12524383",
   "metadata": {},
   "outputs": [
    {
     "name": "stderr",
     "output_type": "stream",
     "text": [
      "<ipython-input-23-da31137ad14e>:1: FutureWarning: pandas.io.json.json_normalize is deprecated, use pandas.json_normalize instead\n",
      "  data = json_normalize(data = oficinas, record_path = \"offices\", meta = [\"name\", \"category_code\", \"number_of_employees\",\"founded_year\"])\n"
     ]
    }
   ],
   "source": [
    "data = json_normalize(data = oficinas, record_path = \"offices\", meta = [\"name\", \"category_code\", \"number_of_employees\",\"founded_year\"])"
   ]
  },
  {
   "cell_type": "code",
   "execution_count": 24,
   "id": "a37ac2b3",
   "metadata": {},
   "outputs": [
    {
     "data": {
      "text/html": [
       "<div>\n",
       "<style scoped>\n",
       "    .dataframe tbody tr th:only-of-type {\n",
       "        vertical-align: middle;\n",
       "    }\n",
       "\n",
       "    .dataframe tbody tr th {\n",
       "        vertical-align: top;\n",
       "    }\n",
       "\n",
       "    .dataframe thead th {\n",
       "        text-align: right;\n",
       "    }\n",
       "</style>\n",
       "<table border=\"1\" class=\"dataframe\">\n",
       "  <thead>\n",
       "    <tr style=\"text-align: right;\">\n",
       "      <th></th>\n",
       "      <th>city</th>\n",
       "      <th>country_code</th>\n",
       "      <th>latitude</th>\n",
       "      <th>longitude</th>\n",
       "      <th>name</th>\n",
       "      <th>category_code</th>\n",
       "      <th>number_of_employees</th>\n",
       "      <th>founded_year</th>\n",
       "    </tr>\n",
       "  </thead>\n",
       "  <tbody>\n",
       "    <tr>\n",
       "      <th>0</th>\n",
       "      <td>New York</td>\n",
       "      <td>USA</td>\n",
       "      <td>40.726155</td>\n",
       "      <td>-73.995625</td>\n",
       "      <td>Livestream</td>\n",
       "      <td>games_video</td>\n",
       "      <td>120</td>\n",
       "      <td>2007</td>\n",
       "    </tr>\n",
       "    <tr>\n",
       "      <th>1</th>\n",
       "      <td>New York</td>\n",
       "      <td>USA</td>\n",
       "      <td>40.717248</td>\n",
       "      <td>-74.002662</td>\n",
       "      <td>Boonty</td>\n",
       "      <td>games_video</td>\n",
       "      <td>150</td>\n",
       "      <td>2001</td>\n",
       "    </tr>\n",
       "  </tbody>\n",
       "</table>\n",
       "</div>"
      ],
      "text/plain": [
       "       city country_code   latitude  longitude        name category_code  \\\n",
       "0  New York          USA  40.726155 -73.995625  Livestream   games_video   \n",
       "1  New York          USA  40.717248 -74.002662      Boonty   games_video   \n",
       "\n",
       "  number_of_employees founded_year  \n",
       "0                 120         2007  \n",
       "1                 150         2001  "
      ]
     },
     "execution_count": 24,
     "metadata": {},
     "output_type": "execute_result"
    }
   ],
   "source": [
    "data"
   ]
  },
  {
   "cell_type": "markdown",
   "id": "b7ce451b",
   "metadata": {},
   "source": [
    "## 6. Exportación de los datos 🚀"
   ]
  },
  {
   "cell_type": "code",
   "execution_count": 25,
   "id": "d8461894",
   "metadata": {},
   "outputs": [],
   "source": [
    "data.to_csv(\"oficinas_info.csv\")"
   ]
  },
  {
   "cell_type": "markdown",
   "id": "2bee1e95",
   "metadata": {},
   "source": [
    "## 7. Visualización de las oficinas 🗺️"
   ]
  },
  {
   "cell_type": "markdown",
   "id": "3f9b867e",
   "metadata": {},
   "source": [
    "**Livestream**"
   ]
  },
  {
   "cell_type": "code",
   "execution_count": 26,
   "id": "2cf07001",
   "metadata": {},
   "outputs": [],
   "source": [
    "oficina_mapa = folium.Map(location = [40.726155,-73.995625],zoom_start=25)"
   ]
  },
  {
   "cell_type": "code",
   "execution_count": 27,
   "id": "5c0cdace",
   "metadata": {},
   "outputs": [
    {
     "data": {
      "text/plain": [
       "<folium.map.Marker at 0x7ff7780a78b0>"
      ]
     },
     "execution_count": 27,
     "metadata": {},
     "output_type": "execute_result"
    }
   ],
   "source": [
    "livestream = Icon(color = \"red\",\n",
    "             prefix = \"fa\",\n",
    "             icon = \"building\",\n",
    "             icon_color = \"white\",\n",
    "             tooltip = \"Livestream\")\n",
    "\n",
    "loc = {\"location\":[40.726155,-73.995625],\n",
    "      \"tooltip\": \"Livestream\"}\n",
    "\n",
    "marker = Marker(**loc, icon = livestream)\n",
    "\n",
    "marker.add_to(oficina_mapa)"
   ]
  },
  {
   "cell_type": "markdown",
   "id": "e1535159",
   "metadata": {},
   "source": [
    "**Boonty**"
   ]
  },
  {
   "cell_type": "code",
   "execution_count": 28,
   "id": "fa173d78",
   "metadata": {},
   "outputs": [
    {
     "data": {
      "text/plain": [
       "<folium.map.Marker at 0x7ff7780a7160>"
      ]
     },
     "execution_count": 28,
     "metadata": {},
     "output_type": "execute_result"
    }
   ],
   "source": [
    "boonty = Icon(color = \"red\",\n",
    "             prefix = \"fa\",\n",
    "             icon = \"building-o\",\n",
    "             icon_color = \"white\",\n",
    "             tooltip = \"Boonty\")\n",
    "\n",
    "loc = {\"location\":[40.717248,-74.002662],\n",
    "      \"tooltip\": \"Boonty\"}\n",
    "\n",
    "marker = Marker(**loc, icon = boonty)\n",
    "\n",
    "marker.add_to(oficina_mapa)"
   ]
  },
  {
   "cell_type": "markdown",
   "id": "a7b34515",
   "metadata": {},
   "source": [
    "**Representación**"
   ]
  },
  {
   "cell_type": "code",
   "execution_count": 29,
   "id": "85b9882b",
   "metadata": {},
   "outputs": [
    {
     "data": {
      "text/html": [
       "<div style=\"width:100%;\"><div style=\"position:relative;width:100%;height:0;padding-bottom:60%;\"><span style=\"color:#565656\">Make this Notebook Trusted to load map: File -> Trust Notebook</span><iframe src=\"about:blank\" style=\"position:absolute;width:100%;height:100%;left:0;top:0;border:none !important;\" data-html=%3C%21DOCTYPE%20html%3E%0A%3Chead%3E%20%20%20%20%0A%20%20%20%20%3Cmeta%20http-equiv%3D%22content-type%22%20content%3D%22text/html%3B%20charset%3DUTF-8%22%20/%3E%0A%20%20%20%20%0A%20%20%20%20%20%20%20%20%3Cscript%3E%0A%20%20%20%20%20%20%20%20%20%20%20%20L_NO_TOUCH%20%3D%20false%3B%0A%20%20%20%20%20%20%20%20%20%20%20%20L_DISABLE_3D%20%3D%20false%3B%0A%20%20%20%20%20%20%20%20%3C/script%3E%0A%20%20%20%20%0A%20%20%20%20%3Cstyle%3Ehtml%2C%20body%20%7Bwidth%3A%20100%25%3Bheight%3A%20100%25%3Bmargin%3A%200%3Bpadding%3A%200%3B%7D%3C/style%3E%0A%20%20%20%20%3Cstyle%3E%23map%20%7Bposition%3Aabsolute%3Btop%3A0%3Bbottom%3A0%3Bright%3A0%3Bleft%3A0%3B%7D%3C/style%3E%0A%20%20%20%20%3Cscript%20src%3D%22https%3A//cdn.jsdelivr.net/npm/leaflet%401.6.0/dist/leaflet.js%22%3E%3C/script%3E%0A%20%20%20%20%3Cscript%20src%3D%22https%3A//code.jquery.com/jquery-1.12.4.min.js%22%3E%3C/script%3E%0A%20%20%20%20%3Cscript%20src%3D%22https%3A//maxcdn.bootstrapcdn.com/bootstrap/3.2.0/js/bootstrap.min.js%22%3E%3C/script%3E%0A%20%20%20%20%3Cscript%20src%3D%22https%3A//cdnjs.cloudflare.com/ajax/libs/Leaflet.awesome-markers/2.0.2/leaflet.awesome-markers.js%22%3E%3C/script%3E%0A%20%20%20%20%3Clink%20rel%3D%22stylesheet%22%20href%3D%22https%3A//cdn.jsdelivr.net/npm/leaflet%401.6.0/dist/leaflet.css%22/%3E%0A%20%20%20%20%3Clink%20rel%3D%22stylesheet%22%20href%3D%22https%3A//maxcdn.bootstrapcdn.com/bootstrap/3.2.0/css/bootstrap.min.css%22/%3E%0A%20%20%20%20%3Clink%20rel%3D%22stylesheet%22%20href%3D%22https%3A//maxcdn.bootstrapcdn.com/bootstrap/3.2.0/css/bootstrap-theme.min.css%22/%3E%0A%20%20%20%20%3Clink%20rel%3D%22stylesheet%22%20href%3D%22https%3A//maxcdn.bootstrapcdn.com/font-awesome/4.6.3/css/font-awesome.min.css%22/%3E%0A%20%20%20%20%3Clink%20rel%3D%22stylesheet%22%20href%3D%22https%3A//cdnjs.cloudflare.com/ajax/libs/Leaflet.awesome-markers/2.0.2/leaflet.awesome-markers.css%22/%3E%0A%20%20%20%20%3Clink%20rel%3D%22stylesheet%22%20href%3D%22https%3A//cdn.jsdelivr.net/gh/python-visualization/folium/folium/templates/leaflet.awesome.rotate.min.css%22/%3E%0A%20%20%20%20%0A%20%20%20%20%20%20%20%20%20%20%20%20%3Cmeta%20name%3D%22viewport%22%20content%3D%22width%3Ddevice-width%2C%0A%20%20%20%20%20%20%20%20%20%20%20%20%20%20%20%20initial-scale%3D1.0%2C%20maximum-scale%3D1.0%2C%20user-scalable%3Dno%22%20/%3E%0A%20%20%20%20%20%20%20%20%20%20%20%20%3Cstyle%3E%0A%20%20%20%20%20%20%20%20%20%20%20%20%20%20%20%20%23map_e6a06390f441463ebd018d98e3f182f6%20%7B%0A%20%20%20%20%20%20%20%20%20%20%20%20%20%20%20%20%20%20%20%20position%3A%20relative%3B%0A%20%20%20%20%20%20%20%20%20%20%20%20%20%20%20%20%20%20%20%20width%3A%20100.0%25%3B%0A%20%20%20%20%20%20%20%20%20%20%20%20%20%20%20%20%20%20%20%20height%3A%20100.0%25%3B%0A%20%20%20%20%20%20%20%20%20%20%20%20%20%20%20%20%20%20%20%20left%3A%200.0%25%3B%0A%20%20%20%20%20%20%20%20%20%20%20%20%20%20%20%20%20%20%20%20top%3A%200.0%25%3B%0A%20%20%20%20%20%20%20%20%20%20%20%20%20%20%20%20%7D%0A%20%20%20%20%20%20%20%20%20%20%20%20%3C/style%3E%0A%20%20%20%20%20%20%20%20%0A%3C/head%3E%0A%3Cbody%3E%20%20%20%20%0A%20%20%20%20%0A%20%20%20%20%20%20%20%20%20%20%20%20%3Cdiv%20class%3D%22folium-map%22%20id%3D%22map_e6a06390f441463ebd018d98e3f182f6%22%20%3E%3C/div%3E%0A%20%20%20%20%20%20%20%20%0A%3C/body%3E%0A%3Cscript%3E%20%20%20%20%0A%20%20%20%20%0A%20%20%20%20%20%20%20%20%20%20%20%20var%20map_e6a06390f441463ebd018d98e3f182f6%20%3D%20L.map%28%0A%20%20%20%20%20%20%20%20%20%20%20%20%20%20%20%20%22map_e6a06390f441463ebd018d98e3f182f6%22%2C%0A%20%20%20%20%20%20%20%20%20%20%20%20%20%20%20%20%7B%0A%20%20%20%20%20%20%20%20%20%20%20%20%20%20%20%20%20%20%20%20center%3A%20%5B40.726155%2C%20-73.995625%5D%2C%0A%20%20%20%20%20%20%20%20%20%20%20%20%20%20%20%20%20%20%20%20crs%3A%20L.CRS.EPSG3857%2C%0A%20%20%20%20%20%20%20%20%20%20%20%20%20%20%20%20%20%20%20%20zoom%3A%2025%2C%0A%20%20%20%20%20%20%20%20%20%20%20%20%20%20%20%20%20%20%20%20zoomControl%3A%20true%2C%0A%20%20%20%20%20%20%20%20%20%20%20%20%20%20%20%20%20%20%20%20preferCanvas%3A%20false%2C%0A%20%20%20%20%20%20%20%20%20%20%20%20%20%20%20%20%7D%0A%20%20%20%20%20%20%20%20%20%20%20%20%29%3B%0A%0A%20%20%20%20%20%20%20%20%20%20%20%20%0A%0A%20%20%20%20%20%20%20%20%0A%20%20%20%20%0A%20%20%20%20%20%20%20%20%20%20%20%20var%20tile_layer_af236a6de4674b758e9b944fc6e413fa%20%3D%20L.tileLayer%28%0A%20%20%20%20%20%20%20%20%20%20%20%20%20%20%20%20%22https%3A//%7Bs%7D.tile.openstreetmap.org/%7Bz%7D/%7Bx%7D/%7By%7D.png%22%2C%0A%20%20%20%20%20%20%20%20%20%20%20%20%20%20%20%20%7B%22attribution%22%3A%20%22Data%20by%20%5Cu0026copy%3B%20%5Cu003ca%20href%3D%5C%22http%3A//openstreetmap.org%5C%22%5Cu003eOpenStreetMap%5Cu003c/a%5Cu003e%2C%20under%20%5Cu003ca%20href%3D%5C%22http%3A//www.openstreetmap.org/copyright%5C%22%5Cu003eODbL%5Cu003c/a%5Cu003e.%22%2C%20%22detectRetina%22%3A%20false%2C%20%22maxNativeZoom%22%3A%2018%2C%20%22maxZoom%22%3A%2018%2C%20%22minZoom%22%3A%200%2C%20%22noWrap%22%3A%20false%2C%20%22opacity%22%3A%201%2C%20%22subdomains%22%3A%20%22abc%22%2C%20%22tms%22%3A%20false%7D%0A%20%20%20%20%20%20%20%20%20%20%20%20%29.addTo%28map_e6a06390f441463ebd018d98e3f182f6%29%3B%0A%20%20%20%20%20%20%20%20%0A%20%20%20%20%0A%20%20%20%20%20%20%20%20%20%20%20%20var%20marker_bce230aee06c4455bac1e7fb35e0c807%20%3D%20L.marker%28%0A%20%20%20%20%20%20%20%20%20%20%20%20%20%20%20%20%5B40.726155%2C%20-73.995625%5D%2C%0A%20%20%20%20%20%20%20%20%20%20%20%20%20%20%20%20%7B%7D%0A%20%20%20%20%20%20%20%20%20%20%20%20%29.addTo%28map_e6a06390f441463ebd018d98e3f182f6%29%3B%0A%20%20%20%20%20%20%20%20%0A%20%20%20%20%0A%20%20%20%20%20%20%20%20%20%20%20%20var%20icon_d1189c1b6c344641b6862574cf4cfc91%20%3D%20L.AwesomeMarkers.icon%28%0A%20%20%20%20%20%20%20%20%20%20%20%20%20%20%20%20%7B%22extraClasses%22%3A%20%22fa-rotate-0%22%2C%20%22icon%22%3A%20%22building%22%2C%20%22iconColor%22%3A%20%22white%22%2C%20%22markerColor%22%3A%20%22red%22%2C%20%22prefix%22%3A%20%22fa%22%2C%20%22tooltip%22%3A%20%22Livestream%22%7D%0A%20%20%20%20%20%20%20%20%20%20%20%20%29%3B%0A%20%20%20%20%20%20%20%20%20%20%20%20marker_bce230aee06c4455bac1e7fb35e0c807.setIcon%28icon_d1189c1b6c344641b6862574cf4cfc91%29%3B%0A%20%20%20%20%20%20%20%20%0A%20%20%20%20%0A%20%20%20%20%20%20%20%20%20%20%20%20marker_bce230aee06c4455bac1e7fb35e0c807.bindTooltip%28%0A%20%20%20%20%20%20%20%20%20%20%20%20%20%20%20%20%60%3Cdiv%3E%0A%20%20%20%20%20%20%20%20%20%20%20%20%20%20%20%20%20%20%20%20%20Livestream%0A%20%20%20%20%20%20%20%20%20%20%20%20%20%20%20%20%20%3C/div%3E%60%2C%0A%20%20%20%20%20%20%20%20%20%20%20%20%20%20%20%20%7B%22sticky%22%3A%20true%7D%0A%20%20%20%20%20%20%20%20%20%20%20%20%29%3B%0A%20%20%20%20%20%20%20%20%0A%20%20%20%20%0A%20%20%20%20%20%20%20%20%20%20%20%20var%20marker_1df49c5d8f694d3e9056ad0defa73793%20%3D%20L.marker%28%0A%20%20%20%20%20%20%20%20%20%20%20%20%20%20%20%20%5B40.717248%2C%20-74.002662%5D%2C%0A%20%20%20%20%20%20%20%20%20%20%20%20%20%20%20%20%7B%7D%0A%20%20%20%20%20%20%20%20%20%20%20%20%29.addTo%28map_e6a06390f441463ebd018d98e3f182f6%29%3B%0A%20%20%20%20%20%20%20%20%0A%20%20%20%20%0A%20%20%20%20%20%20%20%20%20%20%20%20var%20icon_1012995ec1a64379b0394d9c34da4f20%20%3D%20L.AwesomeMarkers.icon%28%0A%20%20%20%20%20%20%20%20%20%20%20%20%20%20%20%20%7B%22extraClasses%22%3A%20%22fa-rotate-0%22%2C%20%22icon%22%3A%20%22building-o%22%2C%20%22iconColor%22%3A%20%22white%22%2C%20%22markerColor%22%3A%20%22red%22%2C%20%22prefix%22%3A%20%22fa%22%2C%20%22tooltip%22%3A%20%22Boonty%22%7D%0A%20%20%20%20%20%20%20%20%20%20%20%20%29%3B%0A%20%20%20%20%20%20%20%20%20%20%20%20marker_1df49c5d8f694d3e9056ad0defa73793.setIcon%28icon_1012995ec1a64379b0394d9c34da4f20%29%3B%0A%20%20%20%20%20%20%20%20%0A%20%20%20%20%0A%20%20%20%20%20%20%20%20%20%20%20%20marker_1df49c5d8f694d3e9056ad0defa73793.bindTooltip%28%0A%20%20%20%20%20%20%20%20%20%20%20%20%20%20%20%20%60%3Cdiv%3E%0A%20%20%20%20%20%20%20%20%20%20%20%20%20%20%20%20%20%20%20%20%20Boonty%0A%20%20%20%20%20%20%20%20%20%20%20%20%20%20%20%20%20%3C/div%3E%60%2C%0A%20%20%20%20%20%20%20%20%20%20%20%20%20%20%20%20%7B%22sticky%22%3A%20true%7D%0A%20%20%20%20%20%20%20%20%20%20%20%20%29%3B%0A%20%20%20%20%20%20%20%20%0A%3C/script%3E onload=\"this.contentDocument.open();this.contentDocument.write(    decodeURIComponent(this.getAttribute('data-html')));this.contentDocument.close();\" allowfullscreen webkitallowfullscreen mozallowfullscreen></iframe></div></div>"
      ],
      "text/plain": [
       "<folium.folium.Map at 0x7ff7780a76a0>"
      ]
     },
     "execution_count": 29,
     "metadata": {},
     "output_type": "execute_result"
    }
   ],
   "source": [
    "oficina_mapa"
   ]
  },
  {
   "cell_type": "markdown",
   "id": "c194a3a1",
   "metadata": {},
   "source": [
    "⭐ **Tomaremos como LiveStream como la nueva oficina para IronGames**"
   ]
  },
  {
   "cell_type": "markdown",
   "id": "44e12872",
   "metadata": {},
   "source": [
    "*Consideraciones*\n",
    "\n",
    "La distancia entre ambas oficinas es de: 1,15 kilómetros"
   ]
  },
  {
   "cell_type": "code",
   "execution_count": 3,
   "id": "1007dfef",
   "metadata": {},
   "outputs": [],
   "source": [
    "def distancia(lat1, lon1, lat2, lon2):\n",
    "    rad=math.pi/180\n",
    "    dlat=lat2-lat1\n",
    "    dlon=lon2-lon1\n",
    "    R=6372.795477598\n",
    "    a=(math.sin(rad*dlat/2))**2 + math.cos(rad*lat1)*math.cos(rad*lat2)*(math.sin(rad*dlon/2))**2\n",
    "    distancia=2*R*math.asin(math.sqrt(a))\n",
    "    return distancia"
   ]
  },
  {
   "cell_type": "code",
   "execution_count": 4,
   "id": "66ae00e1",
   "metadata": {},
   "outputs": [
    {
     "data": {
      "text/plain": [
       "1.1547098806187885"
      ]
     },
     "execution_count": 4,
     "metadata": {},
     "output_type": "execute_result"
    }
   ],
   "source": [
    "distancia(40.726155,-73.995625,40.717248,-74.002662)"
   ]
  }
 ],
 "metadata": {
  "kernelspec": {
   "display_name": "OLAYA1",
   "language": "python",
   "name": "olaya1"
  },
  "language_info": {
   "codemirror_mode": {
    "name": "ipython",
    "version": 3
   },
   "file_extension": ".py",
   "mimetype": "text/x-python",
   "name": "python",
   "nbconvert_exporter": "python",
   "pygments_lexer": "ipython3",
   "version": "3.8.5"
  }
 },
 "nbformat": 4,
 "nbformat_minor": 5
}
