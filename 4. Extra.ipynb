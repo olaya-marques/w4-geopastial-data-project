{
 "cells": [
  {
   "cell_type": "markdown",
   "id": "a1be022d",
   "metadata": {},
   "source": [
    "# Extra ⭐"
   ]
  },
  {
   "cell_type": "markdown",
   "id": "af2ed994",
   "metadata": {},
   "source": [
    "En este jupyter notebook se encuentra todo el proceso de exportación de datos para el estudio de las variables requeridas, utilizando la API Foursquare. **Para la empresa Boonty**."
   ]
  },
  {
   "cell_type": "markdown",
   "id": "589dc892",
   "metadata": {},
   "source": [
    "*Consideraciones*\n",
    "- Se ha establecido un \"limit\" de 10 elementos al realizar las llamadas a la API, para facilitar la selección, además de no superar el límite de llamadas a la API, permitida en la versión gratuita.\n",
    "- La metodología empleada para la obtención de los datos ha sido la misma que seguida en los jupyter 2 y 3 para la empresa de LiveStream"
   ]
  },
  {
   "cell_type": "markdown",
   "id": "03df4339",
   "metadata": {},
   "source": [
    "## Índice 📎"
   ]
  },
  {
   "cell_type": "markdown",
   "id": "bf548205",
   "metadata": {},
   "source": [
    "1. Importación de librerías y funciones\n",
    "2. Importación de los datos\n",
    "3. Conexión con la API\n",
    "4. Estudio de las variables\n",
    ">- Aeropuertos\n",
    ">- Discotecas\n",
    ">- Starbucks\n",
    ">- Restaurantes veganos\n",
    ">- Estación de autobuses\n",
    ">- Colegios\n",
    ">- Veterinarios"
   ]
  },
  {
   "cell_type": "markdown",
   "id": "7770f519",
   "metadata": {},
   "source": [
    "## 1. Importación de librerías y funciones 📚"
   ]
  },
  {
   "cell_type": "code",
   "execution_count": 1,
   "id": "638b3305",
   "metadata": {},
   "outputs": [],
   "source": [
    "import requests\n",
    "import json\n",
    "from dotenv import load_dotenv\n",
    "import os\n",
    "import pandas as pd\n",
    "import geopandas as gpd\n",
    "from pymongo import MongoClient,GEOSPHERE\n",
    "from functools import reduce\n",
    "import operator\n",
    "from cartoframes.viz import Map, Layer, popup_element\n",
    "from pymongo import MongoClient\n",
    "import shapely.geometry\n",
    "import math"
   ]
  },
  {
   "cell_type": "markdown",
   "id": "a01d8b23",
   "metadata": {},
   "source": [
    "Otras funciones:"
   ]
  },
  {
   "cell_type": "code",
   "execution_count": 2,
   "id": "d4b88f32",
   "metadata": {},
   "outputs": [],
   "source": [
    "#import Funciones Funciones as fu"
   ]
  },
  {
   "cell_type": "markdown",
   "id": "328f8d6d",
   "metadata": {},
   "source": [
    "## 2. Importación de los datos 📍"
   ]
  },
  {
   "cell_type": "code",
   "execution_count": 3,
   "id": "71d3e850",
   "metadata": {},
   "outputs": [
    {
     "data": {
      "text/html": [
       "<div>\n",
       "<style scoped>\n",
       "    .dataframe tbody tr th:only-of-type {\n",
       "        vertical-align: middle;\n",
       "    }\n",
       "\n",
       "    .dataframe tbody tr th {\n",
       "        vertical-align: top;\n",
       "    }\n",
       "\n",
       "    .dataframe thead th {\n",
       "        text-align: right;\n",
       "    }\n",
       "</style>\n",
       "<table border=\"1\" class=\"dataframe\">\n",
       "  <thead>\n",
       "    <tr style=\"text-align: right;\">\n",
       "      <th></th>\n",
       "      <th>Unnamed: 0</th>\n",
       "      <th>city</th>\n",
       "      <th>country_code</th>\n",
       "      <th>latitude</th>\n",
       "      <th>longitude</th>\n",
       "      <th>name</th>\n",
       "      <th>category_code</th>\n",
       "      <th>number_of_employees</th>\n",
       "      <th>founded_year</th>\n",
       "    </tr>\n",
       "  </thead>\n",
       "  <tbody>\n",
       "    <tr>\n",
       "      <th>0</th>\n",
       "      <td>0</td>\n",
       "      <td>New York</td>\n",
       "      <td>USA</td>\n",
       "      <td>40.726155</td>\n",
       "      <td>-73.995625</td>\n",
       "      <td>Livestream</td>\n",
       "      <td>games_video</td>\n",
       "      <td>120</td>\n",
       "      <td>2007</td>\n",
       "    </tr>\n",
       "    <tr>\n",
       "      <th>1</th>\n",
       "      <td>1</td>\n",
       "      <td>New York</td>\n",
       "      <td>USA</td>\n",
       "      <td>40.717248</td>\n",
       "      <td>-74.002662</td>\n",
       "      <td>Boonty</td>\n",
       "      <td>games_video</td>\n",
       "      <td>150</td>\n",
       "      <td>2001</td>\n",
       "    </tr>\n",
       "  </tbody>\n",
       "</table>\n",
       "</div>"
      ],
      "text/plain": [
       "   Unnamed: 0      city country_code   latitude  longitude        name  \\\n",
       "0           0  New York          USA  40.726155 -73.995625  Livestream   \n",
       "1           1  New York          USA  40.717248 -74.002662      Boonty   \n",
       "\n",
       "  category_code  number_of_employees  founded_year  \n",
       "0   games_video                  120          2007  \n",
       "1   games_video                  150          2001  "
      ]
     },
     "execution_count": 3,
     "metadata": {},
     "output_type": "execute_result"
    }
   ],
   "source": [
    "oficinas = pd.read_csv(\"./oficinas_info.csv\")\n",
    "oficinas"
   ]
  },
  {
   "cell_type": "markdown",
   "id": "f5d5f796",
   "metadata": {},
   "source": [
    "*Consideraciones: Se tomaran las coordenadas 40.717248, -74.002662 de la emprea Boonty para el estudio de las varibles*"
   ]
  },
  {
   "cell_type": "markdown",
   "id": "5a8468ca",
   "metadata": {},
   "source": [
    "## 3. Conexión con la API. Foursquare 🔌"
   ]
  },
  {
   "cell_type": "code",
   "execution_count": 4,
   "id": "6be15d7b",
   "metadata": {},
   "outputs": [],
   "source": [
    "url = \"https://api.foursquare.com/v2/venues/explore\""
   ]
  },
  {
   "cell_type": "code",
   "execution_count": 5,
   "id": "5541ed7a",
   "metadata": {},
   "outputs": [],
   "source": [
    "client_id = open(\"./client_id.txt\").readlines()[0].rstrip()"
   ]
  },
  {
   "cell_type": "code",
   "execution_count": 6,
   "id": "2ce71b7c",
   "metadata": {},
   "outputs": [],
   "source": [
    "client_secret = open(\"./client_secret.txt\").readlines()[0].rstrip()"
   ]
  },
  {
   "cell_type": "code",
   "execution_count": 7,
   "id": "c834641c",
   "metadata": {},
   "outputs": [],
   "source": [
    "coordenadas = \"40.717248, -74.002662\""
   ]
  },
  {
   "cell_type": "markdown",
   "id": "f4469013",
   "metadata": {},
   "source": [
    "## 4. Estudio de las variables ✳️"
   ]
  },
  {
   "cell_type": "markdown",
   "id": "5d3aea1e",
   "metadata": {},
   "source": [
    "## 4.1 Aeropuerto ✈️"
   ]
  },
  {
   "cell_type": "code",
   "execution_count": 8,
   "id": "69e44397",
   "metadata": {},
   "outputs": [],
   "source": [
    "params1 = {\"client_id\" : client_id,\n",
    "              \"client_secret\" : client_secret,\n",
    "              \"v\": \"20180323\",\n",
    "              \"ll\": coordenadas,\n",
    "              \"query\": \"airport\",\n",
    "              \"limit\": 10,\n",
    "              \"radius\": 5000\n",
    "             }\n",
    "response1 = requests.get(url,params=params1).json()"
   ]
  },
  {
   "cell_type": "code",
   "execution_count": 9,
   "id": "b47cfb8f",
   "metadata": {},
   "outputs": [],
   "source": [
    "data1 = response1.get(\"response\")"
   ]
  },
  {
   "cell_type": "code",
   "execution_count": 10,
   "id": "5bb0c3bc",
   "metadata": {},
   "outputs": [],
   "source": [
    "decode1 = data1.get(\"groups\")[0] "
   ]
  },
  {
   "cell_type": "code",
   "execution_count": 11,
   "id": "0293d26a",
   "metadata": {},
   "outputs": [],
   "source": [
    "aeropuerto = decode1.get(\"items\")"
   ]
  },
  {
   "cell_type": "code",
   "execution_count": 12,
   "id": "7d5d843d",
   "metadata": {},
   "outputs": [],
   "source": [
    "mapa_nombre = [\"venue\", \"name\"]\n",
    "mapa_latitud = [\"venue\",\"location\",\"lat\"]\n",
    "mapa_longitud = [\"venue\",\"location\",\"lng\"]"
   ]
  },
  {
   "cell_type": "code",
   "execution_count": 13,
   "id": "ee250bd1",
   "metadata": {},
   "outputs": [],
   "source": [
    "#Fuentes\n",
    "def getFromDict(diccionario,mapa):\n",
    "    return reduce(operator.getitem,mapa,diccionario)"
   ]
  },
  {
   "cell_type": "code",
   "execution_count": 14,
   "id": "7a1b0acc",
   "metadata": {},
   "outputs": [],
   "source": [
    "#Extración de los datos\n",
    "aeropuertos = []\n",
    "for dic in aeropuerto:\n",
    "    lista = {}\n",
    "    lista[\"nombre\"] = getFromDict(dic, mapa_nombre)\n",
    "    lista[\"latitud\"] = getFromDict(dic, mapa_latitud)\n",
    "    lista[\"longitud\"] = getFromDict(dic, mapa_longitud)\n",
    "    aeropuertos.append(lista)"
   ]
  },
  {
   "cell_type": "code",
   "execution_count": 15,
   "id": "d33ee941",
   "metadata": {},
   "outputs": [
    {
     "data": {
      "text/html": [
       "<div>\n",
       "<style scoped>\n",
       "    .dataframe tbody tr th:only-of-type {\n",
       "        vertical-align: middle;\n",
       "    }\n",
       "\n",
       "    .dataframe tbody tr th {\n",
       "        vertical-align: top;\n",
       "    }\n",
       "\n",
       "    .dataframe thead th {\n",
       "        text-align: right;\n",
       "    }\n",
       "</style>\n",
       "<table border=\"1\" class=\"dataframe\">\n",
       "  <thead>\n",
       "    <tr style=\"text-align: right;\">\n",
       "      <th></th>\n",
       "      <th>nombre</th>\n",
       "      <th>latitud</th>\n",
       "      <th>longitud</th>\n",
       "    </tr>\n",
       "  </thead>\n",
       "  <tbody>\n",
       "    <tr>\n",
       "      <th>0</th>\n",
       "      <td>Priority One Jets</td>\n",
       "      <td>40.709288</td>\n",
       "      <td>-74.006822</td>\n",
       "    </tr>\n",
       "    <tr>\n",
       "      <th>1</th>\n",
       "      <td>Corporate Express Travel</td>\n",
       "      <td>40.722429</td>\n",
       "      <td>-74.002404</td>\n",
       "    </tr>\n",
       "    <tr>\n",
       "      <th>2</th>\n",
       "      <td>PH Helipad</td>\n",
       "      <td>40.732918</td>\n",
       "      <td>-73.995468</td>\n",
       "    </tr>\n",
       "    <tr>\n",
       "      <th>3</th>\n",
       "      <td>Us Helicopter</td>\n",
       "      <td>40.702437</td>\n",
       "      <td>-74.013122</td>\n",
       "    </tr>\n",
       "    <tr>\n",
       "      <th>4</th>\n",
       "      <td>New Bell Car Service</td>\n",
       "      <td>40.693717</td>\n",
       "      <td>-73.960250</td>\n",
       "    </tr>\n",
       "    <tr>\n",
       "      <th>5</th>\n",
       "      <td>Atlantic Aviation</td>\n",
       "      <td>40.744048</td>\n",
       "      <td>-73.973925</td>\n",
       "    </tr>\n",
       "    <tr>\n",
       "      <th>6</th>\n",
       "      <td>New York City Limo Service</td>\n",
       "      <td>40.745192</td>\n",
       "      <td>-73.983371</td>\n",
       "    </tr>\n",
       "    <tr>\n",
       "      <th>7</th>\n",
       "      <td>New York Helicopter</td>\n",
       "      <td>40.701661</td>\n",
       "      <td>-74.009279</td>\n",
       "    </tr>\n",
       "    <tr>\n",
       "      <th>8</th>\n",
       "      <td>Mobil Car Service</td>\n",
       "      <td>40.711239</td>\n",
       "      <td>-73.951340</td>\n",
       "    </tr>\n",
       "    <tr>\n",
       "      <th>9</th>\n",
       "      <td>Times Square Limousine</td>\n",
       "      <td>40.752182</td>\n",
       "      <td>-74.003348</td>\n",
       "    </tr>\n",
       "  </tbody>\n",
       "</table>\n",
       "</div>"
      ],
      "text/plain": [
       "                       nombre    latitud   longitud\n",
       "0           Priority One Jets  40.709288 -74.006822\n",
       "1    Corporate Express Travel  40.722429 -74.002404\n",
       "2                  PH Helipad  40.732918 -73.995468\n",
       "3               Us Helicopter  40.702437 -74.013122\n",
       "4        New Bell Car Service  40.693717 -73.960250\n",
       "5           Atlantic Aviation  40.744048 -73.973925\n",
       "6  New York City Limo Service  40.745192 -73.983371\n",
       "7         New York Helicopter  40.701661 -74.009279\n",
       "8           Mobil Car Service  40.711239 -73.951340\n",
       "9      Times Square Limousine  40.752182 -74.003348"
      ]
     },
     "execution_count": 15,
     "metadata": {},
     "output_type": "execute_result"
    }
   ],
   "source": [
    "#Creación del DataFrame\n",
    "df_aeropuertos = pd.DataFrame(aeropuertos)\n",
    "df_aeropuertos"
   ]
  },
  {
   "cell_type": "code",
   "execution_count": 16,
   "id": "5d394948",
   "metadata": {},
   "outputs": [
    {
     "data": {
      "text/html": [
       "<div>\n",
       "<style scoped>\n",
       "    .dataframe tbody tr th:only-of-type {\n",
       "        vertical-align: middle;\n",
       "    }\n",
       "\n",
       "    .dataframe tbody tr th {\n",
       "        vertical-align: top;\n",
       "    }\n",
       "\n",
       "    .dataframe thead th {\n",
       "        text-align: right;\n",
       "    }\n",
       "</style>\n",
       "<table border=\"1\" class=\"dataframe\">\n",
       "  <thead>\n",
       "    <tr style=\"text-align: right;\">\n",
       "      <th></th>\n",
       "      <th>nombre</th>\n",
       "      <th>latitud</th>\n",
       "      <th>longitud</th>\n",
       "      <th>geometry</th>\n",
       "    </tr>\n",
       "  </thead>\n",
       "  <tbody>\n",
       "    <tr>\n",
       "      <th>0</th>\n",
       "      <td>Priority One Jets</td>\n",
       "      <td>40.709288</td>\n",
       "      <td>-74.006822</td>\n",
       "      <td>POINT (-74.00682 40.70929)</td>\n",
       "    </tr>\n",
       "    <tr>\n",
       "      <th>1</th>\n",
       "      <td>Corporate Express Travel</td>\n",
       "      <td>40.722429</td>\n",
       "      <td>-74.002404</td>\n",
       "      <td>POINT (-74.00240 40.72243)</td>\n",
       "    </tr>\n",
       "    <tr>\n",
       "      <th>2</th>\n",
       "      <td>PH Helipad</td>\n",
       "      <td>40.732918</td>\n",
       "      <td>-73.995468</td>\n",
       "      <td>POINT (-73.99547 40.73292)</td>\n",
       "    </tr>\n",
       "    <tr>\n",
       "      <th>3</th>\n",
       "      <td>Us Helicopter</td>\n",
       "      <td>40.702437</td>\n",
       "      <td>-74.013122</td>\n",
       "      <td>POINT (-74.01312 40.70244)</td>\n",
       "    </tr>\n",
       "    <tr>\n",
       "      <th>4</th>\n",
       "      <td>New Bell Car Service</td>\n",
       "      <td>40.693717</td>\n",
       "      <td>-73.960250</td>\n",
       "      <td>POINT (-73.96025 40.69372)</td>\n",
       "    </tr>\n",
       "    <tr>\n",
       "      <th>5</th>\n",
       "      <td>Atlantic Aviation</td>\n",
       "      <td>40.744048</td>\n",
       "      <td>-73.973925</td>\n",
       "      <td>POINT (-73.97393 40.74405)</td>\n",
       "    </tr>\n",
       "    <tr>\n",
       "      <th>6</th>\n",
       "      <td>New York City Limo Service</td>\n",
       "      <td>40.745192</td>\n",
       "      <td>-73.983371</td>\n",
       "      <td>POINT (-73.98337 40.74519)</td>\n",
       "    </tr>\n",
       "    <tr>\n",
       "      <th>7</th>\n",
       "      <td>New York Helicopter</td>\n",
       "      <td>40.701661</td>\n",
       "      <td>-74.009279</td>\n",
       "      <td>POINT (-74.00928 40.70166)</td>\n",
       "    </tr>\n",
       "    <tr>\n",
       "      <th>8</th>\n",
       "      <td>Mobil Car Service</td>\n",
       "      <td>40.711239</td>\n",
       "      <td>-73.951340</td>\n",
       "      <td>POINT (-73.95134 40.71124)</td>\n",
       "    </tr>\n",
       "    <tr>\n",
       "      <th>9</th>\n",
       "      <td>Times Square Limousine</td>\n",
       "      <td>40.752182</td>\n",
       "      <td>-74.003348</td>\n",
       "      <td>POINT (-74.00335 40.75218)</td>\n",
       "    </tr>\n",
       "  </tbody>\n",
       "</table>\n",
       "</div>"
      ],
      "text/plain": [
       "                       nombre    latitud   longitud  \\\n",
       "0           Priority One Jets  40.709288 -74.006822   \n",
       "1    Corporate Express Travel  40.722429 -74.002404   \n",
       "2                  PH Helipad  40.732918 -73.995468   \n",
       "3               Us Helicopter  40.702437 -74.013122   \n",
       "4        New Bell Car Service  40.693717 -73.960250   \n",
       "5           Atlantic Aviation  40.744048 -73.973925   \n",
       "6  New York City Limo Service  40.745192 -73.983371   \n",
       "7         New York Helicopter  40.701661 -74.009279   \n",
       "8           Mobil Car Service  40.711239 -73.951340   \n",
       "9      Times Square Limousine  40.752182 -74.003348   \n",
       "\n",
       "                     geometry  \n",
       "0  POINT (-74.00682 40.70929)  \n",
       "1  POINT (-74.00240 40.72243)  \n",
       "2  POINT (-73.99547 40.73292)  \n",
       "3  POINT (-74.01312 40.70244)  \n",
       "4  POINT (-73.96025 40.69372)  \n",
       "5  POINT (-73.97393 40.74405)  \n",
       "6  POINT (-73.98337 40.74519)  \n",
       "7  POINT (-74.00928 40.70166)  \n",
       "8  POINT (-73.95134 40.71124)  \n",
       "9  POINT (-74.00335 40.75218)  "
      ]
     },
     "execution_count": 16,
     "metadata": {},
     "output_type": "execute_result"
    }
   ],
   "source": [
    "#Lo transformamos en GeoDataFrame\n",
    "gdf_aeropuertos = gpd.GeoDataFrame(df_aeropuertos, geometry = gpd.points_from_xy(df_aeropuertos.longitud, df_aeropuertos.latitud))\n",
    "gdf_aeropuertos"
   ]
  },
  {
   "cell_type": "code",
   "execution_count": 17,
   "id": "cbfc23d7",
   "metadata": {},
   "outputs": [],
   "source": [
    "#Map(Layer(gdf_aeropuertos,\"color:blue\",popup_hover = [popup_element(\"nombre\", \"Aeropuertos\")]))"
   ]
  },
  {
   "cell_type": "markdown",
   "id": "bf042435",
   "metadata": {},
   "source": [
    "🔴  **¿Cual será el más cercano?**"
   ]
  },
  {
   "cell_type": "code",
   "execution_count": 18,
   "id": "c6be0480",
   "metadata": {},
   "outputs": [
    {
     "name": "stderr",
     "output_type": "stream",
     "text": [
      "/usr/local/Caskroom/miniconda/base/lib/python3.8/site-packages/geopandas/geodataframe.py:1321: UserWarning: Geometry column does not contain geometry.\n",
      "  warnings.warn(\"Geometry column does not contain geometry.\")\n"
     ]
    },
    {
     "data": {
      "text/html": [
       "<div>\n",
       "<style scoped>\n",
       "    .dataframe tbody tr th:only-of-type {\n",
       "        vertical-align: middle;\n",
       "    }\n",
       "\n",
       "    .dataframe tbody tr th {\n",
       "        vertical-align: top;\n",
       "    }\n",
       "\n",
       "    .dataframe thead th {\n",
       "        text-align: right;\n",
       "    }\n",
       "</style>\n",
       "<table border=\"1\" class=\"dataframe\">\n",
       "  <thead>\n",
       "    <tr style=\"text-align: right;\">\n",
       "      <th></th>\n",
       "      <th>nombre</th>\n",
       "      <th>latitud</th>\n",
       "      <th>longitud</th>\n",
       "      <th>geometry</th>\n",
       "    </tr>\n",
       "  </thead>\n",
       "  <tbody>\n",
       "    <tr>\n",
       "      <th>0</th>\n",
       "      <td>Priority One Jets</td>\n",
       "      <td>40.709288</td>\n",
       "      <td>-74.006822</td>\n",
       "      <td>{'type': 'Point', 'coordinates': (-74.00682172...</td>\n",
       "    </tr>\n",
       "    <tr>\n",
       "      <th>1</th>\n",
       "      <td>Corporate Express Travel</td>\n",
       "      <td>40.722429</td>\n",
       "      <td>-74.002404</td>\n",
       "      <td>{'type': 'Point', 'coordinates': (-74.00240421...</td>\n",
       "    </tr>\n",
       "    <tr>\n",
       "      <th>2</th>\n",
       "      <td>PH Helipad</td>\n",
       "      <td>40.732918</td>\n",
       "      <td>-73.995468</td>\n",
       "      <td>{'type': 'Point', 'coordinates': (-73.99546813...</td>\n",
       "    </tr>\n",
       "    <tr>\n",
       "      <th>3</th>\n",
       "      <td>Us Helicopter</td>\n",
       "      <td>40.702437</td>\n",
       "      <td>-74.013122</td>\n",
       "      <td>{'type': 'Point', 'coordinates': (-74.01312247...</td>\n",
       "    </tr>\n",
       "    <tr>\n",
       "      <th>4</th>\n",
       "      <td>New Bell Car Service</td>\n",
       "      <td>40.693717</td>\n",
       "      <td>-73.960250</td>\n",
       "      <td>{'type': 'Point', 'coordinates': (-73.96025, 4...</td>\n",
       "    </tr>\n",
       "    <tr>\n",
       "      <th>5</th>\n",
       "      <td>Atlantic Aviation</td>\n",
       "      <td>40.744048</td>\n",
       "      <td>-73.973925</td>\n",
       "      <td>{'type': 'Point', 'coordinates': (-73.97392544...</td>\n",
       "    </tr>\n",
       "    <tr>\n",
       "      <th>6</th>\n",
       "      <td>New York City Limo Service</td>\n",
       "      <td>40.745192</td>\n",
       "      <td>-73.983371</td>\n",
       "      <td>{'type': 'Point', 'coordinates': (-73.98337125...</td>\n",
       "    </tr>\n",
       "    <tr>\n",
       "      <th>7</th>\n",
       "      <td>New York Helicopter</td>\n",
       "      <td>40.701661</td>\n",
       "      <td>-74.009279</td>\n",
       "      <td>{'type': 'Point', 'coordinates': (-74.00927889...</td>\n",
       "    </tr>\n",
       "    <tr>\n",
       "      <th>8</th>\n",
       "      <td>Mobil Car Service</td>\n",
       "      <td>40.711239</td>\n",
       "      <td>-73.951340</td>\n",
       "      <td>{'type': 'Point', 'coordinates': (-73.95133972...</td>\n",
       "    </tr>\n",
       "    <tr>\n",
       "      <th>9</th>\n",
       "      <td>Times Square Limousine</td>\n",
       "      <td>40.752182</td>\n",
       "      <td>-74.003348</td>\n",
       "      <td>{'type': 'Point', 'coordinates': (-74.00334835...</td>\n",
       "    </tr>\n",
       "  </tbody>\n",
       "</table>\n",
       "</div>"
      ],
      "text/plain": [
       "                       nombre    latitud   longitud  \\\n",
       "0           Priority One Jets  40.709288 -74.006822   \n",
       "1    Corporate Express Travel  40.722429 -74.002404   \n",
       "2                  PH Helipad  40.732918 -73.995468   \n",
       "3               Us Helicopter  40.702437 -74.013122   \n",
       "4        New Bell Car Service  40.693717 -73.960250   \n",
       "5           Atlantic Aviation  40.744048 -73.973925   \n",
       "6  New York City Limo Service  40.745192 -73.983371   \n",
       "7         New York Helicopter  40.701661 -74.009279   \n",
       "8           Mobil Car Service  40.711239 -73.951340   \n",
       "9      Times Square Limousine  40.752182 -74.003348   \n",
       "\n",
       "                                            geometry  \n",
       "0  {'type': 'Point', 'coordinates': (-74.00682172...  \n",
       "1  {'type': 'Point', 'coordinates': (-74.00240421...  \n",
       "2  {'type': 'Point', 'coordinates': (-73.99546813...  \n",
       "3  {'type': 'Point', 'coordinates': (-74.01312247...  \n",
       "4  {'type': 'Point', 'coordinates': (-73.96025, 4...  \n",
       "5  {'type': 'Point', 'coordinates': (-73.97392544...  \n",
       "6  {'type': 'Point', 'coordinates': (-73.98337125...  \n",
       "7  {'type': 'Point', 'coordinates': (-74.00927889...  \n",
       "8  {'type': 'Point', 'coordinates': (-73.95133972...  \n",
       "9  {'type': 'Point', 'coordinates': (-74.00334835...  "
      ]
     },
     "execution_count": 18,
     "metadata": {},
     "output_type": "execute_result"
    }
   ],
   "source": [
    "#Transformamos la información en tipo \"point\"\n",
    "gdf_aeropuertos['geometry']=gdf_aeropuertos['geometry'].apply(lambda x:shapely.geometry.mapping(x))\n",
    "gdf_aeropuertos"
   ]
  },
  {
   "cell_type": "code",
   "execution_count": 19,
   "id": "59e52f7b",
   "metadata": {},
   "outputs": [
    {
     "data": {
      "text/plain": [
       "'geometry_2dsphere'"
      ]
     },
     "execution_count": 19,
     "metadata": {},
     "output_type": "execute_result"
    }
   ],
   "source": [
    "client = MongoClient()\n",
    "db = client[\"Ironhack-lab\"]\n",
    "collection11 = db.aeropuertos2\n",
    "collection11.create_index ([(\"geometry\", GEOSPHERE)])"
   ]
  },
  {
   "cell_type": "code",
   "execution_count": 20,
   "id": "6bd126f1",
   "metadata": {},
   "outputs": [
    {
     "data": {
      "text/plain": [
       "<pymongo.results.InsertManyResult at 0x7fb898586480>"
      ]
     },
     "execution_count": 20,
     "metadata": {},
     "output_type": "execute_result"
    }
   ],
   "source": [
    "data11 = gdf_aeropuertos.to_dict(orient=\"records\")\n",
    "collection11.insert_many(data11)"
   ]
  },
  {
   "cell_type": "code",
   "execution_count": 21,
   "id": "5c7bf951",
   "metadata": {},
   "outputs": [
    {
     "data": {
      "text/plain": [
       "{'_id': ObjectId('60d9809b387729f83d1be9ee'),\n",
       " 'nombre': 'New Bell Car Service',\n",
       " 'latitud': 40.69371727,\n",
       " 'longitud': -73.96025,\n",
       " 'geometry': {'type': 'Point', 'coordinates': [-73.96025, 40.69371727]}}"
      ]
     },
     "execution_count": 21,
     "metadata": {},
     "output_type": "execute_result"
    }
   ],
   "source": [
    "cercano1 = db.aeropuertos2.find({\"geometry\":{\"$near\":{\"type\":\"Point\", \"coordinates\":[40.726155, -73.995625]}}})\n",
    "list(cercano1)[0]"
   ]
  },
  {
   "cell_type": "code",
   "execution_count": 22,
   "id": "4bd7ba1d",
   "metadata": {},
   "outputs": [],
   "source": [
    "def distancia(lat1, lon1, lat2, lon2):\n",
    "    rad=math.pi/180\n",
    "    dlat=lat2-lat1\n",
    "    dlon=lon2-lon1\n",
    "    R=6372.795477598\n",
    "    a=(math.sin(rad*dlat/2))**2 + math.cos(rad*lat1)*math.cos(rad*lat2)*(math.sin(rad*dlon/2))**2\n",
    "    distancia=2*R*math.asin(math.sqrt(a))\n",
    "    return distancia"
   ]
  },
  {
   "cell_type": "code",
   "execution_count": 23,
   "id": "a1030eae",
   "metadata": {},
   "outputs": [
    {
     "data": {
      "text/plain": [
       "4.431503773419073"
      ]
     },
     "execution_count": 23,
     "metadata": {},
     "output_type": "execute_result"
    }
   ],
   "source": [
    "distancia(40.69371727,-73.96025,40.717248,-74.002662)"
   ]
  },
  {
   "cell_type": "markdown",
   "id": "689e3ecc",
   "metadata": {},
   "source": [
    "✅ Resumen: El más cercano es \"New Bell Car Service\" a 4,43 km."
   ]
  },
  {
   "cell_type": "markdown",
   "id": "df28b5f7",
   "metadata": {},
   "source": [
    "## 4.2 Discotecas 💃"
   ]
  },
  {
   "cell_type": "code",
   "execution_count": 24,
   "id": "724b7e03",
   "metadata": {},
   "outputs": [],
   "source": [
    "params2 = {\"client_id\" : client_id,\n",
    "              \"client_secret\" : client_secret,\n",
    "              \"v\": \"20180323\",\n",
    "              \"ll\": coordenadas,\n",
    "              \"query\": \"nightclub\",\n",
    "              \"limit\": 10,\n",
    "              \"radius\": 500\n",
    "             }\n",
    "response2 = requests.get(url,params=params2).json()"
   ]
  },
  {
   "cell_type": "code",
   "execution_count": 25,
   "id": "bff9c5ac",
   "metadata": {},
   "outputs": [],
   "source": [
    "data2 = response2.get(\"response\")\n",
    "decode2 = data2.get(\"groups\")[0] \n",
    "discoteca = decode2.get(\"items\")"
   ]
  },
  {
   "cell_type": "code",
   "execution_count": 26,
   "id": "5919b48b",
   "metadata": {},
   "outputs": [],
   "source": [
    "#Extración de los datos\n",
    "discotecas = []\n",
    "for dic in discoteca:\n",
    "    lista = {}\n",
    "    lista[\"nombre\"] = getFromDict(dic, mapa_nombre)\n",
    "    lista[\"latitud\"] = getFromDict(dic, mapa_latitud)\n",
    "    lista[\"longitud\"] = getFromDict(dic, mapa_longitud)\n",
    "    discotecas.append(lista)"
   ]
  },
  {
   "cell_type": "code",
   "execution_count": 27,
   "id": "f461e47b",
   "metadata": {},
   "outputs": [
    {
     "data": {
      "text/html": [
       "<div>\n",
       "<style scoped>\n",
       "    .dataframe tbody tr th:only-of-type {\n",
       "        vertical-align: middle;\n",
       "    }\n",
       "\n",
       "    .dataframe tbody tr th {\n",
       "        vertical-align: top;\n",
       "    }\n",
       "\n",
       "    .dataframe thead th {\n",
       "        text-align: right;\n",
       "    }\n",
       "</style>\n",
       "<table border=\"1\" class=\"dataframe\">\n",
       "  <thead>\n",
       "    <tr style=\"text-align: right;\">\n",
       "      <th></th>\n",
       "      <th>nombre</th>\n",
       "      <th>latitud</th>\n",
       "      <th>longitud</th>\n",
       "    </tr>\n",
       "  </thead>\n",
       "  <tbody>\n",
       "    <tr>\n",
       "      <th>0</th>\n",
       "      <td>Paul's Cocktail Lounge</td>\n",
       "      <td>40.719563</td>\n",
       "      <td>-74.005035</td>\n",
       "    </tr>\n",
       "    <tr>\n",
       "      <th>1</th>\n",
       "      <td>The Blond</td>\n",
       "      <td>40.719242</td>\n",
       "      <td>-74.000066</td>\n",
       "    </tr>\n",
       "    <tr>\n",
       "      <th>2</th>\n",
       "      <td>The Studios At Tribeca Grand</td>\n",
       "      <td>40.719368</td>\n",
       "      <td>-74.004906</td>\n",
       "    </tr>\n",
       "    <tr>\n",
       "      <th>3</th>\n",
       "      <td>446 Loft</td>\n",
       "      <td>40.720421</td>\n",
       "      <td>-74.001227</td>\n",
       "    </tr>\n",
       "    <tr>\n",
       "      <th>4</th>\n",
       "      <td>M1-5 Lounge</td>\n",
       "      <td>40.719065</td>\n",
       "      <td>-74.003376</td>\n",
       "    </tr>\n",
       "  </tbody>\n",
       "</table>\n",
       "</div>"
      ],
      "text/plain": [
       "                         nombre    latitud   longitud\n",
       "0        Paul's Cocktail Lounge  40.719563 -74.005035\n",
       "1                     The Blond  40.719242 -74.000066\n",
       "2  The Studios At Tribeca Grand  40.719368 -74.004906\n",
       "3                      446 Loft  40.720421 -74.001227\n",
       "4                   M1-5 Lounge  40.719065 -74.003376"
      ]
     },
     "execution_count": 27,
     "metadata": {},
     "output_type": "execute_result"
    }
   ],
   "source": [
    "#Creación del DataFrame\n",
    "df_discotecas = pd.DataFrame(discotecas)\n",
    "df_discotecas"
   ]
  },
  {
   "cell_type": "code",
   "execution_count": 28,
   "id": "89e0d32b",
   "metadata": {},
   "outputs": [
    {
     "data": {
      "text/html": [
       "<div>\n",
       "<style scoped>\n",
       "    .dataframe tbody tr th:only-of-type {\n",
       "        vertical-align: middle;\n",
       "    }\n",
       "\n",
       "    .dataframe tbody tr th {\n",
       "        vertical-align: top;\n",
       "    }\n",
       "\n",
       "    .dataframe thead th {\n",
       "        text-align: right;\n",
       "    }\n",
       "</style>\n",
       "<table border=\"1\" class=\"dataframe\">\n",
       "  <thead>\n",
       "    <tr style=\"text-align: right;\">\n",
       "      <th></th>\n",
       "      <th>nombre</th>\n",
       "      <th>latitud</th>\n",
       "      <th>longitud</th>\n",
       "      <th>geometry</th>\n",
       "    </tr>\n",
       "  </thead>\n",
       "  <tbody>\n",
       "    <tr>\n",
       "      <th>0</th>\n",
       "      <td>Paul's Cocktail Lounge</td>\n",
       "      <td>40.719563</td>\n",
       "      <td>-74.005035</td>\n",
       "      <td>POINT (-74.00504 40.71956)</td>\n",
       "    </tr>\n",
       "    <tr>\n",
       "      <th>1</th>\n",
       "      <td>The Blond</td>\n",
       "      <td>40.719242</td>\n",
       "      <td>-74.000066</td>\n",
       "      <td>POINT (-74.00007 40.71924)</td>\n",
       "    </tr>\n",
       "    <tr>\n",
       "      <th>2</th>\n",
       "      <td>The Studios At Tribeca Grand</td>\n",
       "      <td>40.719368</td>\n",
       "      <td>-74.004906</td>\n",
       "      <td>POINT (-74.00491 40.71937)</td>\n",
       "    </tr>\n",
       "    <tr>\n",
       "      <th>3</th>\n",
       "      <td>446 Loft</td>\n",
       "      <td>40.720421</td>\n",
       "      <td>-74.001227</td>\n",
       "      <td>POINT (-74.00123 40.72042)</td>\n",
       "    </tr>\n",
       "    <tr>\n",
       "      <th>4</th>\n",
       "      <td>M1-5 Lounge</td>\n",
       "      <td>40.719065</td>\n",
       "      <td>-74.003376</td>\n",
       "      <td>POINT (-74.00338 40.71907)</td>\n",
       "    </tr>\n",
       "  </tbody>\n",
       "</table>\n",
       "</div>"
      ],
      "text/plain": [
       "                         nombre    latitud   longitud  \\\n",
       "0        Paul's Cocktail Lounge  40.719563 -74.005035   \n",
       "1                     The Blond  40.719242 -74.000066   \n",
       "2  The Studios At Tribeca Grand  40.719368 -74.004906   \n",
       "3                      446 Loft  40.720421 -74.001227   \n",
       "4                   M1-5 Lounge  40.719065 -74.003376   \n",
       "\n",
       "                     geometry  \n",
       "0  POINT (-74.00504 40.71956)  \n",
       "1  POINT (-74.00007 40.71924)  \n",
       "2  POINT (-74.00491 40.71937)  \n",
       "3  POINT (-74.00123 40.72042)  \n",
       "4  POINT (-74.00338 40.71907)  "
      ]
     },
     "execution_count": 28,
     "metadata": {},
     "output_type": "execute_result"
    }
   ],
   "source": [
    "#Lo transformamos en GeoDataFrame\n",
    "gdf_discotecas = gpd.GeoDataFrame(df_discotecas, geometry = gpd.points_from_xy(df_discotecas.longitud, df_discotecas.latitud))\n",
    "gdf_discotecas"
   ]
  },
  {
   "cell_type": "code",
   "execution_count": 29,
   "id": "c29f6e20",
   "metadata": {},
   "outputs": [],
   "source": [
    "#Map(Layer(gdf_discotecas,\"color:pink\",popup_hover = [popup_element(\"nombre\", \"Discotecas\")]))"
   ]
  },
  {
   "cell_type": "markdown",
   "id": "f82aa335",
   "metadata": {},
   "source": [
    "🔴 **¿Cual será la más cercano?** "
   ]
  },
  {
   "cell_type": "code",
   "execution_count": 30,
   "id": "08de8344",
   "metadata": {},
   "outputs": [
    {
     "name": "stderr",
     "output_type": "stream",
     "text": [
      "/usr/local/Caskroom/miniconda/base/lib/python3.8/site-packages/geopandas/geodataframe.py:1321: UserWarning: Geometry column does not contain geometry.\n",
      "  warnings.warn(\"Geometry column does not contain geometry.\")\n"
     ]
    },
    {
     "data": {
      "text/html": [
       "<div>\n",
       "<style scoped>\n",
       "    .dataframe tbody tr th:only-of-type {\n",
       "        vertical-align: middle;\n",
       "    }\n",
       "\n",
       "    .dataframe tbody tr th {\n",
       "        vertical-align: top;\n",
       "    }\n",
       "\n",
       "    .dataframe thead th {\n",
       "        text-align: right;\n",
       "    }\n",
       "</style>\n",
       "<table border=\"1\" class=\"dataframe\">\n",
       "  <thead>\n",
       "    <tr style=\"text-align: right;\">\n",
       "      <th></th>\n",
       "      <th>nombre</th>\n",
       "      <th>latitud</th>\n",
       "      <th>longitud</th>\n",
       "      <th>geometry</th>\n",
       "    </tr>\n",
       "  </thead>\n",
       "  <tbody>\n",
       "    <tr>\n",
       "      <th>0</th>\n",
       "      <td>Paul's Cocktail Lounge</td>\n",
       "      <td>40.719563</td>\n",
       "      <td>-74.005035</td>\n",
       "      <td>{'type': 'Point', 'coordinates': (-74.00503511...</td>\n",
       "    </tr>\n",
       "    <tr>\n",
       "      <th>1</th>\n",
       "      <td>The Blond</td>\n",
       "      <td>40.719242</td>\n",
       "      <td>-74.000066</td>\n",
       "      <td>{'type': 'Point', 'coordinates': (-74.00006632...</td>\n",
       "    </tr>\n",
       "    <tr>\n",
       "      <th>2</th>\n",
       "      <td>The Studios At Tribeca Grand</td>\n",
       "      <td>40.719368</td>\n",
       "      <td>-74.004906</td>\n",
       "      <td>{'type': 'Point', 'coordinates': (-74.00490570...</td>\n",
       "    </tr>\n",
       "    <tr>\n",
       "      <th>3</th>\n",
       "      <td>446 Loft</td>\n",
       "      <td>40.720421</td>\n",
       "      <td>-74.001227</td>\n",
       "      <td>{'type': 'Point', 'coordinates': (-74.00122672...</td>\n",
       "    </tr>\n",
       "    <tr>\n",
       "      <th>4</th>\n",
       "      <td>M1-5 Lounge</td>\n",
       "      <td>40.719065</td>\n",
       "      <td>-74.003376</td>\n",
       "      <td>{'type': 'Point', 'coordinates': (-74.00337552...</td>\n",
       "    </tr>\n",
       "  </tbody>\n",
       "</table>\n",
       "</div>"
      ],
      "text/plain": [
       "                         nombre    latitud   longitud  \\\n",
       "0        Paul's Cocktail Lounge  40.719563 -74.005035   \n",
       "1                     The Blond  40.719242 -74.000066   \n",
       "2  The Studios At Tribeca Grand  40.719368 -74.004906   \n",
       "3                      446 Loft  40.720421 -74.001227   \n",
       "4                   M1-5 Lounge  40.719065 -74.003376   \n",
       "\n",
       "                                            geometry  \n",
       "0  {'type': 'Point', 'coordinates': (-74.00503511...  \n",
       "1  {'type': 'Point', 'coordinates': (-74.00006632...  \n",
       "2  {'type': 'Point', 'coordinates': (-74.00490570...  \n",
       "3  {'type': 'Point', 'coordinates': (-74.00122672...  \n",
       "4  {'type': 'Point', 'coordinates': (-74.00337552...  "
      ]
     },
     "execution_count": 30,
     "metadata": {},
     "output_type": "execute_result"
    }
   ],
   "source": [
    "gdf_discotecas['geometry'] = gdf_discotecas['geometry'].apply(lambda x:shapely.geometry.mapping(x))\n",
    "gdf_discotecas"
   ]
  },
  {
   "cell_type": "code",
   "execution_count": 31,
   "id": "72d6e8b5",
   "metadata": {},
   "outputs": [
    {
     "data": {
      "text/plain": [
       "'geometry_2dsphere'"
      ]
     },
     "execution_count": 31,
     "metadata": {},
     "output_type": "execute_result"
    }
   ],
   "source": [
    "client = MongoClient()\n",
    "db = client[\"Ironhack-lab\"]\n",
    "collection22 = db.discotecas2\n",
    "collection22.create_index ([(\"geometry\", GEOSPHERE)])"
   ]
  },
  {
   "cell_type": "code",
   "execution_count": 32,
   "id": "6020f8c8",
   "metadata": {},
   "outputs": [
    {
     "data": {
      "text/plain": [
       "<pymongo.results.InsertManyResult at 0x7fb888434800>"
      ]
     },
     "execution_count": 32,
     "metadata": {},
     "output_type": "execute_result"
    }
   ],
   "source": [
    "data22 = gdf_discotecas.to_dict(orient=\"records\")\n",
    "collection22.insert_many(data22)"
   ]
  },
  {
   "cell_type": "code",
   "execution_count": 33,
   "id": "43ff95b0",
   "metadata": {},
   "outputs": [
    {
     "data": {
      "text/plain": [
       "{'_id': ObjectId('60d980bf387729f83d1be9f6'),\n",
       " 'nombre': 'The Blond',\n",
       " 'latitud': 40.71924234753701,\n",
       " 'longitud': -74.00006632090165,\n",
       " 'geometry': {'type': 'Point',\n",
       "  'coordinates': [-74.00006632090165, 40.71924234753701]}}"
      ]
     },
     "execution_count": 33,
     "metadata": {},
     "output_type": "execute_result"
    }
   ],
   "source": [
    "cercano2 = db.discotecas2.find({\"geometry\":{\"$near\":{\"type\":\"Point\", \"coordinates\":[40.726155, -73.995625],\"$minDistance\": 500, \"$maxDistance\":300}}})\n",
    "list(cercano2)[0]"
   ]
  },
  {
   "cell_type": "code",
   "execution_count": 34,
   "id": "a627add4",
   "metadata": {},
   "outputs": [
    {
     "data": {
      "text/plain": [
       "0.31158894883856"
      ]
     },
     "execution_count": 34,
     "metadata": {},
     "output_type": "execute_result"
    }
   ],
   "source": [
    "distancia(40.717248,-74.002662,40.71924234753701,-74.00006632090165)"
   ]
  },
  {
   "cell_type": "markdown",
   "id": "d2d14854",
   "metadata": {},
   "source": [
    "✅ Resumen: La discoteca más cercana es \"The Blond\" a unos 311 metros."
   ]
  },
  {
   "cell_type": "markdown",
   "id": "c8123cd8",
   "metadata": {},
   "source": [
    "## 4.3 Starbucks ☕"
   ]
  },
  {
   "cell_type": "code",
   "execution_count": 35,
   "id": "b1f45bcf",
   "metadata": {},
   "outputs": [],
   "source": [
    "params3 = {\"client_id\" : client_id,\n",
    "              \"client_secret\" : client_secret,\n",
    "              \"v\": \"20180323\",\n",
    "              \"ll\": coordenadas,\n",
    "              \"query\": \"starbucks\",\n",
    "              \"limit\": 10,\n",
    "              \"radius\": 500\n",
    "             }\n",
    "response3 = requests.get(url,params=params3).json()"
   ]
  },
  {
   "cell_type": "code",
   "execution_count": 36,
   "id": "eec026bf",
   "metadata": {},
   "outputs": [],
   "source": [
    "data3 = response3.get(\"response\")\n",
    "decode3 = data3.get(\"groups\")[0] \n",
    "starbuck = decode3.get(\"items\")"
   ]
  },
  {
   "cell_type": "code",
   "execution_count": 37,
   "id": "7158a10b",
   "metadata": {},
   "outputs": [],
   "source": [
    "#Extración de los datos\n",
    "starbucks = []\n",
    "for dic in starbuck:\n",
    "    lista = {}\n",
    "    lista[\"nombre\"] = getFromDict(dic, mapa_nombre)\n",
    "    lista[\"latitud\"] = getFromDict(dic, mapa_latitud)\n",
    "    lista[\"longitud\"] = getFromDict(dic, mapa_longitud)\n",
    "    starbucks.append(lista)"
   ]
  },
  {
   "cell_type": "code",
   "execution_count": 38,
   "id": "ec1f835f",
   "metadata": {},
   "outputs": [
    {
     "data": {
      "text/html": [
       "<div>\n",
       "<style scoped>\n",
       "    .dataframe tbody tr th:only-of-type {\n",
       "        vertical-align: middle;\n",
       "    }\n",
       "\n",
       "    .dataframe tbody tr th {\n",
       "        vertical-align: top;\n",
       "    }\n",
       "\n",
       "    .dataframe thead th {\n",
       "        text-align: right;\n",
       "    }\n",
       "</style>\n",
       "<table border=\"1\" class=\"dataframe\">\n",
       "  <thead>\n",
       "    <tr style=\"text-align: right;\">\n",
       "      <th></th>\n",
       "      <th>nombre</th>\n",
       "      <th>latitud</th>\n",
       "      <th>longitud</th>\n",
       "    </tr>\n",
       "  </thead>\n",
       "  <tbody>\n",
       "    <tr>\n",
       "      <th>0</th>\n",
       "      <td>Starbucks</td>\n",
       "      <td>40.720779</td>\n",
       "      <td>-74.004356</td>\n",
       "    </tr>\n",
       "    <tr>\n",
       "      <th>1</th>\n",
       "      <td>Starbucks</td>\n",
       "      <td>40.715714</td>\n",
       "      <td>-74.003154</td>\n",
       "    </tr>\n",
       "    <tr>\n",
       "      <th>2</th>\n",
       "      <td>Starbucks</td>\n",
       "      <td>40.719833</td>\n",
       "      <td>-73.999253</td>\n",
       "    </tr>\n",
       "    <tr>\n",
       "      <th>3</th>\n",
       "      <td>Starbucks</td>\n",
       "      <td>40.718230</td>\n",
       "      <td>-74.007320</td>\n",
       "    </tr>\n",
       "    <tr>\n",
       "      <th>4</th>\n",
       "      <td>Starbucks</td>\n",
       "      <td>40.718802</td>\n",
       "      <td>-74.002431</td>\n",
       "    </tr>\n",
       "    <tr>\n",
       "      <th>5</th>\n",
       "      <td>Starbucks</td>\n",
       "      <td>40.714855</td>\n",
       "      <td>-74.005936</td>\n",
       "    </tr>\n",
       "    <tr>\n",
       "      <th>6</th>\n",
       "      <td>Starbucks</td>\n",
       "      <td>40.718330</td>\n",
       "      <td>-74.000015</td>\n",
       "    </tr>\n",
       "    <tr>\n",
       "      <th>7</th>\n",
       "      <td>Starbucks</td>\n",
       "      <td>40.719852</td>\n",
       "      <td>-74.004950</td>\n",
       "    </tr>\n",
       "  </tbody>\n",
       "</table>\n",
       "</div>"
      ],
      "text/plain": [
       "      nombre    latitud   longitud\n",
       "0  Starbucks  40.720779 -74.004356\n",
       "1  Starbucks  40.715714 -74.003154\n",
       "2  Starbucks  40.719833 -73.999253\n",
       "3  Starbucks  40.718230 -74.007320\n",
       "4  Starbucks  40.718802 -74.002431\n",
       "5  Starbucks  40.714855 -74.005936\n",
       "6  Starbucks  40.718330 -74.000015\n",
       "7  Starbucks  40.719852 -74.004950"
      ]
     },
     "execution_count": 38,
     "metadata": {},
     "output_type": "execute_result"
    }
   ],
   "source": [
    "df_starbucks = pd.DataFrame(starbucks)\n",
    "df_starbucks"
   ]
  },
  {
   "cell_type": "code",
   "execution_count": 39,
   "id": "9dd91d15",
   "metadata": {},
   "outputs": [
    {
     "data": {
      "text/html": [
       "<div>\n",
       "<style scoped>\n",
       "    .dataframe tbody tr th:only-of-type {\n",
       "        vertical-align: middle;\n",
       "    }\n",
       "\n",
       "    .dataframe tbody tr th {\n",
       "        vertical-align: top;\n",
       "    }\n",
       "\n",
       "    .dataframe thead th {\n",
       "        text-align: right;\n",
       "    }\n",
       "</style>\n",
       "<table border=\"1\" class=\"dataframe\">\n",
       "  <thead>\n",
       "    <tr style=\"text-align: right;\">\n",
       "      <th></th>\n",
       "      <th>nombre</th>\n",
       "      <th>latitud</th>\n",
       "      <th>longitud</th>\n",
       "      <th>geometry</th>\n",
       "    </tr>\n",
       "  </thead>\n",
       "  <tbody>\n",
       "    <tr>\n",
       "      <th>0</th>\n",
       "      <td>Starbucks</td>\n",
       "      <td>40.720779</td>\n",
       "      <td>-74.004356</td>\n",
       "      <td>POINT (-74.00436 40.72078)</td>\n",
       "    </tr>\n",
       "    <tr>\n",
       "      <th>1</th>\n",
       "      <td>Starbucks</td>\n",
       "      <td>40.715714</td>\n",
       "      <td>-74.003154</td>\n",
       "      <td>POINT (-74.00315 40.71571)</td>\n",
       "    </tr>\n",
       "    <tr>\n",
       "      <th>2</th>\n",
       "      <td>Starbucks</td>\n",
       "      <td>40.719833</td>\n",
       "      <td>-73.999253</td>\n",
       "      <td>POINT (-73.99925 40.71983)</td>\n",
       "    </tr>\n",
       "    <tr>\n",
       "      <th>3</th>\n",
       "      <td>Starbucks</td>\n",
       "      <td>40.718230</td>\n",
       "      <td>-74.007320</td>\n",
       "      <td>POINT (-74.00732 40.71823)</td>\n",
       "    </tr>\n",
       "    <tr>\n",
       "      <th>4</th>\n",
       "      <td>Starbucks</td>\n",
       "      <td>40.718802</td>\n",
       "      <td>-74.002431</td>\n",
       "      <td>POINT (-74.00243 40.71880)</td>\n",
       "    </tr>\n",
       "    <tr>\n",
       "      <th>5</th>\n",
       "      <td>Starbucks</td>\n",
       "      <td>40.714855</td>\n",
       "      <td>-74.005936</td>\n",
       "      <td>POINT (-74.00594 40.71486)</td>\n",
       "    </tr>\n",
       "    <tr>\n",
       "      <th>6</th>\n",
       "      <td>Starbucks</td>\n",
       "      <td>40.718330</td>\n",
       "      <td>-74.000015</td>\n",
       "      <td>POINT (-74.00002 40.71833)</td>\n",
       "    </tr>\n",
       "    <tr>\n",
       "      <th>7</th>\n",
       "      <td>Starbucks</td>\n",
       "      <td>40.719852</td>\n",
       "      <td>-74.004950</td>\n",
       "      <td>POINT (-74.00495 40.71985)</td>\n",
       "    </tr>\n",
       "  </tbody>\n",
       "</table>\n",
       "</div>"
      ],
      "text/plain": [
       "      nombre    latitud   longitud                    geometry\n",
       "0  Starbucks  40.720779 -74.004356  POINT (-74.00436 40.72078)\n",
       "1  Starbucks  40.715714 -74.003154  POINT (-74.00315 40.71571)\n",
       "2  Starbucks  40.719833 -73.999253  POINT (-73.99925 40.71983)\n",
       "3  Starbucks  40.718230 -74.007320  POINT (-74.00732 40.71823)\n",
       "4  Starbucks  40.718802 -74.002431  POINT (-74.00243 40.71880)\n",
       "5  Starbucks  40.714855 -74.005936  POINT (-74.00594 40.71486)\n",
       "6  Starbucks  40.718330 -74.000015  POINT (-74.00002 40.71833)\n",
       "7  Starbucks  40.719852 -74.004950  POINT (-74.00495 40.71985)"
      ]
     },
     "execution_count": 39,
     "metadata": {},
     "output_type": "execute_result"
    }
   ],
   "source": [
    "#Lo transformamos en GeoDataFrame\n",
    "gdf_starbucks = gpd.GeoDataFrame(df_starbucks, geometry = gpd.points_from_xy(df_starbucks.longitud, df_starbucks.latitud))\n",
    "gdf_starbucks"
   ]
  },
  {
   "cell_type": "code",
   "execution_count": 40,
   "id": "89242460",
   "metadata": {},
   "outputs": [],
   "source": [
    "#Map(Layer(gdf_starbucks,\"color:darkgreen\",popup_hover = [popup_element(\"nombre\", \"Starbucks\")]))"
   ]
  },
  {
   "cell_type": "markdown",
   "id": "a27a6b3a",
   "metadata": {},
   "source": [
    "🔴 La empresa dispone de 5 Starbucks cercanos en un radio de 500 metros. Sin embargo de todos ellos:  \n",
    "**¿Cual será el más cercano?** "
   ]
  },
  {
   "cell_type": "code",
   "execution_count": 41,
   "id": "0d7087cc",
   "metadata": {},
   "outputs": [
    {
     "name": "stderr",
     "output_type": "stream",
     "text": [
      "/usr/local/Caskroom/miniconda/base/lib/python3.8/site-packages/geopandas/geodataframe.py:1321: UserWarning: Geometry column does not contain geometry.\n",
      "  warnings.warn(\"Geometry column does not contain geometry.\")\n"
     ]
    },
    {
     "data": {
      "text/html": [
       "<div>\n",
       "<style scoped>\n",
       "    .dataframe tbody tr th:only-of-type {\n",
       "        vertical-align: middle;\n",
       "    }\n",
       "\n",
       "    .dataframe tbody tr th {\n",
       "        vertical-align: top;\n",
       "    }\n",
       "\n",
       "    .dataframe thead th {\n",
       "        text-align: right;\n",
       "    }\n",
       "</style>\n",
       "<table border=\"1\" class=\"dataframe\">\n",
       "  <thead>\n",
       "    <tr style=\"text-align: right;\">\n",
       "      <th></th>\n",
       "      <th>nombre</th>\n",
       "      <th>latitud</th>\n",
       "      <th>longitud</th>\n",
       "      <th>geometry</th>\n",
       "    </tr>\n",
       "  </thead>\n",
       "  <tbody>\n",
       "    <tr>\n",
       "      <th>0</th>\n",
       "      <td>Starbucks</td>\n",
       "      <td>40.720779</td>\n",
       "      <td>-74.004356</td>\n",
       "      <td>{'type': 'Point', 'coordinates': (-74.00435638...</td>\n",
       "    </tr>\n",
       "    <tr>\n",
       "      <th>1</th>\n",
       "      <td>Starbucks</td>\n",
       "      <td>40.715714</td>\n",
       "      <td>-74.003154</td>\n",
       "      <td>{'type': 'Point', 'coordinates': (-74.00315416...</td>\n",
       "    </tr>\n",
       "    <tr>\n",
       "      <th>2</th>\n",
       "      <td>Starbucks</td>\n",
       "      <td>40.719833</td>\n",
       "      <td>-73.999253</td>\n",
       "      <td>{'type': 'Point', 'coordinates': (-73.99925263...</td>\n",
       "    </tr>\n",
       "    <tr>\n",
       "      <th>3</th>\n",
       "      <td>Starbucks</td>\n",
       "      <td>40.718230</td>\n",
       "      <td>-74.007320</td>\n",
       "      <td>{'type': 'Point', 'coordinates': (-74.00732, 4...</td>\n",
       "    </tr>\n",
       "    <tr>\n",
       "      <th>4</th>\n",
       "      <td>Starbucks</td>\n",
       "      <td>40.718802</td>\n",
       "      <td>-74.002431</td>\n",
       "      <td>{'type': 'Point', 'coordinates': (-74.00243121...</td>\n",
       "    </tr>\n",
       "    <tr>\n",
       "      <th>5</th>\n",
       "      <td>Starbucks</td>\n",
       "      <td>40.714855</td>\n",
       "      <td>-74.005936</td>\n",
       "      <td>{'type': 'Point', 'coordinates': (-74.005936, ...</td>\n",
       "    </tr>\n",
       "    <tr>\n",
       "      <th>6</th>\n",
       "      <td>Starbucks</td>\n",
       "      <td>40.718330</td>\n",
       "      <td>-74.000015</td>\n",
       "      <td>{'type': 'Point', 'coordinates': (-74.000015, ...</td>\n",
       "    </tr>\n",
       "    <tr>\n",
       "      <th>7</th>\n",
       "      <td>Starbucks</td>\n",
       "      <td>40.719852</td>\n",
       "      <td>-74.004950</td>\n",
       "      <td>{'type': 'Point', 'coordinates': (-74.00495, 4...</td>\n",
       "    </tr>\n",
       "  </tbody>\n",
       "</table>\n",
       "</div>"
      ],
      "text/plain": [
       "      nombre    latitud   longitud  \\\n",
       "0  Starbucks  40.720779 -74.004356   \n",
       "1  Starbucks  40.715714 -74.003154   \n",
       "2  Starbucks  40.719833 -73.999253   \n",
       "3  Starbucks  40.718230 -74.007320   \n",
       "4  Starbucks  40.718802 -74.002431   \n",
       "5  Starbucks  40.714855 -74.005936   \n",
       "6  Starbucks  40.718330 -74.000015   \n",
       "7  Starbucks  40.719852 -74.004950   \n",
       "\n",
       "                                            geometry  \n",
       "0  {'type': 'Point', 'coordinates': (-74.00435638...  \n",
       "1  {'type': 'Point', 'coordinates': (-74.00315416...  \n",
       "2  {'type': 'Point', 'coordinates': (-73.99925263...  \n",
       "3  {'type': 'Point', 'coordinates': (-74.00732, 4...  \n",
       "4  {'type': 'Point', 'coordinates': (-74.00243121...  \n",
       "5  {'type': 'Point', 'coordinates': (-74.005936, ...  \n",
       "6  {'type': 'Point', 'coordinates': (-74.000015, ...  \n",
       "7  {'type': 'Point', 'coordinates': (-74.00495, 4...  "
      ]
     },
     "execution_count": 41,
     "metadata": {},
     "output_type": "execute_result"
    }
   ],
   "source": [
    "gdf_starbucks['geometry'] = gdf_starbucks['geometry'].apply(lambda x:shapely.geometry.mapping(x))\n",
    "gdf_starbucks"
   ]
  },
  {
   "cell_type": "code",
   "execution_count": 42,
   "id": "0271126c",
   "metadata": {},
   "outputs": [
    {
     "data": {
      "text/plain": [
       "'geometry_2dsphere'"
      ]
     },
     "execution_count": 42,
     "metadata": {},
     "output_type": "execute_result"
    }
   ],
   "source": [
    "client = MongoClient()\n",
    "db = client[\"Ironhack-lab\"]\n",
    "collection33 = db.starbucks2\n",
    "collection33.create_index ([(\"geometry\", GEOSPHERE)])"
   ]
  },
  {
   "cell_type": "code",
   "execution_count": 43,
   "id": "6c2036fb",
   "metadata": {},
   "outputs": [
    {
     "data": {
      "text/plain": [
       "<pymongo.results.InsertManyResult at 0x7fb8b9648480>"
      ]
     },
     "execution_count": 43,
     "metadata": {},
     "output_type": "execute_result"
    }
   ],
   "source": [
    "data33 = gdf_starbucks.to_dict(orient=\"records\")\n",
    "collection33.insert_many(data33)"
   ]
  },
  {
   "cell_type": "code",
   "execution_count": 44,
   "id": "1c1221bb",
   "metadata": {},
   "outputs": [
    {
     "data": {
      "text/plain": [
       "{'_id': ObjectId('60d980de387729f83d1bea00'),\n",
       " 'nombre': 'Starbucks',\n",
       " 'latitud': 40.714855,\n",
       " 'longitud': -74.005936,\n",
       " 'geometry': {'type': 'Point', 'coordinates': [-74.005936, 40.714855]}}"
      ]
     },
     "execution_count": 44,
     "metadata": {},
     "output_type": "execute_result"
    }
   ],
   "source": [
    "cercano3 = db.starbucks2.find({\"geometry\":{\"$near\":{\"type\":\"Point\", \"coordinates\":[40.726155, -73.995625],\"$minDistance\": 500, \"$maxDistance\":300}}})\n",
    "list(cercano3)[0]"
   ]
  },
  {
   "cell_type": "code",
   "execution_count": 45,
   "id": "efa3d5f4",
   "metadata": {},
   "outputs": [
    {
     "data": {
      "text/plain": [
       "0.3834396671668515"
      ]
     },
     "execution_count": 45,
     "metadata": {},
     "output_type": "execute_result"
    }
   ],
   "source": [
    "distancia(40.717248,-74.002662,40.714855,-74.005936)"
   ]
  },
  {
   "cell_type": "markdown",
   "id": "ba45502a",
   "metadata": {},
   "source": [
    "✅ Resumen: El Starbucks más cercano se encuentra a 383 metros"
   ]
  },
  {
   "cell_type": "markdown",
   "id": "72cac620",
   "metadata": {},
   "source": [
    "## 4.4 Restaurante Vegano 🥕"
   ]
  },
  {
   "cell_type": "code",
   "execution_count": 46,
   "id": "a1205416",
   "metadata": {},
   "outputs": [],
   "source": [
    "params4 = {\"client_id\" : client_id,\n",
    "              \"client_secret\" : client_secret,\n",
    "              \"v\": \"20180323\",\n",
    "              \"ll\": coordenadas,\n",
    "              \"query\": \"vegan restaurants\",\n",
    "              \"limit\": 10,\n",
    "              \"radius\": 500\n",
    "             }\n",
    "response4 = requests.get(url,params=params4).json()"
   ]
  },
  {
   "cell_type": "code",
   "execution_count": 47,
   "id": "06cf2a61",
   "metadata": {},
   "outputs": [],
   "source": [
    "data4 = response4.get(\"response\")\n",
    "decode4 = data4.get(\"groups\")[0] \n",
    "vegan = decode4.get(\"items\")"
   ]
  },
  {
   "cell_type": "code",
   "execution_count": 48,
   "id": "4c50ec8f",
   "metadata": {},
   "outputs": [],
   "source": [
    "#Extración de los datos\n",
    "resveganos = []\n",
    "for dic in vegan:\n",
    "    lista = {}\n",
    "    lista[\"nombre\"] = getFromDict(dic, mapa_nombre)\n",
    "    lista[\"latitud\"] = getFromDict(dic, mapa_latitud)\n",
    "    lista[\"longitud\"] = getFromDict(dic, mapa_longitud)\n",
    "    resveganos.append(lista)"
   ]
  },
  {
   "cell_type": "code",
   "execution_count": 49,
   "id": "c974f92f",
   "metadata": {},
   "outputs": [
    {
     "data": {
      "text/html": [
       "<div>\n",
       "<style scoped>\n",
       "    .dataframe tbody tr th:only-of-type {\n",
       "        vertical-align: middle;\n",
       "    }\n",
       "\n",
       "    .dataframe tbody tr th {\n",
       "        vertical-align: top;\n",
       "    }\n",
       "\n",
       "    .dataframe thead th {\n",
       "        text-align: right;\n",
       "    }\n",
       "</style>\n",
       "<table border=\"1\" class=\"dataframe\">\n",
       "  <thead>\n",
       "    <tr style=\"text-align: right;\">\n",
       "      <th></th>\n",
       "      <th>nombre</th>\n",
       "      <th>latitud</th>\n",
       "      <th>longitud</th>\n",
       "    </tr>\n",
       "  </thead>\n",
       "  <tbody>\n",
       "    <tr>\n",
       "      <th>0</th>\n",
       "      <td>May Wah Vegetarian Market</td>\n",
       "      <td>40.718582</td>\n",
       "      <td>-73.999437</td>\n",
       "    </tr>\n",
       "    <tr>\n",
       "      <th>1</th>\n",
       "      <td>Le Botaniste</td>\n",
       "      <td>40.720545</td>\n",
       "      <td>-74.000138</td>\n",
       "    </tr>\n",
       "    <tr>\n",
       "      <th>2</th>\n",
       "      <td>Nish Nūsh</td>\n",
       "      <td>40.715537</td>\n",
       "      <td>-74.007725</td>\n",
       "    </tr>\n",
       "    <tr>\n",
       "      <th>3</th>\n",
       "      <td>Vegetarian Dim Sum House</td>\n",
       "      <td>40.714892</td>\n",
       "      <td>-73.998321</td>\n",
       "    </tr>\n",
       "    <tr>\n",
       "      <th>4</th>\n",
       "      <td>Happy Veggie Restaurant</td>\n",
       "      <td>40.716511</td>\n",
       "      <td>-73.997922</td>\n",
       "    </tr>\n",
       "    <tr>\n",
       "      <th>5</th>\n",
       "      <td>Galioto’s</td>\n",
       "      <td>40.718439</td>\n",
       "      <td>-73.997885</td>\n",
       "    </tr>\n",
       "  </tbody>\n",
       "</table>\n",
       "</div>"
      ],
      "text/plain": [
       "                      nombre    latitud   longitud\n",
       "0  May Wah Vegetarian Market  40.718582 -73.999437\n",
       "1               Le Botaniste  40.720545 -74.000138\n",
       "2                  Nish Nūsh  40.715537 -74.007725\n",
       "3   Vegetarian Dim Sum House  40.714892 -73.998321\n",
       "4    Happy Veggie Restaurant  40.716511 -73.997922\n",
       "5                  Galioto’s  40.718439 -73.997885"
      ]
     },
     "execution_count": 49,
     "metadata": {},
     "output_type": "execute_result"
    }
   ],
   "source": [
    "#Creación del DataFrame\n",
    "df_resveganos = pd.DataFrame(resveganos)\n",
    "df_resveganos"
   ]
  },
  {
   "cell_type": "code",
   "execution_count": 50,
   "id": "75d1b8a7",
   "metadata": {},
   "outputs": [
    {
     "data": {
      "text/html": [
       "<div>\n",
       "<style scoped>\n",
       "    .dataframe tbody tr th:only-of-type {\n",
       "        vertical-align: middle;\n",
       "    }\n",
       "\n",
       "    .dataframe tbody tr th {\n",
       "        vertical-align: top;\n",
       "    }\n",
       "\n",
       "    .dataframe thead th {\n",
       "        text-align: right;\n",
       "    }\n",
       "</style>\n",
       "<table border=\"1\" class=\"dataframe\">\n",
       "  <thead>\n",
       "    <tr style=\"text-align: right;\">\n",
       "      <th></th>\n",
       "      <th>nombre</th>\n",
       "      <th>latitud</th>\n",
       "      <th>longitud</th>\n",
       "      <th>geometry</th>\n",
       "    </tr>\n",
       "  </thead>\n",
       "  <tbody>\n",
       "    <tr>\n",
       "      <th>0</th>\n",
       "      <td>May Wah Vegetarian Market</td>\n",
       "      <td>40.718582</td>\n",
       "      <td>-73.999437</td>\n",
       "      <td>POINT (-73.99944 40.71858)</td>\n",
       "    </tr>\n",
       "    <tr>\n",
       "      <th>1</th>\n",
       "      <td>Le Botaniste</td>\n",
       "      <td>40.720545</td>\n",
       "      <td>-74.000138</td>\n",
       "      <td>POINT (-74.00014 40.72054)</td>\n",
       "    </tr>\n",
       "    <tr>\n",
       "      <th>2</th>\n",
       "      <td>Nish Nūsh</td>\n",
       "      <td>40.715537</td>\n",
       "      <td>-74.007725</td>\n",
       "      <td>POINT (-74.00772 40.71554)</td>\n",
       "    </tr>\n",
       "    <tr>\n",
       "      <th>3</th>\n",
       "      <td>Vegetarian Dim Sum House</td>\n",
       "      <td>40.714892</td>\n",
       "      <td>-73.998321</td>\n",
       "      <td>POINT (-73.99832 40.71489)</td>\n",
       "    </tr>\n",
       "    <tr>\n",
       "      <th>4</th>\n",
       "      <td>Happy Veggie Restaurant</td>\n",
       "      <td>40.716511</td>\n",
       "      <td>-73.997922</td>\n",
       "      <td>POINT (-73.99792 40.71651)</td>\n",
       "    </tr>\n",
       "    <tr>\n",
       "      <th>5</th>\n",
       "      <td>Galioto’s</td>\n",
       "      <td>40.718439</td>\n",
       "      <td>-73.997885</td>\n",
       "      <td>POINT (-73.99788 40.71844)</td>\n",
       "    </tr>\n",
       "  </tbody>\n",
       "</table>\n",
       "</div>"
      ],
      "text/plain": [
       "                      nombre    latitud   longitud                    geometry\n",
       "0  May Wah Vegetarian Market  40.718582 -73.999437  POINT (-73.99944 40.71858)\n",
       "1               Le Botaniste  40.720545 -74.000138  POINT (-74.00014 40.72054)\n",
       "2                  Nish Nūsh  40.715537 -74.007725  POINT (-74.00772 40.71554)\n",
       "3   Vegetarian Dim Sum House  40.714892 -73.998321  POINT (-73.99832 40.71489)\n",
       "4    Happy Veggie Restaurant  40.716511 -73.997922  POINT (-73.99792 40.71651)\n",
       "5                  Galioto’s  40.718439 -73.997885  POINT (-73.99788 40.71844)"
      ]
     },
     "execution_count": 50,
     "metadata": {},
     "output_type": "execute_result"
    }
   ],
   "source": [
    "#Lo transformamos en GeoDataFrame\n",
    "gdf_resveganos = gpd.GeoDataFrame(df_resveganos, geometry = gpd.points_from_xy(df_resveganos.longitud, df_resveganos.latitud))\n",
    "gdf_resveganos"
   ]
  },
  {
   "cell_type": "code",
   "execution_count": 51,
   "id": "c8de1ee2",
   "metadata": {},
   "outputs": [],
   "source": [
    "#Map(Layer(gdf_resveganos,\"color:green\",popup_hover = [popup_element(\"nombre\", \"Restaurantes Veganos\")]))"
   ]
  },
  {
   "cell_type": "markdown",
   "id": "3d049134",
   "metadata": {},
   "source": [
    "🔴 **¿Cual será el más cercano?** "
   ]
  },
  {
   "cell_type": "code",
   "execution_count": 52,
   "id": "1f58b040",
   "metadata": {},
   "outputs": [
    {
     "name": "stderr",
     "output_type": "stream",
     "text": [
      "/usr/local/Caskroom/miniconda/base/lib/python3.8/site-packages/geopandas/geodataframe.py:1321: UserWarning: Geometry column does not contain geometry.\n",
      "  warnings.warn(\"Geometry column does not contain geometry.\")\n"
     ]
    },
    {
     "data": {
      "text/html": [
       "<div>\n",
       "<style scoped>\n",
       "    .dataframe tbody tr th:only-of-type {\n",
       "        vertical-align: middle;\n",
       "    }\n",
       "\n",
       "    .dataframe tbody tr th {\n",
       "        vertical-align: top;\n",
       "    }\n",
       "\n",
       "    .dataframe thead th {\n",
       "        text-align: right;\n",
       "    }\n",
       "</style>\n",
       "<table border=\"1\" class=\"dataframe\">\n",
       "  <thead>\n",
       "    <tr style=\"text-align: right;\">\n",
       "      <th></th>\n",
       "      <th>nombre</th>\n",
       "      <th>latitud</th>\n",
       "      <th>longitud</th>\n",
       "      <th>geometry</th>\n",
       "    </tr>\n",
       "  </thead>\n",
       "  <tbody>\n",
       "    <tr>\n",
       "      <th>0</th>\n",
       "      <td>May Wah Vegetarian Market</td>\n",
       "      <td>40.718582</td>\n",
       "      <td>-73.999437</td>\n",
       "      <td>{'type': 'Point', 'coordinates': (-73.99943664...</td>\n",
       "    </tr>\n",
       "    <tr>\n",
       "      <th>1</th>\n",
       "      <td>Le Botaniste</td>\n",
       "      <td>40.720545</td>\n",
       "      <td>-74.000138</td>\n",
       "      <td>{'type': 'Point', 'coordinates': (-74.00013783...</td>\n",
       "    </tr>\n",
       "    <tr>\n",
       "      <th>2</th>\n",
       "      <td>Nish Nūsh</td>\n",
       "      <td>40.715537</td>\n",
       "      <td>-74.007725</td>\n",
       "      <td>{'type': 'Point', 'coordinates': (-74.00772452...</td>\n",
       "    </tr>\n",
       "    <tr>\n",
       "      <th>3</th>\n",
       "      <td>Vegetarian Dim Sum House</td>\n",
       "      <td>40.714892</td>\n",
       "      <td>-73.998321</td>\n",
       "      <td>{'type': 'Point', 'coordinates': (-73.99832147...</td>\n",
       "    </tr>\n",
       "    <tr>\n",
       "      <th>4</th>\n",
       "      <td>Happy Veggie Restaurant</td>\n",
       "      <td>40.716511</td>\n",
       "      <td>-73.997922</td>\n",
       "      <td>{'type': 'Point', 'coordinates': (-73.997922, ...</td>\n",
       "    </tr>\n",
       "    <tr>\n",
       "      <th>5</th>\n",
       "      <td>Galioto’s</td>\n",
       "      <td>40.718439</td>\n",
       "      <td>-73.997885</td>\n",
       "      <td>{'type': 'Point', 'coordinates': (-73.997885, ...</td>\n",
       "    </tr>\n",
       "  </tbody>\n",
       "</table>\n",
       "</div>"
      ],
      "text/plain": [
       "                      nombre    latitud   longitud  \\\n",
       "0  May Wah Vegetarian Market  40.718582 -73.999437   \n",
       "1               Le Botaniste  40.720545 -74.000138   \n",
       "2                  Nish Nūsh  40.715537 -74.007725   \n",
       "3   Vegetarian Dim Sum House  40.714892 -73.998321   \n",
       "4    Happy Veggie Restaurant  40.716511 -73.997922   \n",
       "5                  Galioto’s  40.718439 -73.997885   \n",
       "\n",
       "                                            geometry  \n",
       "0  {'type': 'Point', 'coordinates': (-73.99943664...  \n",
       "1  {'type': 'Point', 'coordinates': (-74.00013783...  \n",
       "2  {'type': 'Point', 'coordinates': (-74.00772452...  \n",
       "3  {'type': 'Point', 'coordinates': (-73.99832147...  \n",
       "4  {'type': 'Point', 'coordinates': (-73.997922, ...  \n",
       "5  {'type': 'Point', 'coordinates': (-73.997885, ...  "
      ]
     },
     "execution_count": 52,
     "metadata": {},
     "output_type": "execute_result"
    }
   ],
   "source": [
    "gdf_resveganos['geometry'] = gdf_resveganos['geometry'].apply(lambda x:shapely.geometry.mapping(x))\n",
    "gdf_resveganos"
   ]
  },
  {
   "cell_type": "code",
   "execution_count": 53,
   "id": "a178054b",
   "metadata": {},
   "outputs": [
    {
     "data": {
      "text/plain": [
       "'geometry_2dsphere'"
      ]
     },
     "execution_count": 53,
     "metadata": {},
     "output_type": "execute_result"
    }
   ],
   "source": [
    "client = MongoClient()\n",
    "db = client[\"Ironhack-lab\"]\n",
    "collection44 = db.resveganos2\n",
    "collection44.create_index ([(\"geometry\", GEOSPHERE)])"
   ]
  },
  {
   "cell_type": "code",
   "execution_count": 54,
   "id": "ec56c0c2",
   "metadata": {},
   "outputs": [
    {
     "data": {
      "text/plain": [
       "<pymongo.results.InsertManyResult at 0x7fb8a8550980>"
      ]
     },
     "execution_count": 54,
     "metadata": {},
     "output_type": "execute_result"
    }
   ],
   "source": [
    "data44 = gdf_resveganos.to_dict(orient=\"records\")\n",
    "collection44.insert_many(data44)"
   ]
  },
  {
   "cell_type": "code",
   "execution_count": 55,
   "id": "95f2a144",
   "metadata": {},
   "outputs": [
    {
     "data": {
      "text/plain": [
       "{'_id': ObjectId('60d980fb387729f83d1bea07'),\n",
       " 'nombre': 'Vegetarian Dim Sum House',\n",
       " 'latitud': 40.71489232862965,\n",
       " 'longitud': -73.99832147855244,\n",
       " 'geometry': {'type': 'Point',\n",
       "  'coordinates': [-73.99832147855244, 40.71489232862965]}}"
      ]
     },
     "execution_count": 55,
     "metadata": {},
     "output_type": "execute_result"
    }
   ],
   "source": [
    "cercano4 = db.resveganos2.find({\"geometry\":{\"$near\":{\"type\":\"Point\", \"coordinates\":[40.726155, -73.995625],\"$minDistance\": 500, \"$maxDistance\":300}}})\n",
    "list(cercano4)[0]"
   ]
  },
  {
   "cell_type": "code",
   "execution_count": 56,
   "id": "ea3a07ac",
   "metadata": {},
   "outputs": [
    {
     "data": {
      "text/plain": [
       "0.45005640400065644"
      ]
     },
     "execution_count": 56,
     "metadata": {},
     "output_type": "execute_result"
    }
   ],
   "source": [
    "distancia(40.717248,-74.002662,40.71489232862965,-73.99832147855244)"
   ]
  },
  {
   "cell_type": "markdown",
   "id": "92555f42",
   "metadata": {},
   "source": [
    "✅ Resumen: El restaurante vegano más cercano se encuentra a 450 metros"
   ]
  },
  {
   "cell_type": "markdown",
   "id": "704af018",
   "metadata": {},
   "source": [
    "## 4.5 Estación de autobuses 🚌"
   ]
  },
  {
   "cell_type": "code",
   "execution_count": 57,
   "id": "c6d73268",
   "metadata": {},
   "outputs": [],
   "source": [
    "params5 = {\"client_id\" : client_id,\n",
    "              \"client_secret\" : client_secret,\n",
    "              \"v\": \"20180323\",\n",
    "              \"ll\": coordenadas,\n",
    "              \"query\": \"bus station\",\n",
    "              \"limit\": 10,\n",
    "              \"radius\": 500\n",
    "             }\n",
    "response5 = requests.get(url,params=params5).json()"
   ]
  },
  {
   "cell_type": "code",
   "execution_count": 58,
   "id": "af4a27ab",
   "metadata": {},
   "outputs": [],
   "source": [
    "data5 = response5.get(\"response\")\n",
    "decode5 = data5.get(\"groups\")[0] \n",
    "bus = decode5.get(\"items\")"
   ]
  },
  {
   "cell_type": "code",
   "execution_count": 59,
   "id": "ef59baa4",
   "metadata": {},
   "outputs": [],
   "source": [
    "#Extración de los datos\n",
    "autobuses = []\n",
    "for dic in bus:\n",
    "    lista = {}\n",
    "    lista[\"nombre\"] = getFromDict(dic, mapa_nombre)\n",
    "    lista[\"latitud\"] = getFromDict(dic, mapa_latitud)\n",
    "    lista[\"longitud\"] = getFromDict(dic, mapa_longitud)\n",
    "    autobuses.append(lista)"
   ]
  },
  {
   "cell_type": "code",
   "execution_count": 60,
   "id": "ab52eab1",
   "metadata": {},
   "outputs": [
    {
     "data": {
      "text/html": [
       "<div>\n",
       "<style scoped>\n",
       "    .dataframe tbody tr th:only-of-type {\n",
       "        vertical-align: middle;\n",
       "    }\n",
       "\n",
       "    .dataframe tbody tr th {\n",
       "        vertical-align: top;\n",
       "    }\n",
       "\n",
       "    .dataframe thead th {\n",
       "        text-align: right;\n",
       "    }\n",
       "</style>\n",
       "<table border=\"1\" class=\"dataframe\">\n",
       "  <thead>\n",
       "    <tr style=\"text-align: right;\">\n",
       "      <th></th>\n",
       "      <th>nombre</th>\n",
       "      <th>latitud</th>\n",
       "      <th>longitud</th>\n",
       "    </tr>\n",
       "  </thead>\n",
       "  <tbody>\n",
       "    <tr>\n",
       "      <th>0</th>\n",
       "      <td>MTA Bus - Broadway &amp; White St (X1/X10/X12/X17)</td>\n",
       "      <td>40.718120</td>\n",
       "      <td>-74.003042</td>\n",
       "    </tr>\n",
       "    <tr>\n",
       "      <th>1</th>\n",
       "      <td>NYU Shuttle - Route B</td>\n",
       "      <td>40.717025</td>\n",
       "      <td>-74.001726</td>\n",
       "    </tr>\n",
       "    <tr>\n",
       "      <th>2</th>\n",
       "      <td>x1 bus to SI</td>\n",
       "      <td>40.716549</td>\n",
       "      <td>-74.004366</td>\n",
       "    </tr>\n",
       "    <tr>\n",
       "      <th>3</th>\n",
       "      <td>Worth St &amp; Broadway</td>\n",
       "      <td>40.716537</td>\n",
       "      <td>-74.005686</td>\n",
       "    </tr>\n",
       "    <tr>\n",
       "      <th>4</th>\n",
       "      <td>BookBuses</td>\n",
       "      <td>40.720591</td>\n",
       "      <td>-74.001031</td>\n",
       "    </tr>\n",
       "    <tr>\n",
       "      <th>5</th>\n",
       "      <td>MTA Bus - M22</td>\n",
       "      <td>40.713896</td>\n",
       "      <td>-73.999188</td>\n",
       "    </tr>\n",
       "    <tr>\n",
       "      <th>6</th>\n",
       "      <td>MTA - M5 - Church/Chambers</td>\n",
       "      <td>40.715057</td>\n",
       "      <td>-74.007607</td>\n",
       "    </tr>\n",
       "    <tr>\n",
       "      <th>7</th>\n",
       "      <td>NY Tour Bus Rental</td>\n",
       "      <td>40.715690</td>\n",
       "      <td>-74.006680</td>\n",
       "    </tr>\n",
       "    <tr>\n",
       "      <th>8</th>\n",
       "      <td>MTA - M9</td>\n",
       "      <td>40.713356</td>\n",
       "      <td>-74.001669</td>\n",
       "    </tr>\n",
       "    <tr>\n",
       "      <th>9</th>\n",
       "      <td>Canal St - Skyline Bus Tour</td>\n",
       "      <td>40.720917</td>\n",
       "      <td>-74.000688</td>\n",
       "    </tr>\n",
       "  </tbody>\n",
       "</table>\n",
       "</div>"
      ],
      "text/plain": [
       "                                           nombre    latitud   longitud\n",
       "0  MTA Bus - Broadway & White St (X1/X10/X12/X17)  40.718120 -74.003042\n",
       "1                           NYU Shuttle - Route B  40.717025 -74.001726\n",
       "2                                    x1 bus to SI  40.716549 -74.004366\n",
       "3                             Worth St & Broadway  40.716537 -74.005686\n",
       "4                                       BookBuses  40.720591 -74.001031\n",
       "5                                   MTA Bus - M22  40.713896 -73.999188\n",
       "6                      MTA - M5 - Church/Chambers  40.715057 -74.007607\n",
       "7                              NY Tour Bus Rental  40.715690 -74.006680\n",
       "8                                        MTA - M9  40.713356 -74.001669\n",
       "9                     Canal St - Skyline Bus Tour  40.720917 -74.000688"
      ]
     },
     "execution_count": 60,
     "metadata": {},
     "output_type": "execute_result"
    }
   ],
   "source": [
    "#Creación del DataFrame\n",
    "df_autobuses = pd.DataFrame(autobuses)\n",
    "df_autobuses"
   ]
  },
  {
   "cell_type": "code",
   "execution_count": 61,
   "id": "4ac7d774",
   "metadata": {},
   "outputs": [
    {
     "data": {
      "text/html": [
       "<div>\n",
       "<style scoped>\n",
       "    .dataframe tbody tr th:only-of-type {\n",
       "        vertical-align: middle;\n",
       "    }\n",
       "\n",
       "    .dataframe tbody tr th {\n",
       "        vertical-align: top;\n",
       "    }\n",
       "\n",
       "    .dataframe thead th {\n",
       "        text-align: right;\n",
       "    }\n",
       "</style>\n",
       "<table border=\"1\" class=\"dataframe\">\n",
       "  <thead>\n",
       "    <tr style=\"text-align: right;\">\n",
       "      <th></th>\n",
       "      <th>nombre</th>\n",
       "      <th>latitud</th>\n",
       "      <th>longitud</th>\n",
       "      <th>geometry</th>\n",
       "    </tr>\n",
       "  </thead>\n",
       "  <tbody>\n",
       "    <tr>\n",
       "      <th>0</th>\n",
       "      <td>MTA Bus - Broadway &amp; White St (X1/X10/X12/X17)</td>\n",
       "      <td>40.718120</td>\n",
       "      <td>-74.003042</td>\n",
       "      <td>POINT (-74.00304 40.71812)</td>\n",
       "    </tr>\n",
       "    <tr>\n",
       "      <th>1</th>\n",
       "      <td>NYU Shuttle - Route B</td>\n",
       "      <td>40.717025</td>\n",
       "      <td>-74.001726</td>\n",
       "      <td>POINT (-74.00173 40.71703)</td>\n",
       "    </tr>\n",
       "    <tr>\n",
       "      <th>2</th>\n",
       "      <td>x1 bus to SI</td>\n",
       "      <td>40.716549</td>\n",
       "      <td>-74.004366</td>\n",
       "      <td>POINT (-74.00437 40.71655)</td>\n",
       "    </tr>\n",
       "    <tr>\n",
       "      <th>3</th>\n",
       "      <td>Worth St &amp; Broadway</td>\n",
       "      <td>40.716537</td>\n",
       "      <td>-74.005686</td>\n",
       "      <td>POINT (-74.00569 40.71654)</td>\n",
       "    </tr>\n",
       "    <tr>\n",
       "      <th>4</th>\n",
       "      <td>BookBuses</td>\n",
       "      <td>40.720591</td>\n",
       "      <td>-74.001031</td>\n",
       "      <td>POINT (-74.00103 40.72059)</td>\n",
       "    </tr>\n",
       "    <tr>\n",
       "      <th>5</th>\n",
       "      <td>MTA Bus - M22</td>\n",
       "      <td>40.713896</td>\n",
       "      <td>-73.999188</td>\n",
       "      <td>POINT (-73.99919 40.71390)</td>\n",
       "    </tr>\n",
       "    <tr>\n",
       "      <th>6</th>\n",
       "      <td>MTA - M5 - Church/Chambers</td>\n",
       "      <td>40.715057</td>\n",
       "      <td>-74.007607</td>\n",
       "      <td>POINT (-74.00761 40.71506)</td>\n",
       "    </tr>\n",
       "    <tr>\n",
       "      <th>7</th>\n",
       "      <td>NY Tour Bus Rental</td>\n",
       "      <td>40.715690</td>\n",
       "      <td>-74.006680</td>\n",
       "      <td>POINT (-74.00668 40.71569)</td>\n",
       "    </tr>\n",
       "    <tr>\n",
       "      <th>8</th>\n",
       "      <td>MTA - M9</td>\n",
       "      <td>40.713356</td>\n",
       "      <td>-74.001669</td>\n",
       "      <td>POINT (-74.00167 40.71336)</td>\n",
       "    </tr>\n",
       "    <tr>\n",
       "      <th>9</th>\n",
       "      <td>Canal St - Skyline Bus Tour</td>\n",
       "      <td>40.720917</td>\n",
       "      <td>-74.000688</td>\n",
       "      <td>POINT (-74.00069 40.72092)</td>\n",
       "    </tr>\n",
       "  </tbody>\n",
       "</table>\n",
       "</div>"
      ],
      "text/plain": [
       "                                           nombre    latitud   longitud  \\\n",
       "0  MTA Bus - Broadway & White St (X1/X10/X12/X17)  40.718120 -74.003042   \n",
       "1                           NYU Shuttle - Route B  40.717025 -74.001726   \n",
       "2                                    x1 bus to SI  40.716549 -74.004366   \n",
       "3                             Worth St & Broadway  40.716537 -74.005686   \n",
       "4                                       BookBuses  40.720591 -74.001031   \n",
       "5                                   MTA Bus - M22  40.713896 -73.999188   \n",
       "6                      MTA - M5 - Church/Chambers  40.715057 -74.007607   \n",
       "7                              NY Tour Bus Rental  40.715690 -74.006680   \n",
       "8                                        MTA - M9  40.713356 -74.001669   \n",
       "9                     Canal St - Skyline Bus Tour  40.720917 -74.000688   \n",
       "\n",
       "                     geometry  \n",
       "0  POINT (-74.00304 40.71812)  \n",
       "1  POINT (-74.00173 40.71703)  \n",
       "2  POINT (-74.00437 40.71655)  \n",
       "3  POINT (-74.00569 40.71654)  \n",
       "4  POINT (-74.00103 40.72059)  \n",
       "5  POINT (-73.99919 40.71390)  \n",
       "6  POINT (-74.00761 40.71506)  \n",
       "7  POINT (-74.00668 40.71569)  \n",
       "8  POINT (-74.00167 40.71336)  \n",
       "9  POINT (-74.00069 40.72092)  "
      ]
     },
     "execution_count": 61,
     "metadata": {},
     "output_type": "execute_result"
    }
   ],
   "source": [
    "#Lo transformamos en GeoDataFrame\n",
    "gdf_autobuses = gpd.GeoDataFrame(df_autobuses, geometry = gpd.points_from_xy(df_autobuses.longitud, df_autobuses.latitud))\n",
    "gdf_autobuses"
   ]
  },
  {
   "cell_type": "code",
   "execution_count": 62,
   "id": "39aaa5ce",
   "metadata": {},
   "outputs": [],
   "source": [
    "#Map(Layer(gdf_autobuses,\"color:purple\",popup_hover = [popup_element(\"nombre\", \"Estación de autobuses\")]))"
   ]
  },
  {
   "cell_type": "markdown",
   "id": "4841283a",
   "metadata": {},
   "source": [
    "🔴 **¿Cual será el más cercano?** "
   ]
  },
  {
   "cell_type": "code",
   "execution_count": 63,
   "id": "56305f48",
   "metadata": {},
   "outputs": [
    {
     "name": "stderr",
     "output_type": "stream",
     "text": [
      "/usr/local/Caskroom/miniconda/base/lib/python3.8/site-packages/geopandas/geodataframe.py:1321: UserWarning: Geometry column does not contain geometry.\n",
      "  warnings.warn(\"Geometry column does not contain geometry.\")\n"
     ]
    },
    {
     "data": {
      "text/html": [
       "<div>\n",
       "<style scoped>\n",
       "    .dataframe tbody tr th:only-of-type {\n",
       "        vertical-align: middle;\n",
       "    }\n",
       "\n",
       "    .dataframe tbody tr th {\n",
       "        vertical-align: top;\n",
       "    }\n",
       "\n",
       "    .dataframe thead th {\n",
       "        text-align: right;\n",
       "    }\n",
       "</style>\n",
       "<table border=\"1\" class=\"dataframe\">\n",
       "  <thead>\n",
       "    <tr style=\"text-align: right;\">\n",
       "      <th></th>\n",
       "      <th>nombre</th>\n",
       "      <th>latitud</th>\n",
       "      <th>longitud</th>\n",
       "      <th>geometry</th>\n",
       "    </tr>\n",
       "  </thead>\n",
       "  <tbody>\n",
       "    <tr>\n",
       "      <th>0</th>\n",
       "      <td>MTA Bus - Broadway &amp; White St (X1/X10/X12/X17)</td>\n",
       "      <td>40.718120</td>\n",
       "      <td>-74.003042</td>\n",
       "      <td>{'type': 'Point', 'coordinates': (-74.003042, ...</td>\n",
       "    </tr>\n",
       "    <tr>\n",
       "      <th>1</th>\n",
       "      <td>NYU Shuttle - Route B</td>\n",
       "      <td>40.717025</td>\n",
       "      <td>-74.001726</td>\n",
       "      <td>{'type': 'Point', 'coordinates': (-74.00172590...</td>\n",
       "    </tr>\n",
       "    <tr>\n",
       "      <th>2</th>\n",
       "      <td>x1 bus to SI</td>\n",
       "      <td>40.716549</td>\n",
       "      <td>-74.004366</td>\n",
       "      <td>{'type': 'Point', 'coordinates': (-74.00436571...</td>\n",
       "    </tr>\n",
       "    <tr>\n",
       "      <th>3</th>\n",
       "      <td>Worth St &amp; Broadway</td>\n",
       "      <td>40.716537</td>\n",
       "      <td>-74.005686</td>\n",
       "      <td>{'type': 'Point', 'coordinates': (-74.00568556...</td>\n",
       "    </tr>\n",
       "    <tr>\n",
       "      <th>4</th>\n",
       "      <td>BookBuses</td>\n",
       "      <td>40.720591</td>\n",
       "      <td>-74.001031</td>\n",
       "      <td>{'type': 'Point', 'coordinates': (-74.00103092...</td>\n",
       "    </tr>\n",
       "    <tr>\n",
       "      <th>5</th>\n",
       "      <td>MTA Bus - M22</td>\n",
       "      <td>40.713896</td>\n",
       "      <td>-73.999188</td>\n",
       "      <td>{'type': 'Point', 'coordinates': (-73.999188, ...</td>\n",
       "    </tr>\n",
       "    <tr>\n",
       "      <th>6</th>\n",
       "      <td>MTA - M5 - Church/Chambers</td>\n",
       "      <td>40.715057</td>\n",
       "      <td>-74.007607</td>\n",
       "      <td>{'type': 'Point', 'coordinates': (-74.00760650...</td>\n",
       "    </tr>\n",
       "    <tr>\n",
       "      <th>7</th>\n",
       "      <td>NY Tour Bus Rental</td>\n",
       "      <td>40.715690</td>\n",
       "      <td>-74.006680</td>\n",
       "      <td>{'type': 'Point', 'coordinates': (-74.00668, 4...</td>\n",
       "    </tr>\n",
       "    <tr>\n",
       "      <th>8</th>\n",
       "      <td>MTA - M9</td>\n",
       "      <td>40.713356</td>\n",
       "      <td>-74.001669</td>\n",
       "      <td>{'type': 'Point', 'coordinates': (-74.00166859...</td>\n",
       "    </tr>\n",
       "    <tr>\n",
       "      <th>9</th>\n",
       "      <td>Canal St - Skyline Bus Tour</td>\n",
       "      <td>40.720917</td>\n",
       "      <td>-74.000688</td>\n",
       "      <td>{'type': 'Point', 'coordinates': (-74.0006876,...</td>\n",
       "    </tr>\n",
       "  </tbody>\n",
       "</table>\n",
       "</div>"
      ],
      "text/plain": [
       "                                           nombre    latitud   longitud  \\\n",
       "0  MTA Bus - Broadway & White St (X1/X10/X12/X17)  40.718120 -74.003042   \n",
       "1                           NYU Shuttle - Route B  40.717025 -74.001726   \n",
       "2                                    x1 bus to SI  40.716549 -74.004366   \n",
       "3                             Worth St & Broadway  40.716537 -74.005686   \n",
       "4                                       BookBuses  40.720591 -74.001031   \n",
       "5                                   MTA Bus - M22  40.713896 -73.999188   \n",
       "6                      MTA - M5 - Church/Chambers  40.715057 -74.007607   \n",
       "7                              NY Tour Bus Rental  40.715690 -74.006680   \n",
       "8                                        MTA - M9  40.713356 -74.001669   \n",
       "9                     Canal St - Skyline Bus Tour  40.720917 -74.000688   \n",
       "\n",
       "                                            geometry  \n",
       "0  {'type': 'Point', 'coordinates': (-74.003042, ...  \n",
       "1  {'type': 'Point', 'coordinates': (-74.00172590...  \n",
       "2  {'type': 'Point', 'coordinates': (-74.00436571...  \n",
       "3  {'type': 'Point', 'coordinates': (-74.00568556...  \n",
       "4  {'type': 'Point', 'coordinates': (-74.00103092...  \n",
       "5  {'type': 'Point', 'coordinates': (-73.999188, ...  \n",
       "6  {'type': 'Point', 'coordinates': (-74.00760650...  \n",
       "7  {'type': 'Point', 'coordinates': (-74.00668, 4...  \n",
       "8  {'type': 'Point', 'coordinates': (-74.00166859...  \n",
       "9  {'type': 'Point', 'coordinates': (-74.0006876,...  "
      ]
     },
     "execution_count": 63,
     "metadata": {},
     "output_type": "execute_result"
    }
   ],
   "source": [
    "gdf_autobuses['geometry'] = gdf_autobuses['geometry'].apply(lambda x:shapely.geometry.mapping(x))\n",
    "gdf_autobuses"
   ]
  },
  {
   "cell_type": "code",
   "execution_count": 64,
   "id": "2c95d1bc",
   "metadata": {},
   "outputs": [
    {
     "data": {
      "text/plain": [
       "'geometry_2dsphere'"
      ]
     },
     "execution_count": 64,
     "metadata": {},
     "output_type": "execute_result"
    }
   ],
   "source": [
    "client = MongoClient()\n",
    "db = client[\"Ironhack-lab\"]\n",
    "collection55 = db.autobuses2\n",
    "collection55.create_index ([(\"geometry\", GEOSPHERE)])"
   ]
  },
  {
   "cell_type": "code",
   "execution_count": 65,
   "id": "476c92f9",
   "metadata": {},
   "outputs": [
    {
     "data": {
      "text/plain": [
       "<pymongo.results.InsertManyResult at 0x7fb8b9653880>"
      ]
     },
     "execution_count": 65,
     "metadata": {},
     "output_type": "execute_result"
    }
   ],
   "source": [
    "data55 = gdf_autobuses.to_dict(orient=\"records\")\n",
    "collection55.insert_many(data55)"
   ]
  },
  {
   "cell_type": "code",
   "execution_count": 66,
   "id": "ab4f29ba",
   "metadata": {},
   "outputs": [
    {
     "data": {
      "text/plain": [
       "{'_id': ObjectId('60d9811a387729f83d1bea10'),\n",
       " 'nombre': 'MTA Bus - M22',\n",
       " 'latitud': 40.713896000000005,\n",
       " 'longitud': -73.999188,\n",
       " 'geometry': {'type': 'Point',\n",
       "  'coordinates': [-73.999188, 40.713896000000005]}}"
      ]
     },
     "execution_count": 66,
     "metadata": {},
     "output_type": "execute_result"
    }
   ],
   "source": [
    "cercano5 = db.autobuses2.find({\"geometry\":{\"$near\":{\"type\":\"Point\", \"coordinates\":[40.726155, -73.995625],\"$minDistance\": 500, \"$maxDistance\":300}}})\n",
    "list(cercano5)[0]"
   ]
  },
  {
   "cell_type": "code",
   "execution_count": 67,
   "id": "637861a3",
   "metadata": {},
   "outputs": [
    {
     "data": {
      "text/plain": [
       "0.47410767949426486"
      ]
     },
     "execution_count": 67,
     "metadata": {},
     "output_type": "execute_result"
    }
   ],
   "source": [
    "distancia(40.717248,-74.002662,40.713896000000005,-73.999188)"
   ]
  },
  {
   "cell_type": "markdown",
   "id": "5a588d96",
   "metadata": {},
   "source": [
    "✅ Resumen: La parada de autobuses más cercana se encuentra a 474 metros"
   ]
  },
  {
   "cell_type": "markdown",
   "id": "f42e59b4",
   "metadata": {},
   "source": [
    "## 4.6 Colegios 👶🏻"
   ]
  },
  {
   "cell_type": "code",
   "execution_count": 68,
   "id": "2e65f0a2",
   "metadata": {},
   "outputs": [],
   "source": [
    "params6 = {\"client_id\" : client_id,\n",
    "              \"client_secret\" : client_secret,\n",
    "              \"v\": \"20180323\",\n",
    "              \"ll\": coordenadas,\n",
    "              \"query\": \"school\",\n",
    "              \"limit\": 10,\n",
    "              \"radius\": 500\n",
    "             }\n",
    "response6 = requests.get(url,params=params6).json() "
   ]
  },
  {
   "cell_type": "code",
   "execution_count": 69,
   "id": "538cf780",
   "metadata": {},
   "outputs": [],
   "source": [
    "data6 = response6.get(\"response\")\n",
    "decode6 = data6.get(\"groups\")[0] \n",
    "escuela = decode6.get(\"items\")"
   ]
  },
  {
   "cell_type": "code",
   "execution_count": 70,
   "id": "e347ea7e",
   "metadata": {},
   "outputs": [],
   "source": [
    "#Extración de los datos\n",
    "escuelas = []\n",
    "for dic in escuela:\n",
    "    lista = {}\n",
    "    lista[\"nombre\"] = getFromDict(dic, mapa_nombre)\n",
    "    lista[\"latitud\"] = getFromDict(dic, mapa_latitud)\n",
    "    lista[\"longitud\"] = getFromDict(dic, mapa_longitud)\n",
    "    escuelas.append(lista)"
   ]
  },
  {
   "cell_type": "code",
   "execution_count": 71,
   "id": "862f8e81",
   "metadata": {},
   "outputs": [
    {
     "data": {
      "text/html": [
       "<div>\n",
       "<style scoped>\n",
       "    .dataframe tbody tr th:only-of-type {\n",
       "        vertical-align: middle;\n",
       "    }\n",
       "\n",
       "    .dataframe tbody tr th {\n",
       "        vertical-align: top;\n",
       "    }\n",
       "\n",
       "    .dataframe thead th {\n",
       "        text-align: right;\n",
       "    }\n",
       "</style>\n",
       "<table border=\"1\" class=\"dataframe\">\n",
       "  <thead>\n",
       "    <tr style=\"text-align: right;\">\n",
       "      <th></th>\n",
       "      <th>nombre</th>\n",
       "      <th>latitud</th>\n",
       "      <th>longitud</th>\n",
       "    </tr>\n",
       "  </thead>\n",
       "  <tbody>\n",
       "    <tr>\n",
       "      <th>0</th>\n",
       "      <td>Gakko</td>\n",
       "      <td>40.718422</td>\n",
       "      <td>-73.999969</td>\n",
       "    </tr>\n",
       "    <tr>\n",
       "      <th>1</th>\n",
       "      <td>FasTracKids</td>\n",
       "      <td>40.718364</td>\n",
       "      <td>-73.998949</td>\n",
       "    </tr>\n",
       "    <tr>\n",
       "      <th>2</th>\n",
       "      <td>MUJI 無印良品 (MUJI)</td>\n",
       "      <td>40.720709</td>\n",
       "      <td>-74.001015</td>\n",
       "    </tr>\n",
       "    <tr>\n",
       "      <th>3</th>\n",
       "      <td>New York Chinese School</td>\n",
       "      <td>40.716122</td>\n",
       "      <td>-73.998162</td>\n",
       "    </tr>\n",
       "    <tr>\n",
       "      <th>4</th>\n",
       "      <td>District 2 Pre-K Center</td>\n",
       "      <td>40.713982</td>\n",
       "      <td>-74.004059</td>\n",
       "    </tr>\n",
       "    <tr>\n",
       "      <th>5</th>\n",
       "      <td>PS 130</td>\n",
       "      <td>40.718857</td>\n",
       "      <td>-73.998581</td>\n",
       "    </tr>\n",
       "    <tr>\n",
       "      <th>6</th>\n",
       "      <td>Fine Jewelry School</td>\n",
       "      <td>40.715104</td>\n",
       "      <td>-74.006350</td>\n",
       "    </tr>\n",
       "    <tr>\n",
       "      <th>7</th>\n",
       "      <td>Greater Chinatown Community Association</td>\n",
       "      <td>40.714463</td>\n",
       "      <td>-73.999347</td>\n",
       "    </tr>\n",
       "    <tr>\n",
       "      <th>8</th>\n",
       "      <td>Cooking by the Book</td>\n",
       "      <td>40.717877</td>\n",
       "      <td>-74.007876</td>\n",
       "    </tr>\n",
       "    <tr>\n",
       "      <th>9</th>\n",
       "      <td>Reade Street Prep</td>\n",
       "      <td>40.715966</td>\n",
       "      <td>-74.008306</td>\n",
       "    </tr>\n",
       "  </tbody>\n",
       "</table>\n",
       "</div>"
      ],
      "text/plain": [
       "                                    nombre    latitud   longitud\n",
       "0                                    Gakko  40.718422 -73.999969\n",
       "1                              FasTracKids  40.718364 -73.998949\n",
       "2                         MUJI 無印良品 (MUJI)  40.720709 -74.001015\n",
       "3                  New York Chinese School  40.716122 -73.998162\n",
       "4                  District 2 Pre-K Center  40.713982 -74.004059\n",
       "5                                   PS 130  40.718857 -73.998581\n",
       "6                      Fine Jewelry School  40.715104 -74.006350\n",
       "7  Greater Chinatown Community Association  40.714463 -73.999347\n",
       "8                      Cooking by the Book  40.717877 -74.007876\n",
       "9                        Reade Street Prep  40.715966 -74.008306"
      ]
     },
     "execution_count": 71,
     "metadata": {},
     "output_type": "execute_result"
    }
   ],
   "source": [
    "#Creación del DataFrame\n",
    "df_escuelas = pd.DataFrame(escuelas)\n",
    "df_escuelas"
   ]
  },
  {
   "cell_type": "code",
   "execution_count": 72,
   "id": "5c8ee57c",
   "metadata": {},
   "outputs": [
    {
     "data": {
      "text/html": [
       "<div>\n",
       "<style scoped>\n",
       "    .dataframe tbody tr th:only-of-type {\n",
       "        vertical-align: middle;\n",
       "    }\n",
       "\n",
       "    .dataframe tbody tr th {\n",
       "        vertical-align: top;\n",
       "    }\n",
       "\n",
       "    .dataframe thead th {\n",
       "        text-align: right;\n",
       "    }\n",
       "</style>\n",
       "<table border=\"1\" class=\"dataframe\">\n",
       "  <thead>\n",
       "    <tr style=\"text-align: right;\">\n",
       "      <th></th>\n",
       "      <th>nombre</th>\n",
       "      <th>latitud</th>\n",
       "      <th>longitud</th>\n",
       "      <th>geometry</th>\n",
       "    </tr>\n",
       "  </thead>\n",
       "  <tbody>\n",
       "    <tr>\n",
       "      <th>0</th>\n",
       "      <td>Gakko</td>\n",
       "      <td>40.718422</td>\n",
       "      <td>-73.999969</td>\n",
       "      <td>POINT (-73.99997 40.71842)</td>\n",
       "    </tr>\n",
       "    <tr>\n",
       "      <th>1</th>\n",
       "      <td>FasTracKids</td>\n",
       "      <td>40.718364</td>\n",
       "      <td>-73.998949</td>\n",
       "      <td>POINT (-73.99895 40.71836)</td>\n",
       "    </tr>\n",
       "    <tr>\n",
       "      <th>2</th>\n",
       "      <td>MUJI 無印良品 (MUJI)</td>\n",
       "      <td>40.720709</td>\n",
       "      <td>-74.001015</td>\n",
       "      <td>POINT (-74.00101 40.72071)</td>\n",
       "    </tr>\n",
       "    <tr>\n",
       "      <th>3</th>\n",
       "      <td>New York Chinese School</td>\n",
       "      <td>40.716122</td>\n",
       "      <td>-73.998162</td>\n",
       "      <td>POINT (-73.99816 40.71612)</td>\n",
       "    </tr>\n",
       "    <tr>\n",
       "      <th>4</th>\n",
       "      <td>District 2 Pre-K Center</td>\n",
       "      <td>40.713982</td>\n",
       "      <td>-74.004059</td>\n",
       "      <td>POINT (-74.00406 40.71398)</td>\n",
       "    </tr>\n",
       "    <tr>\n",
       "      <th>5</th>\n",
       "      <td>PS 130</td>\n",
       "      <td>40.718857</td>\n",
       "      <td>-73.998581</td>\n",
       "      <td>POINT (-73.99858 40.71886)</td>\n",
       "    </tr>\n",
       "    <tr>\n",
       "      <th>6</th>\n",
       "      <td>Fine Jewelry School</td>\n",
       "      <td>40.715104</td>\n",
       "      <td>-74.006350</td>\n",
       "      <td>POINT (-74.00635 40.71510)</td>\n",
       "    </tr>\n",
       "    <tr>\n",
       "      <th>7</th>\n",
       "      <td>Greater Chinatown Community Association</td>\n",
       "      <td>40.714463</td>\n",
       "      <td>-73.999347</td>\n",
       "      <td>POINT (-73.99935 40.71446)</td>\n",
       "    </tr>\n",
       "    <tr>\n",
       "      <th>8</th>\n",
       "      <td>Cooking by the Book</td>\n",
       "      <td>40.717877</td>\n",
       "      <td>-74.007876</td>\n",
       "      <td>POINT (-74.00788 40.71788)</td>\n",
       "    </tr>\n",
       "    <tr>\n",
       "      <th>9</th>\n",
       "      <td>Reade Street Prep</td>\n",
       "      <td>40.715966</td>\n",
       "      <td>-74.008306</td>\n",
       "      <td>POINT (-74.00831 40.71597)</td>\n",
       "    </tr>\n",
       "  </tbody>\n",
       "</table>\n",
       "</div>"
      ],
      "text/plain": [
       "                                    nombre    latitud   longitud  \\\n",
       "0                                    Gakko  40.718422 -73.999969   \n",
       "1                              FasTracKids  40.718364 -73.998949   \n",
       "2                         MUJI 無印良品 (MUJI)  40.720709 -74.001015   \n",
       "3                  New York Chinese School  40.716122 -73.998162   \n",
       "4                  District 2 Pre-K Center  40.713982 -74.004059   \n",
       "5                                   PS 130  40.718857 -73.998581   \n",
       "6                      Fine Jewelry School  40.715104 -74.006350   \n",
       "7  Greater Chinatown Community Association  40.714463 -73.999347   \n",
       "8                      Cooking by the Book  40.717877 -74.007876   \n",
       "9                        Reade Street Prep  40.715966 -74.008306   \n",
       "\n",
       "                     geometry  \n",
       "0  POINT (-73.99997 40.71842)  \n",
       "1  POINT (-73.99895 40.71836)  \n",
       "2  POINT (-74.00101 40.72071)  \n",
       "3  POINT (-73.99816 40.71612)  \n",
       "4  POINT (-74.00406 40.71398)  \n",
       "5  POINT (-73.99858 40.71886)  \n",
       "6  POINT (-74.00635 40.71510)  \n",
       "7  POINT (-73.99935 40.71446)  \n",
       "8  POINT (-74.00788 40.71788)  \n",
       "9  POINT (-74.00831 40.71597)  "
      ]
     },
     "execution_count": 72,
     "metadata": {},
     "output_type": "execute_result"
    }
   ],
   "source": [
    "#Lo transformamos en GeoDataFrame\n",
    "gdf_escuelas = gpd.GeoDataFrame(df_escuelas, geometry = gpd.points_from_xy(df_escuelas.longitud, df_escuelas.latitud))\n",
    "gdf_escuelas"
   ]
  },
  {
   "cell_type": "code",
   "execution_count": 73,
   "id": "75b80a31",
   "metadata": {},
   "outputs": [],
   "source": [
    "#Map(Layer(gdf_escuelas,\"color:orange\",popup_hover = [popup_element(\"nombre\", \"Escuelas\")]))"
   ]
  },
  {
   "cell_type": "markdown",
   "id": "853bd53d",
   "metadata": {},
   "source": [
    "🔴  **¿Cual será el más cercano?** "
   ]
  },
  {
   "cell_type": "code",
   "execution_count": 74,
   "id": "e2e7c9e2",
   "metadata": {},
   "outputs": [
    {
     "name": "stderr",
     "output_type": "stream",
     "text": [
      "/usr/local/Caskroom/miniconda/base/lib/python3.8/site-packages/geopandas/geodataframe.py:1321: UserWarning: Geometry column does not contain geometry.\n",
      "  warnings.warn(\"Geometry column does not contain geometry.\")\n"
     ]
    },
    {
     "data": {
      "text/html": [
       "<div>\n",
       "<style scoped>\n",
       "    .dataframe tbody tr th:only-of-type {\n",
       "        vertical-align: middle;\n",
       "    }\n",
       "\n",
       "    .dataframe tbody tr th {\n",
       "        vertical-align: top;\n",
       "    }\n",
       "\n",
       "    .dataframe thead th {\n",
       "        text-align: right;\n",
       "    }\n",
       "</style>\n",
       "<table border=\"1\" class=\"dataframe\">\n",
       "  <thead>\n",
       "    <tr style=\"text-align: right;\">\n",
       "      <th></th>\n",
       "      <th>nombre</th>\n",
       "      <th>latitud</th>\n",
       "      <th>longitud</th>\n",
       "      <th>geometry</th>\n",
       "    </tr>\n",
       "  </thead>\n",
       "  <tbody>\n",
       "    <tr>\n",
       "      <th>0</th>\n",
       "      <td>Gakko</td>\n",
       "      <td>40.718422</td>\n",
       "      <td>-73.999969</td>\n",
       "      <td>{'type': 'Point', 'coordinates': (-73.99996948...</td>\n",
       "    </tr>\n",
       "    <tr>\n",
       "      <th>1</th>\n",
       "      <td>FasTracKids</td>\n",
       "      <td>40.718364</td>\n",
       "      <td>-73.998949</td>\n",
       "      <td>{'type': 'Point', 'coordinates': (-73.998949, ...</td>\n",
       "    </tr>\n",
       "    <tr>\n",
       "      <th>2</th>\n",
       "      <td>MUJI 無印良品 (MUJI)</td>\n",
       "      <td>40.720709</td>\n",
       "      <td>-74.001015</td>\n",
       "      <td>{'type': 'Point', 'coordinates': (-74.00101482...</td>\n",
       "    </tr>\n",
       "    <tr>\n",
       "      <th>3</th>\n",
       "      <td>New York Chinese School</td>\n",
       "      <td>40.716122</td>\n",
       "      <td>-73.998162</td>\n",
       "      <td>{'type': 'Point', 'coordinates': (-73.99816239...</td>\n",
       "    </tr>\n",
       "    <tr>\n",
       "      <th>4</th>\n",
       "      <td>District 2 Pre-K Center</td>\n",
       "      <td>40.713982</td>\n",
       "      <td>-74.004059</td>\n",
       "      <td>{'type': 'Point', 'coordinates': (-74.00405883...</td>\n",
       "    </tr>\n",
       "    <tr>\n",
       "      <th>5</th>\n",
       "      <td>PS 130</td>\n",
       "      <td>40.718857</td>\n",
       "      <td>-73.998581</td>\n",
       "      <td>{'type': 'Point', 'coordinates': (-73.99858131...</td>\n",
       "    </tr>\n",
       "    <tr>\n",
       "      <th>6</th>\n",
       "      <td>Fine Jewelry School</td>\n",
       "      <td>40.715104</td>\n",
       "      <td>-74.006350</td>\n",
       "      <td>{'type': 'Point', 'coordinates': (-74.00635, 4...</td>\n",
       "    </tr>\n",
       "    <tr>\n",
       "      <th>7</th>\n",
       "      <td>Greater Chinatown Community Association</td>\n",
       "      <td>40.714463</td>\n",
       "      <td>-73.999347</td>\n",
       "      <td>{'type': 'Point', 'coordinates': (-73.99934666...</td>\n",
       "    </tr>\n",
       "    <tr>\n",
       "      <th>8</th>\n",
       "      <td>Cooking by the Book</td>\n",
       "      <td>40.717877</td>\n",
       "      <td>-74.007876</td>\n",
       "      <td>{'type': 'Point', 'coordinates': (-74.00787643...</td>\n",
       "    </tr>\n",
       "    <tr>\n",
       "      <th>9</th>\n",
       "      <td>Reade Street Prep</td>\n",
       "      <td>40.715966</td>\n",
       "      <td>-74.008306</td>\n",
       "      <td>{'type': 'Point', 'coordinates': (-74.008306, ...</td>\n",
       "    </tr>\n",
       "  </tbody>\n",
       "</table>\n",
       "</div>"
      ],
      "text/plain": [
       "                                    nombre    latitud   longitud  \\\n",
       "0                                    Gakko  40.718422 -73.999969   \n",
       "1                              FasTracKids  40.718364 -73.998949   \n",
       "2                         MUJI 無印良品 (MUJI)  40.720709 -74.001015   \n",
       "3                  New York Chinese School  40.716122 -73.998162   \n",
       "4                  District 2 Pre-K Center  40.713982 -74.004059   \n",
       "5                                   PS 130  40.718857 -73.998581   \n",
       "6                      Fine Jewelry School  40.715104 -74.006350   \n",
       "7  Greater Chinatown Community Association  40.714463 -73.999347   \n",
       "8                      Cooking by the Book  40.717877 -74.007876   \n",
       "9                        Reade Street Prep  40.715966 -74.008306   \n",
       "\n",
       "                                            geometry  \n",
       "0  {'type': 'Point', 'coordinates': (-73.99996948...  \n",
       "1  {'type': 'Point', 'coordinates': (-73.998949, ...  \n",
       "2  {'type': 'Point', 'coordinates': (-74.00101482...  \n",
       "3  {'type': 'Point', 'coordinates': (-73.99816239...  \n",
       "4  {'type': 'Point', 'coordinates': (-74.00405883...  \n",
       "5  {'type': 'Point', 'coordinates': (-73.99858131...  \n",
       "6  {'type': 'Point', 'coordinates': (-74.00635, 4...  \n",
       "7  {'type': 'Point', 'coordinates': (-73.99934666...  \n",
       "8  {'type': 'Point', 'coordinates': (-74.00787643...  \n",
       "9  {'type': 'Point', 'coordinates': (-74.008306, ...  "
      ]
     },
     "execution_count": 74,
     "metadata": {},
     "output_type": "execute_result"
    }
   ],
   "source": [
    "gdf_escuelas['geometry'] = gdf_escuelas['geometry'].apply(lambda x:shapely.geometry.mapping(x))\n",
    "gdf_escuelas"
   ]
  },
  {
   "cell_type": "code",
   "execution_count": 75,
   "id": "8e20ac81",
   "metadata": {},
   "outputs": [
    {
     "data": {
      "text/plain": [
       "'geometry_2dsphere'"
      ]
     },
     "execution_count": 75,
     "metadata": {},
     "output_type": "execute_result"
    }
   ],
   "source": [
    "client = MongoClient()\n",
    "db = client[\"Ironhack-lab\"]\n",
    "collection66 = db.escuelas2\n",
    "collection66.create_index ([(\"geometry\", GEOSPHERE)])"
   ]
  },
  {
   "cell_type": "code",
   "execution_count": 76,
   "id": "47721394",
   "metadata": {},
   "outputs": [
    {
     "data": {
      "text/plain": [
       "<pymongo.results.InsertManyResult at 0x7fb8a8574800>"
      ]
     },
     "execution_count": 76,
     "metadata": {},
     "output_type": "execute_result"
    }
   ],
   "source": [
    "data66 = gdf_escuelas.to_dict(orient=\"records\")\n",
    "collection66.insert_many(data66)"
   ]
  },
  {
   "cell_type": "code",
   "execution_count": 77,
   "id": "22c59c5f",
   "metadata": {},
   "outputs": [
    {
     "data": {
      "text/plain": [
       "{'_id': ObjectId('60d9813c387729f83d1bea1d'),\n",
       " 'nombre': 'Greater Chinatown Community Association',\n",
       " 'latitud': 40.714463390466406,\n",
       " 'longitud': -73.99934666405763,\n",
       " 'geometry': {'type': 'Point',\n",
       "  'coordinates': [-73.99934666405763, 40.714463390466406]}}"
      ]
     },
     "execution_count": 77,
     "metadata": {},
     "output_type": "execute_result"
    }
   ],
   "source": [
    "cercano6 = db.escuelas2.find({\"geometry\":{\"$near\":{\"type\":\"Point\", \"coordinates\":[40.726155, -73.995625],\"$minDistance\": 500, \"$maxDistance\":300}}})\n",
    "list(cercano6)[0]"
   ]
  },
  {
   "cell_type": "code",
   "execution_count": 78,
   "id": "1c6d3407",
   "metadata": {},
   "outputs": [
    {
     "data": {
      "text/plain": [
       "0.41718855922859505"
      ]
     },
     "execution_count": 78,
     "metadata": {},
     "output_type": "execute_result"
    }
   ],
   "source": [
    "distancia(40.717248,-74.002662,40.714463390466406,-73.99934666405763)"
   ]
  },
  {
   "cell_type": "markdown",
   "id": "c700930a",
   "metadata": {},
   "source": [
    "✅ Resumen: El colegio más cercano se encuentra a 417 metros."
   ]
  },
  {
   "cell_type": "markdown",
   "id": "d28efdbc",
   "metadata": {},
   "source": [
    "## 4.7 Veterinario 🐾"
   ]
  },
  {
   "cell_type": "code",
   "execution_count": 79,
   "id": "4b6d40e6",
   "metadata": {},
   "outputs": [],
   "source": [
    "params7 = {\"client_id\" : client_id,\n",
    "              \"client_secret\" : client_secret,\n",
    "              \"v\": \"20180323\",\n",
    "              \"ll\": coordenadas,\n",
    "              \"query\": \"veterinary\",\n",
    "              \"limit\": 10,\n",
    "              \"radius\": 500\n",
    "             }\n",
    "response7 = requests.get(url,params=params7).json() "
   ]
  },
  {
   "cell_type": "code",
   "execution_count": 80,
   "id": "8294324a",
   "metadata": {},
   "outputs": [],
   "source": [
    "data7 = response7.get(\"response\")\n",
    "decode7 = data7.get(\"groups\")[0] \n",
    "vet = decode7.get(\"items\")"
   ]
  },
  {
   "cell_type": "code",
   "execution_count": 81,
   "id": "c8785fb2",
   "metadata": {},
   "outputs": [],
   "source": [
    "#Extración de los datos\n",
    "veterinario = []\n",
    "for dic in vet:\n",
    "    lista = {}\n",
    "    lista[\"nombre\"] = getFromDict(dic, mapa_nombre)\n",
    "    lista[\"latitud\"] = getFromDict(dic, mapa_latitud)\n",
    "    lista[\"longitud\"] = getFromDict(dic, mapa_longitud)\n",
    "    veterinario.append(lista)"
   ]
  },
  {
   "cell_type": "code",
   "execution_count": 82,
   "id": "e6335389",
   "metadata": {},
   "outputs": [
    {
     "data": {
      "text/html": [
       "<div>\n",
       "<style scoped>\n",
       "    .dataframe tbody tr th:only-of-type {\n",
       "        vertical-align: middle;\n",
       "    }\n",
       "\n",
       "    .dataframe tbody tr th {\n",
       "        vertical-align: top;\n",
       "    }\n",
       "\n",
       "    .dataframe thead th {\n",
       "        text-align: right;\n",
       "    }\n",
       "</style>\n",
       "<table border=\"1\" class=\"dataframe\">\n",
       "  <thead>\n",
       "    <tr style=\"text-align: right;\">\n",
       "      <th></th>\n",
       "      <th>nombre</th>\n",
       "      <th>latitud</th>\n",
       "      <th>longitud</th>\n",
       "    </tr>\n",
       "  </thead>\n",
       "  <tbody>\n",
       "    <tr>\n",
       "      <th>0</th>\n",
       "      <td>Worth Street Veterinary Center</td>\n",
       "      <td>40.716753</td>\n",
       "      <td>-74.005673</td>\n",
       "    </tr>\n",
       "    <tr>\n",
       "      <th>1</th>\n",
       "      <td>PetCallVetNYC-Veterinary House Call Service</td>\n",
       "      <td>40.716999</td>\n",
       "      <td>-74.005836</td>\n",
       "    </tr>\n",
       "  </tbody>\n",
       "</table>\n",
       "</div>"
      ],
      "text/plain": [
       "                                        nombre    latitud   longitud\n",
       "0               Worth Street Veterinary Center  40.716753 -74.005673\n",
       "1  PetCallVetNYC-Veterinary House Call Service  40.716999 -74.005836"
      ]
     },
     "execution_count": 82,
     "metadata": {},
     "output_type": "execute_result"
    }
   ],
   "source": [
    "#Creación del DataFrame\n",
    "df_veterinario = pd.DataFrame(veterinario)\n",
    "df_veterinario"
   ]
  },
  {
   "cell_type": "code",
   "execution_count": 83,
   "id": "acc6cd09",
   "metadata": {},
   "outputs": [
    {
     "data": {
      "text/html": [
       "<div>\n",
       "<style scoped>\n",
       "    .dataframe tbody tr th:only-of-type {\n",
       "        vertical-align: middle;\n",
       "    }\n",
       "\n",
       "    .dataframe tbody tr th {\n",
       "        vertical-align: top;\n",
       "    }\n",
       "\n",
       "    .dataframe thead th {\n",
       "        text-align: right;\n",
       "    }\n",
       "</style>\n",
       "<table border=\"1\" class=\"dataframe\">\n",
       "  <thead>\n",
       "    <tr style=\"text-align: right;\">\n",
       "      <th></th>\n",
       "      <th>nombre</th>\n",
       "      <th>latitud</th>\n",
       "      <th>longitud</th>\n",
       "      <th>geometry</th>\n",
       "    </tr>\n",
       "  </thead>\n",
       "  <tbody>\n",
       "    <tr>\n",
       "      <th>0</th>\n",
       "      <td>Worth Street Veterinary Center</td>\n",
       "      <td>40.716753</td>\n",
       "      <td>-74.005673</td>\n",
       "      <td>POINT (-74.00567 40.71675)</td>\n",
       "    </tr>\n",
       "    <tr>\n",
       "      <th>1</th>\n",
       "      <td>PetCallVetNYC-Veterinary House Call Service</td>\n",
       "      <td>40.716999</td>\n",
       "      <td>-74.005836</td>\n",
       "      <td>POINT (-74.00584 40.71700)</td>\n",
       "    </tr>\n",
       "  </tbody>\n",
       "</table>\n",
       "</div>"
      ],
      "text/plain": [
       "                                        nombre    latitud   longitud  \\\n",
       "0               Worth Street Veterinary Center  40.716753 -74.005673   \n",
       "1  PetCallVetNYC-Veterinary House Call Service  40.716999 -74.005836   \n",
       "\n",
       "                     geometry  \n",
       "0  POINT (-74.00567 40.71675)  \n",
       "1  POINT (-74.00584 40.71700)  "
      ]
     },
     "execution_count": 83,
     "metadata": {},
     "output_type": "execute_result"
    }
   ],
   "source": [
    "#Lo transformamos en GeoDataFrame\n",
    "gdf_veterinario = gpd.GeoDataFrame(df_veterinario, geometry = gpd.points_from_xy(df_veterinario.longitud, df_veterinario.latitud))\n",
    "gdf_veterinario"
   ]
  },
  {
   "cell_type": "code",
   "execution_count": 84,
   "id": "26608dde",
   "metadata": {},
   "outputs": [],
   "source": [
    "#Map(Layer(gdf_veterinario,\"color:black\",popup_hover = [popup_element(\"nombre\", \"Veterinarios\")]))"
   ]
  },
  {
   "cell_type": "markdown",
   "id": "f9283f35",
   "metadata": {},
   "source": [
    "🔴  **Distancia en metros** "
   ]
  },
  {
   "cell_type": "code",
   "execution_count": 85,
   "id": "14b10c35",
   "metadata": {},
   "outputs": [
    {
     "name": "stderr",
     "output_type": "stream",
     "text": [
      "/usr/local/Caskroom/miniconda/base/lib/python3.8/site-packages/geopandas/geodataframe.py:1321: UserWarning: Geometry column does not contain geometry.\n",
      "  warnings.warn(\"Geometry column does not contain geometry.\")\n"
     ]
    },
    {
     "data": {
      "text/html": [
       "<div>\n",
       "<style scoped>\n",
       "    .dataframe tbody tr th:only-of-type {\n",
       "        vertical-align: middle;\n",
       "    }\n",
       "\n",
       "    .dataframe tbody tr th {\n",
       "        vertical-align: top;\n",
       "    }\n",
       "\n",
       "    .dataframe thead th {\n",
       "        text-align: right;\n",
       "    }\n",
       "</style>\n",
       "<table border=\"1\" class=\"dataframe\">\n",
       "  <thead>\n",
       "    <tr style=\"text-align: right;\">\n",
       "      <th></th>\n",
       "      <th>nombre</th>\n",
       "      <th>latitud</th>\n",
       "      <th>longitud</th>\n",
       "      <th>geometry</th>\n",
       "    </tr>\n",
       "  </thead>\n",
       "  <tbody>\n",
       "    <tr>\n",
       "      <th>0</th>\n",
       "      <td>Worth Street Veterinary Center</td>\n",
       "      <td>40.716753</td>\n",
       "      <td>-74.005673</td>\n",
       "      <td>{'type': 'Point', 'coordinates': (-74.00567276...</td>\n",
       "    </tr>\n",
       "    <tr>\n",
       "      <th>1</th>\n",
       "      <td>PetCallVetNYC-Veterinary House Call Service</td>\n",
       "      <td>40.716999</td>\n",
       "      <td>-74.005836</td>\n",
       "      <td>{'type': 'Point', 'coordinates': (-74.00583648...</td>\n",
       "    </tr>\n",
       "  </tbody>\n",
       "</table>\n",
       "</div>"
      ],
      "text/plain": [
       "                                        nombre    latitud   longitud  \\\n",
       "0               Worth Street Veterinary Center  40.716753 -74.005673   \n",
       "1  PetCallVetNYC-Veterinary House Call Service  40.716999 -74.005836   \n",
       "\n",
       "                                            geometry  \n",
       "0  {'type': 'Point', 'coordinates': (-74.00567276...  \n",
       "1  {'type': 'Point', 'coordinates': (-74.00583648...  "
      ]
     },
     "execution_count": 85,
     "metadata": {},
     "output_type": "execute_result"
    }
   ],
   "source": [
    "gdf_veterinario['geometry'] = gdf_veterinario['geometry'].apply(lambda x:shapely.geometry.mapping(x))\n",
    "gdf_veterinario"
   ]
  },
  {
   "cell_type": "code",
   "execution_count": 86,
   "id": "ecceae8a",
   "metadata": {},
   "outputs": [
    {
     "data": {
      "text/plain": [
       "'geometry_2dsphere'"
      ]
     },
     "execution_count": 86,
     "metadata": {},
     "output_type": "execute_result"
    }
   ],
   "source": [
    "client = MongoClient()\n",
    "db = client[\"Ironhack-lab\"]\n",
    "collection77 = db.veterinario2\n",
    "collection77.create_index ([(\"geometry\", GEOSPHERE)])"
   ]
  },
  {
   "cell_type": "code",
   "execution_count": 87,
   "id": "c33f9c25",
   "metadata": {},
   "outputs": [
    {
     "data": {
      "text/plain": [
       "<pymongo.results.InsertManyResult at 0x7fb8a85778c0>"
      ]
     },
     "execution_count": 87,
     "metadata": {},
     "output_type": "execute_result"
    }
   ],
   "source": [
    "data77 = gdf_veterinario.to_dict(orient=\"records\")\n",
    "collection77.insert_many(data77)"
   ]
  },
  {
   "cell_type": "code",
   "execution_count": 88,
   "id": "4b2fc89c",
   "metadata": {},
   "outputs": [
    {
     "data": {
      "text/plain": [
       "{'_id': ObjectId('60d98159387729f83d1bea21'),\n",
       " 'nombre': 'Worth Street Veterinary Center',\n",
       " 'latitud': 40.71675266718981,\n",
       " 'longitud': -74.0056727692407,\n",
       " 'geometry': {'type': 'Point',\n",
       "  'coordinates': [-74.0056727692407, 40.71675266718981]}}"
      ]
     },
     "execution_count": 88,
     "metadata": {},
     "output_type": "execute_result"
    }
   ],
   "source": [
    "cercano7 = db.veterinario2.find({\"geometry\":{\"$near\":{\"type\":\"Point\", \"coordinates\":[40.726155, -73.995625],\"$minDistance\": 500, \"$maxDistance\":300}}})\n",
    "list(cercano7)[0]"
   ]
  },
  {
   "cell_type": "code",
   "execution_count": 89,
   "id": "e2e521f8",
   "metadata": {},
   "outputs": [
    {
     "data": {
      "text/plain": [
       "0.2597272505358649"
      ]
     },
     "execution_count": 89,
     "metadata": {},
     "output_type": "execute_result"
    }
   ],
   "source": [
    "distancia(40.717248,-74.002662,40.71675266718981,-74.0056727692407)"
   ]
  },
  {
   "cell_type": "markdown",
   "id": "05da1beb",
   "metadata": {},
   "source": [
    "✅ Resumen: El veterinario más cercano se encuentra a 259 metros."
   ]
  }
 ],
 "metadata": {
  "kernelspec": {
   "display_name": "OLAYA1",
   "language": "python",
   "name": "olaya1"
  },
  "language_info": {
   "codemirror_mode": {
    "name": "ipython",
    "version": 3
   },
   "file_extension": ".py",
   "mimetype": "text/x-python",
   "name": "python",
   "nbconvert_exporter": "python",
   "pygments_lexer": "ipython3",
   "version": "3.8.5"
  }
 },
 "nbformat": 4,
 "nbformat_minor": 5
}
