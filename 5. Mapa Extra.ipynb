{
 "cells": [
  {
   "cell_type": "markdown",
   "id": "9ef90dec",
   "metadata": {},
   "source": [
    "# Extra.Visualización del mapa 🗺️"
   ]
  },
  {
   "cell_type": "markdown",
   "id": "5477bd87",
   "metadata": {},
   "source": [
    "En este jupyter notebook se encuentra todo el proceso de visualización del mapa tras el estudio de las variables y coordenadas **para la empresa Boonty**."
   ]
  },
  {
   "cell_type": "markdown",
   "id": "c2e634e6",
   "metadata": {},
   "source": [
    "## Índice 📎"
   ]
  },
  {
   "cell_type": "markdown",
   "id": "ad49f3ab",
   "metadata": {},
   "source": [
    "1. Importación de librerias y funciones\n",
    "2. Coordenadas de Nueva York\n",
    "3. Ubicaciones de las variables\n",
    "4. Representación\n",
    "5. Mapa final"
   ]
  },
  {
   "cell_type": "markdown",
   "id": "a058593f",
   "metadata": {},
   "source": [
    "## 1. Importación de librerías y funciones 📚"
   ]
  },
  {
   "cell_type": "code",
   "execution_count": 1,
   "id": "0b8e07fd",
   "metadata": {},
   "outputs": [],
   "source": [
    "import folium\n",
    "from folium import Choropleth, Circle, Marker, Icon, Map"
   ]
  },
  {
   "cell_type": "markdown",
   "id": "1d2594df",
   "metadata": {},
   "source": [
    "## 2. Coordenadas de Nueva York 🗽"
   ]
  },
  {
   "cell_type": "code",
   "execution_count": 2,
   "id": "c18e7e11",
   "metadata": {},
   "outputs": [],
   "source": [
    "ny_lat = 40.7724386956522"
   ]
  },
  {
   "cell_type": "code",
   "execution_count": 3,
   "id": "84ac5b60",
   "metadata": {},
   "outputs": [],
   "source": [
    "ny_lon = -73.95861"
   ]
  },
  {
   "cell_type": "markdown",
   "id": "dff880d4",
   "metadata": {},
   "source": [
    "Creamos el mapa:"
   ]
  },
  {
   "cell_type": "code",
   "execution_count": 4,
   "id": "bfed40d4",
   "metadata": {},
   "outputs": [],
   "source": [
    "mapa2 = folium.Map(location = [ny_lat, ny_lon], zoom_start = 15)\n",
    "#mapa2"
   ]
  },
  {
   "cell_type": "markdown",
   "id": "cbb84d15",
   "metadata": {},
   "source": [
    "## 3. Ubicaciones de las variables 📍"
   ]
  },
  {
   "cell_type": "markdown",
   "id": "402fe05f",
   "metadata": {},
   "source": [
    "- Oficinas Boonty"
   ]
  },
  {
   "cell_type": "code",
   "execution_count": 5,
   "id": "3a1d22d3",
   "metadata": {},
   "outputs": [],
   "source": [
    "of_lat = 40.717248\n",
    "of_lon = -74.002662"
   ]
  },
  {
   "cell_type": "markdown",
   "id": "06c8efbb",
   "metadata": {},
   "source": [
    "- Aeropuerto"
   ]
  },
  {
   "cell_type": "code",
   "execution_count": 6,
   "id": "ea467359",
   "metadata": {},
   "outputs": [],
   "source": [
    "air_lat = 40.69371727\n",
    "air_lon = -73.96025"
   ]
  },
  {
   "cell_type": "markdown",
   "id": "ba179198",
   "metadata": {},
   "source": [
    "- Discotecas"
   ]
  },
  {
   "cell_type": "code",
   "execution_count": 7,
   "id": "c4768a1d",
   "metadata": {},
   "outputs": [],
   "source": [
    "dis_lat = 40.71924234753701\n",
    "dis_lon = -74.00006632090165"
   ]
  },
  {
   "cell_type": "markdown",
   "id": "1c841d1f",
   "metadata": {},
   "source": [
    "- Starbucks"
   ]
  },
  {
   "cell_type": "code",
   "execution_count": 8,
   "id": "85b8e64a",
   "metadata": {},
   "outputs": [],
   "source": [
    "star_lat = 40.714855\n",
    "star_lon = -74.005936"
   ]
  },
  {
   "cell_type": "markdown",
   "id": "ff329b4b",
   "metadata": {},
   "source": [
    "- Restaurantes veganos"
   ]
  },
  {
   "cell_type": "code",
   "execution_count": 9,
   "id": "fdc39cfa",
   "metadata": {},
   "outputs": [],
   "source": [
    "veg_lat = 40.71489232862965\n",
    "veg_lon = -73.99832147855244"
   ]
  },
  {
   "cell_type": "markdown",
   "id": "11aac1c7",
   "metadata": {},
   "source": [
    "- Estación de autobuses"
   ]
  },
  {
   "cell_type": "code",
   "execution_count": 10,
   "id": "28e93360",
   "metadata": {},
   "outputs": [],
   "source": [
    "bus_lat = 40.713896000000005\n",
    "bus_lon = -73.999188"
   ]
  },
  {
   "cell_type": "markdown",
   "id": "c3344704",
   "metadata": {},
   "source": [
    "- Colegios"
   ]
  },
  {
   "cell_type": "code",
   "execution_count": 11,
   "id": "5f36721e",
   "metadata": {},
   "outputs": [],
   "source": [
    "esc_lat = 40.714463390466406\n",
    "esc_lon = -73.99934666405763"
   ]
  },
  {
   "cell_type": "markdown",
   "id": "a12a8246",
   "metadata": {},
   "source": [
    "- Veterinario"
   ]
  },
  {
   "cell_type": "code",
   "execution_count": 12,
   "id": "64c31299",
   "metadata": {},
   "outputs": [],
   "source": [
    "vet_lat = 40.71675266718981\n",
    "vet_lon = -74.0056727692407"
   ]
  },
  {
   "cell_type": "markdown",
   "id": "d8ad8d42",
   "metadata": {},
   "source": [
    "## 4. Representación 👁️"
   ]
  },
  {
   "cell_type": "code",
   "execution_count": 14,
   "id": "c90fb3f5",
   "metadata": {},
   "outputs": [
    {
     "data": {
      "text/plain": [
       "<folium.map.Marker at 0x7fc4908818e0>"
      ]
     },
     "execution_count": 14,
     "metadata": {},
     "output_type": "execute_result"
    }
   ],
   "source": [
    "#oficinas\n",
    "oficina = Icon(color = \"red\",\n",
    "             prefix = \"fa\",\n",
    "             icon = \"building\",\n",
    "             icon_color = \"white\",\n",
    ")\n",
    "loc = {\"location\":[of_lat,of_lon],\n",
    "      \"tooltip\": \"Boonty\"}\n",
    "\n",
    "marker_of = Marker(**loc, icon = oficina)\n",
    "marker_of.add_to(mapa2)\n",
    "\n",
    "\n",
    "#aeropuerto\n",
    "aeropuerto = Icon(color = \"blue\",\n",
    "             prefix = \"fa\",\n",
    "             icon = \"plane\",\n",
    "             icon_color = \"white\",\n",
    ")\n",
    "loc = {\"location\":[air_lat,air_lon],\n",
    "      \"tooltip\": \"Aeropuerto. Bell Call Service\"}\n",
    "\n",
    "marker_air = Marker(**loc, icon = aeropuerto)\n",
    "marker_air.add_to(mapa2)\n",
    "\n",
    "\n",
    "#discoteca\n",
    "discoteca = Icon(color = \"pink\",\n",
    "             prefix = \"fa\",\n",
    "             icon = \"beer\",\n",
    "             icon_color = \"white\",\n",
    ")\n",
    "loc = {\"location\":[dis_lat,dis_lon],\n",
    "      \"tooltip\": \"Dicoteca\"}\n",
    "\n",
    "marker_dis = Marker(**loc, icon = discoteca)\n",
    "marker_dis.add_to(mapa2)\n",
    "\n",
    "\n",
    "#starbucks\n",
    "starbucks = Icon(color = \"darkgreen\",\n",
    "             prefix = \"fa\",\n",
    "             icon = \"coffee\",\n",
    "             icon_color = \"white\",\n",
    ")\n",
    "loc = {\"location\":[star_lat,star_lon],\n",
    "      \"tooltip\": \"Starbucks\"}\n",
    "\n",
    "marker_star = Marker(**loc, icon = starbucks)\n",
    "marker_star.add_to(mapa2)\n",
    "\n",
    "\n",
    "#restaurante vegano\n",
    "resvegano = Icon(color = \"green\",\n",
    "             prefix = \"fa\",\n",
    "             icon = \"apple\",\n",
    "             icon_color = \"white\",\n",
    ")\n",
    "loc = {\"location\":[veg_lat,veg_lon],\n",
    "      \"tooltip\": \"Restaurante Vegano\"}\n",
    "\n",
    "marker_veg = Marker(**loc, icon = resvegano)\n",
    "marker_veg.add_to(mapa2)\n",
    "\n",
    "\n",
    "#estacion de autobuses\n",
    "bus = Icon(color = \"purple\",\n",
    "             prefix = \"fa\",\n",
    "             icon = \"bus\",\n",
    "             icon_color = \"white\",\n",
    ")\n",
    "loc = {\"location\":[bus_lat,bus_lon],\n",
    "      \"tooltip\": \"Estación de autobuses\"}\n",
    "\n",
    "marker_bus = Marker(**loc, icon = bus)\n",
    "marker_bus.add_to(mapa2)\n",
    "\n",
    "\n",
    "#escuela\n",
    "escuela = Icon(color = \"orange\",\n",
    "             prefix = \"fa\",\n",
    "             icon = \"graduation-cap\",\n",
    "             icon_color = \"white\",\n",
    ")\n",
    "loc = {\"location\":[esc_lat,esc_lon],\n",
    "      \"tooltip\": \"Colegios\"}\n",
    "\n",
    "marker_esc = Marker(**loc, icon = escuela)\n",
    "marker_esc.add_to(mapa2)\n",
    "\n",
    "#veterinario\n",
    "veterinario = Icon(color = \"black\",\n",
    "             prefix = \"fa\",\n",
    "             icon = \"paw\",\n",
    "             icon_color = \"white\",\n",
    ")\n",
    "loc = {\"location\":[vet_lat,vet_lon],\n",
    "      \"tooltip\": \"Veterinario\"}\n",
    "\n",
    "marker_vet = Marker(**loc, icon = veterinario)\n",
    "marker_vet.add_to(mapa2)"
   ]
  },
  {
   "cell_type": "markdown",
   "id": "560232d3",
   "metadata": {},
   "source": [
    "## Mapa Final 🤩"
   ]
  },
  {
   "cell_type": "code",
   "execution_count": 15,
   "id": "5cf372ea",
   "metadata": {},
   "outputs": [
    {
     "data": {
      "text/html": [
       "<div style=\"width:100%;\"><div style=\"position:relative;width:100%;height:0;padding-bottom:60%;\"><span style=\"color:#565656\">Make this Notebook Trusted to load map: File -> Trust Notebook</span><iframe src=\"about:blank\" style=\"position:absolute;width:100%;height:100%;left:0;top:0;border:none !important;\" data-html=%3C%21DOCTYPE%20html%3E%0A%3Chead%3E%20%20%20%20%0A%20%20%20%20%3Cmeta%20http-equiv%3D%22content-type%22%20content%3D%22text/html%3B%20charset%3DUTF-8%22%20/%3E%0A%20%20%20%20%0A%20%20%20%20%20%20%20%20%3Cscript%3E%0A%20%20%20%20%20%20%20%20%20%20%20%20L_NO_TOUCH%20%3D%20false%3B%0A%20%20%20%20%20%20%20%20%20%20%20%20L_DISABLE_3D%20%3D%20false%3B%0A%20%20%20%20%20%20%20%20%3C/script%3E%0A%20%20%20%20%0A%20%20%20%20%3Cstyle%3Ehtml%2C%20body%20%7Bwidth%3A%20100%25%3Bheight%3A%20100%25%3Bmargin%3A%200%3Bpadding%3A%200%3B%7D%3C/style%3E%0A%20%20%20%20%3Cstyle%3E%23map%20%7Bposition%3Aabsolute%3Btop%3A0%3Bbottom%3A0%3Bright%3A0%3Bleft%3A0%3B%7D%3C/style%3E%0A%20%20%20%20%3Cscript%20src%3D%22https%3A//cdn.jsdelivr.net/npm/leaflet%401.6.0/dist/leaflet.js%22%3E%3C/script%3E%0A%20%20%20%20%3Cscript%20src%3D%22https%3A//code.jquery.com/jquery-1.12.4.min.js%22%3E%3C/script%3E%0A%20%20%20%20%3Cscript%20src%3D%22https%3A//maxcdn.bootstrapcdn.com/bootstrap/3.2.0/js/bootstrap.min.js%22%3E%3C/script%3E%0A%20%20%20%20%3Cscript%20src%3D%22https%3A//cdnjs.cloudflare.com/ajax/libs/Leaflet.awesome-markers/2.0.2/leaflet.awesome-markers.js%22%3E%3C/script%3E%0A%20%20%20%20%3Clink%20rel%3D%22stylesheet%22%20href%3D%22https%3A//cdn.jsdelivr.net/npm/leaflet%401.6.0/dist/leaflet.css%22/%3E%0A%20%20%20%20%3Clink%20rel%3D%22stylesheet%22%20href%3D%22https%3A//maxcdn.bootstrapcdn.com/bootstrap/3.2.0/css/bootstrap.min.css%22/%3E%0A%20%20%20%20%3Clink%20rel%3D%22stylesheet%22%20href%3D%22https%3A//maxcdn.bootstrapcdn.com/bootstrap/3.2.0/css/bootstrap-theme.min.css%22/%3E%0A%20%20%20%20%3Clink%20rel%3D%22stylesheet%22%20href%3D%22https%3A//maxcdn.bootstrapcdn.com/font-awesome/4.6.3/css/font-awesome.min.css%22/%3E%0A%20%20%20%20%3Clink%20rel%3D%22stylesheet%22%20href%3D%22https%3A//cdnjs.cloudflare.com/ajax/libs/Leaflet.awesome-markers/2.0.2/leaflet.awesome-markers.css%22/%3E%0A%20%20%20%20%3Clink%20rel%3D%22stylesheet%22%20href%3D%22https%3A//cdn.jsdelivr.net/gh/python-visualization/folium/folium/templates/leaflet.awesome.rotate.min.css%22/%3E%0A%20%20%20%20%0A%20%20%20%20%20%20%20%20%20%20%20%20%3Cmeta%20name%3D%22viewport%22%20content%3D%22width%3Ddevice-width%2C%0A%20%20%20%20%20%20%20%20%20%20%20%20%20%20%20%20initial-scale%3D1.0%2C%20maximum-scale%3D1.0%2C%20user-scalable%3Dno%22%20/%3E%0A%20%20%20%20%20%20%20%20%20%20%20%20%3Cstyle%3E%0A%20%20%20%20%20%20%20%20%20%20%20%20%20%20%20%20%23map_f9e98a125f584584b44fe61a5905aae7%20%7B%0A%20%20%20%20%20%20%20%20%20%20%20%20%20%20%20%20%20%20%20%20position%3A%20relative%3B%0A%20%20%20%20%20%20%20%20%20%20%20%20%20%20%20%20%20%20%20%20width%3A%20100.0%25%3B%0A%20%20%20%20%20%20%20%20%20%20%20%20%20%20%20%20%20%20%20%20height%3A%20100.0%25%3B%0A%20%20%20%20%20%20%20%20%20%20%20%20%20%20%20%20%20%20%20%20left%3A%200.0%25%3B%0A%20%20%20%20%20%20%20%20%20%20%20%20%20%20%20%20%20%20%20%20top%3A%200.0%25%3B%0A%20%20%20%20%20%20%20%20%20%20%20%20%20%20%20%20%7D%0A%20%20%20%20%20%20%20%20%20%20%20%20%3C/style%3E%0A%20%20%20%20%20%20%20%20%0A%3C/head%3E%0A%3Cbody%3E%20%20%20%20%0A%20%20%20%20%0A%20%20%20%20%20%20%20%20%20%20%20%20%3Cdiv%20class%3D%22folium-map%22%20id%3D%22map_f9e98a125f584584b44fe61a5905aae7%22%20%3E%3C/div%3E%0A%20%20%20%20%20%20%20%20%0A%3C/body%3E%0A%3Cscript%3E%20%20%20%20%0A%20%20%20%20%0A%20%20%20%20%20%20%20%20%20%20%20%20var%20map_f9e98a125f584584b44fe61a5905aae7%20%3D%20L.map%28%0A%20%20%20%20%20%20%20%20%20%20%20%20%20%20%20%20%22map_f9e98a125f584584b44fe61a5905aae7%22%2C%0A%20%20%20%20%20%20%20%20%20%20%20%20%20%20%20%20%7B%0A%20%20%20%20%20%20%20%20%20%20%20%20%20%20%20%20%20%20%20%20center%3A%20%5B40.7724386956522%2C%20-73.95861%5D%2C%0A%20%20%20%20%20%20%20%20%20%20%20%20%20%20%20%20%20%20%20%20crs%3A%20L.CRS.EPSG3857%2C%0A%20%20%20%20%20%20%20%20%20%20%20%20%20%20%20%20%20%20%20%20zoom%3A%2015%2C%0A%20%20%20%20%20%20%20%20%20%20%20%20%20%20%20%20%20%20%20%20zoomControl%3A%20true%2C%0A%20%20%20%20%20%20%20%20%20%20%20%20%20%20%20%20%20%20%20%20preferCanvas%3A%20false%2C%0A%20%20%20%20%20%20%20%20%20%20%20%20%20%20%20%20%7D%0A%20%20%20%20%20%20%20%20%20%20%20%20%29%3B%0A%0A%20%20%20%20%20%20%20%20%20%20%20%20%0A%0A%20%20%20%20%20%20%20%20%0A%20%20%20%20%0A%20%20%20%20%20%20%20%20%20%20%20%20var%20tile_layer_8cc8654288db4b1197604cfb3aea1679%20%3D%20L.tileLayer%28%0A%20%20%20%20%20%20%20%20%20%20%20%20%20%20%20%20%22https%3A//%7Bs%7D.tile.openstreetmap.org/%7Bz%7D/%7Bx%7D/%7By%7D.png%22%2C%0A%20%20%20%20%20%20%20%20%20%20%20%20%20%20%20%20%7B%22attribution%22%3A%20%22Data%20by%20%5Cu0026copy%3B%20%5Cu003ca%20href%3D%5C%22http%3A//openstreetmap.org%5C%22%5Cu003eOpenStreetMap%5Cu003c/a%5Cu003e%2C%20under%20%5Cu003ca%20href%3D%5C%22http%3A//www.openstreetmap.org/copyright%5C%22%5Cu003eODbL%5Cu003c/a%5Cu003e.%22%2C%20%22detectRetina%22%3A%20false%2C%20%22maxNativeZoom%22%3A%2018%2C%20%22maxZoom%22%3A%2018%2C%20%22minZoom%22%3A%200%2C%20%22noWrap%22%3A%20false%2C%20%22opacity%22%3A%201%2C%20%22subdomains%22%3A%20%22abc%22%2C%20%22tms%22%3A%20false%7D%0A%20%20%20%20%20%20%20%20%20%20%20%20%29.addTo%28map_f9e98a125f584584b44fe61a5905aae7%29%3B%0A%20%20%20%20%20%20%20%20%0A%20%20%20%20%0A%20%20%20%20%20%20%20%20%20%20%20%20var%20marker_6c2509a80a394f0abfd31b7c9c554951%20%3D%20L.marker%28%0A%20%20%20%20%20%20%20%20%20%20%20%20%20%20%20%20%5B40.717248%2C%20-74.002662%5D%2C%0A%20%20%20%20%20%20%20%20%20%20%20%20%20%20%20%20%7B%7D%0A%20%20%20%20%20%20%20%20%20%20%20%20%29.addTo%28map_f9e98a125f584584b44fe61a5905aae7%29%3B%0A%20%20%20%20%20%20%20%20%0A%20%20%20%20%0A%20%20%20%20%20%20%20%20%20%20%20%20var%20icon_5533415f0a2b4af8a4720ac4e6367c20%20%3D%20L.AwesomeMarkers.icon%28%0A%20%20%20%20%20%20%20%20%20%20%20%20%20%20%20%20%7B%22extraClasses%22%3A%20%22fa-rotate-0%22%2C%20%22icon%22%3A%20%22building%22%2C%20%22iconColor%22%3A%20%22white%22%2C%20%22markerColor%22%3A%20%22red%22%2C%20%22prefix%22%3A%20%22fa%22%7D%0A%20%20%20%20%20%20%20%20%20%20%20%20%29%3B%0A%20%20%20%20%20%20%20%20%20%20%20%20marker_6c2509a80a394f0abfd31b7c9c554951.setIcon%28icon_5533415f0a2b4af8a4720ac4e6367c20%29%3B%0A%20%20%20%20%20%20%20%20%0A%20%20%20%20%0A%20%20%20%20%20%20%20%20%20%20%20%20marker_6c2509a80a394f0abfd31b7c9c554951.bindTooltip%28%0A%20%20%20%20%20%20%20%20%20%20%20%20%20%20%20%20%60%3Cdiv%3E%0A%20%20%20%20%20%20%20%20%20%20%20%20%20%20%20%20%20%20%20%20%20Boonty%0A%20%20%20%20%20%20%20%20%20%20%20%20%20%20%20%20%20%3C/div%3E%60%2C%0A%20%20%20%20%20%20%20%20%20%20%20%20%20%20%20%20%7B%22sticky%22%3A%20true%7D%0A%20%20%20%20%20%20%20%20%20%20%20%20%29%3B%0A%20%20%20%20%20%20%20%20%0A%20%20%20%20%0A%20%20%20%20%20%20%20%20%20%20%20%20var%20marker_2e4e3ebb212049c1bb14d35f0f905231%20%3D%20L.marker%28%0A%20%20%20%20%20%20%20%20%20%20%20%20%20%20%20%20%5B40.69371727%2C%20-73.96025%5D%2C%0A%20%20%20%20%20%20%20%20%20%20%20%20%20%20%20%20%7B%7D%0A%20%20%20%20%20%20%20%20%20%20%20%20%29.addTo%28map_f9e98a125f584584b44fe61a5905aae7%29%3B%0A%20%20%20%20%20%20%20%20%0A%20%20%20%20%0A%20%20%20%20%20%20%20%20%20%20%20%20var%20icon_e558e47c824b4a47a3911c32adfe7b92%20%3D%20L.AwesomeMarkers.icon%28%0A%20%20%20%20%20%20%20%20%20%20%20%20%20%20%20%20%7B%22extraClasses%22%3A%20%22fa-rotate-0%22%2C%20%22icon%22%3A%20%22plane%22%2C%20%22iconColor%22%3A%20%22white%22%2C%20%22markerColor%22%3A%20%22blue%22%2C%20%22prefix%22%3A%20%22fa%22%7D%0A%20%20%20%20%20%20%20%20%20%20%20%20%29%3B%0A%20%20%20%20%20%20%20%20%20%20%20%20marker_2e4e3ebb212049c1bb14d35f0f905231.setIcon%28icon_e558e47c824b4a47a3911c32adfe7b92%29%3B%0A%20%20%20%20%20%20%20%20%0A%20%20%20%20%0A%20%20%20%20%20%20%20%20%20%20%20%20marker_2e4e3ebb212049c1bb14d35f0f905231.bindTooltip%28%0A%20%20%20%20%20%20%20%20%20%20%20%20%20%20%20%20%60%3Cdiv%3E%0A%20%20%20%20%20%20%20%20%20%20%20%20%20%20%20%20%20%20%20%20%20Aeropuerto.%20Bell%20Call%20Service%0A%20%20%20%20%20%20%20%20%20%20%20%20%20%20%20%20%20%3C/div%3E%60%2C%0A%20%20%20%20%20%20%20%20%20%20%20%20%20%20%20%20%7B%22sticky%22%3A%20true%7D%0A%20%20%20%20%20%20%20%20%20%20%20%20%29%3B%0A%20%20%20%20%20%20%20%20%0A%20%20%20%20%0A%20%20%20%20%20%20%20%20%20%20%20%20var%20marker_3effd13b1bcd4329a6d5b9227c2bebfe%20%3D%20L.marker%28%0A%20%20%20%20%20%20%20%20%20%20%20%20%20%20%20%20%5B40.71924234753701%2C%20-74.00006632090165%5D%2C%0A%20%20%20%20%20%20%20%20%20%20%20%20%20%20%20%20%7B%7D%0A%20%20%20%20%20%20%20%20%20%20%20%20%29.addTo%28map_f9e98a125f584584b44fe61a5905aae7%29%3B%0A%20%20%20%20%20%20%20%20%0A%20%20%20%20%0A%20%20%20%20%20%20%20%20%20%20%20%20var%20icon_e45b7e7417784d53b9f921290356bcb6%20%3D%20L.AwesomeMarkers.icon%28%0A%20%20%20%20%20%20%20%20%20%20%20%20%20%20%20%20%7B%22extraClasses%22%3A%20%22fa-rotate-0%22%2C%20%22icon%22%3A%20%22beer%22%2C%20%22iconColor%22%3A%20%22white%22%2C%20%22markerColor%22%3A%20%22pink%22%2C%20%22prefix%22%3A%20%22fa%22%7D%0A%20%20%20%20%20%20%20%20%20%20%20%20%29%3B%0A%20%20%20%20%20%20%20%20%20%20%20%20marker_3effd13b1bcd4329a6d5b9227c2bebfe.setIcon%28icon_e45b7e7417784d53b9f921290356bcb6%29%3B%0A%20%20%20%20%20%20%20%20%0A%20%20%20%20%0A%20%20%20%20%20%20%20%20%20%20%20%20marker_3effd13b1bcd4329a6d5b9227c2bebfe.bindTooltip%28%0A%20%20%20%20%20%20%20%20%20%20%20%20%20%20%20%20%60%3Cdiv%3E%0A%20%20%20%20%20%20%20%20%20%20%20%20%20%20%20%20%20%20%20%20%20Dicoteca%0A%20%20%20%20%20%20%20%20%20%20%20%20%20%20%20%20%20%3C/div%3E%60%2C%0A%20%20%20%20%20%20%20%20%20%20%20%20%20%20%20%20%7B%22sticky%22%3A%20true%7D%0A%20%20%20%20%20%20%20%20%20%20%20%20%29%3B%0A%20%20%20%20%20%20%20%20%0A%20%20%20%20%0A%20%20%20%20%20%20%20%20%20%20%20%20var%20marker_c59e566187d445c59fd0e219f8f290a3%20%3D%20L.marker%28%0A%20%20%20%20%20%20%20%20%20%20%20%20%20%20%20%20%5B40.714855%2C%20-74.005936%5D%2C%0A%20%20%20%20%20%20%20%20%20%20%20%20%20%20%20%20%7B%7D%0A%20%20%20%20%20%20%20%20%20%20%20%20%29.addTo%28map_f9e98a125f584584b44fe61a5905aae7%29%3B%0A%20%20%20%20%20%20%20%20%0A%20%20%20%20%0A%20%20%20%20%20%20%20%20%20%20%20%20var%20icon_7189a62321bb48bfa1d1195cc701ee0c%20%3D%20L.AwesomeMarkers.icon%28%0A%20%20%20%20%20%20%20%20%20%20%20%20%20%20%20%20%7B%22extraClasses%22%3A%20%22fa-rotate-0%22%2C%20%22icon%22%3A%20%22coffee%22%2C%20%22iconColor%22%3A%20%22white%22%2C%20%22markerColor%22%3A%20%22darkgreen%22%2C%20%22prefix%22%3A%20%22fa%22%7D%0A%20%20%20%20%20%20%20%20%20%20%20%20%29%3B%0A%20%20%20%20%20%20%20%20%20%20%20%20marker_c59e566187d445c59fd0e219f8f290a3.setIcon%28icon_7189a62321bb48bfa1d1195cc701ee0c%29%3B%0A%20%20%20%20%20%20%20%20%0A%20%20%20%20%0A%20%20%20%20%20%20%20%20%20%20%20%20marker_c59e566187d445c59fd0e219f8f290a3.bindTooltip%28%0A%20%20%20%20%20%20%20%20%20%20%20%20%20%20%20%20%60%3Cdiv%3E%0A%20%20%20%20%20%20%20%20%20%20%20%20%20%20%20%20%20%20%20%20%20Starbucks%0A%20%20%20%20%20%20%20%20%20%20%20%20%20%20%20%20%20%3C/div%3E%60%2C%0A%20%20%20%20%20%20%20%20%20%20%20%20%20%20%20%20%7B%22sticky%22%3A%20true%7D%0A%20%20%20%20%20%20%20%20%20%20%20%20%29%3B%0A%20%20%20%20%20%20%20%20%0A%20%20%20%20%0A%20%20%20%20%20%20%20%20%20%20%20%20var%20marker_435ed05607954d9f8a5f72a1a9895df5%20%3D%20L.marker%28%0A%20%20%20%20%20%20%20%20%20%20%20%20%20%20%20%20%5B40.71489232862965%2C%20-73.99832147855244%5D%2C%0A%20%20%20%20%20%20%20%20%20%20%20%20%20%20%20%20%7B%7D%0A%20%20%20%20%20%20%20%20%20%20%20%20%29.addTo%28map_f9e98a125f584584b44fe61a5905aae7%29%3B%0A%20%20%20%20%20%20%20%20%0A%20%20%20%20%0A%20%20%20%20%20%20%20%20%20%20%20%20var%20icon_7b5575e889c44c71b14314119d0ecc5f%20%3D%20L.AwesomeMarkers.icon%28%0A%20%20%20%20%20%20%20%20%20%20%20%20%20%20%20%20%7B%22extraClasses%22%3A%20%22fa-rotate-0%22%2C%20%22icon%22%3A%20%22apple%22%2C%20%22iconColor%22%3A%20%22white%22%2C%20%22markerColor%22%3A%20%22green%22%2C%20%22prefix%22%3A%20%22fa%22%7D%0A%20%20%20%20%20%20%20%20%20%20%20%20%29%3B%0A%20%20%20%20%20%20%20%20%20%20%20%20marker_435ed05607954d9f8a5f72a1a9895df5.setIcon%28icon_7b5575e889c44c71b14314119d0ecc5f%29%3B%0A%20%20%20%20%20%20%20%20%0A%20%20%20%20%0A%20%20%20%20%20%20%20%20%20%20%20%20marker_435ed05607954d9f8a5f72a1a9895df5.bindTooltip%28%0A%20%20%20%20%20%20%20%20%20%20%20%20%20%20%20%20%60%3Cdiv%3E%0A%20%20%20%20%20%20%20%20%20%20%20%20%20%20%20%20%20%20%20%20%20Restaurante%20Vegano%0A%20%20%20%20%20%20%20%20%20%20%20%20%20%20%20%20%20%3C/div%3E%60%2C%0A%20%20%20%20%20%20%20%20%20%20%20%20%20%20%20%20%7B%22sticky%22%3A%20true%7D%0A%20%20%20%20%20%20%20%20%20%20%20%20%29%3B%0A%20%20%20%20%20%20%20%20%0A%20%20%20%20%0A%20%20%20%20%20%20%20%20%20%20%20%20var%20marker_5399b84f42d745fd9a3b8f7b705f9e2d%20%3D%20L.marker%28%0A%20%20%20%20%20%20%20%20%20%20%20%20%20%20%20%20%5B40.713896000000005%2C%20-73.999188%5D%2C%0A%20%20%20%20%20%20%20%20%20%20%20%20%20%20%20%20%7B%7D%0A%20%20%20%20%20%20%20%20%20%20%20%20%29.addTo%28map_f9e98a125f584584b44fe61a5905aae7%29%3B%0A%20%20%20%20%20%20%20%20%0A%20%20%20%20%0A%20%20%20%20%20%20%20%20%20%20%20%20var%20icon_9d3db1ea73a34c2b80680531cb8b4d7f%20%3D%20L.AwesomeMarkers.icon%28%0A%20%20%20%20%20%20%20%20%20%20%20%20%20%20%20%20%7B%22extraClasses%22%3A%20%22fa-rotate-0%22%2C%20%22icon%22%3A%20%22bus%22%2C%20%22iconColor%22%3A%20%22white%22%2C%20%22markerColor%22%3A%20%22purple%22%2C%20%22prefix%22%3A%20%22fa%22%7D%0A%20%20%20%20%20%20%20%20%20%20%20%20%29%3B%0A%20%20%20%20%20%20%20%20%20%20%20%20marker_5399b84f42d745fd9a3b8f7b705f9e2d.setIcon%28icon_9d3db1ea73a34c2b80680531cb8b4d7f%29%3B%0A%20%20%20%20%20%20%20%20%0A%20%20%20%20%0A%20%20%20%20%20%20%20%20%20%20%20%20marker_5399b84f42d745fd9a3b8f7b705f9e2d.bindTooltip%28%0A%20%20%20%20%20%20%20%20%20%20%20%20%20%20%20%20%60%3Cdiv%3E%0A%20%20%20%20%20%20%20%20%20%20%20%20%20%20%20%20%20%20%20%20%20Estaci%C3%B3n%20de%20autobuses%0A%20%20%20%20%20%20%20%20%20%20%20%20%20%20%20%20%20%3C/div%3E%60%2C%0A%20%20%20%20%20%20%20%20%20%20%20%20%20%20%20%20%7B%22sticky%22%3A%20true%7D%0A%20%20%20%20%20%20%20%20%20%20%20%20%29%3B%0A%20%20%20%20%20%20%20%20%0A%20%20%20%20%0A%20%20%20%20%20%20%20%20%20%20%20%20var%20marker_05cad95969934906a17e9dd1375972ec%20%3D%20L.marker%28%0A%20%20%20%20%20%20%20%20%20%20%20%20%20%20%20%20%5B40.714463390466406%2C%20-73.99934666405763%5D%2C%0A%20%20%20%20%20%20%20%20%20%20%20%20%20%20%20%20%7B%7D%0A%20%20%20%20%20%20%20%20%20%20%20%20%29.addTo%28map_f9e98a125f584584b44fe61a5905aae7%29%3B%0A%20%20%20%20%20%20%20%20%0A%20%20%20%20%0A%20%20%20%20%20%20%20%20%20%20%20%20var%20icon_52b9ac0c0cc44efb88c683250d91c81e%20%3D%20L.AwesomeMarkers.icon%28%0A%20%20%20%20%20%20%20%20%20%20%20%20%20%20%20%20%7B%22extraClasses%22%3A%20%22fa-rotate-0%22%2C%20%22icon%22%3A%20%22graduation-cap%22%2C%20%22iconColor%22%3A%20%22white%22%2C%20%22markerColor%22%3A%20%22orange%22%2C%20%22prefix%22%3A%20%22fa%22%7D%0A%20%20%20%20%20%20%20%20%20%20%20%20%29%3B%0A%20%20%20%20%20%20%20%20%20%20%20%20marker_05cad95969934906a17e9dd1375972ec.setIcon%28icon_52b9ac0c0cc44efb88c683250d91c81e%29%3B%0A%20%20%20%20%20%20%20%20%0A%20%20%20%20%0A%20%20%20%20%20%20%20%20%20%20%20%20marker_05cad95969934906a17e9dd1375972ec.bindTooltip%28%0A%20%20%20%20%20%20%20%20%20%20%20%20%20%20%20%20%60%3Cdiv%3E%0A%20%20%20%20%20%20%20%20%20%20%20%20%20%20%20%20%20%20%20%20%20Colegios%0A%20%20%20%20%20%20%20%20%20%20%20%20%20%20%20%20%20%3C/div%3E%60%2C%0A%20%20%20%20%20%20%20%20%20%20%20%20%20%20%20%20%7B%22sticky%22%3A%20true%7D%0A%20%20%20%20%20%20%20%20%20%20%20%20%29%3B%0A%20%20%20%20%20%20%20%20%0A%20%20%20%20%0A%20%20%20%20%20%20%20%20%20%20%20%20var%20marker_fcee214b5afc4763a2f8ebe54fe1c87f%20%3D%20L.marker%28%0A%20%20%20%20%20%20%20%20%20%20%20%20%20%20%20%20%5B40.71675266718981%2C%20-74.0056727692407%5D%2C%0A%20%20%20%20%20%20%20%20%20%20%20%20%20%20%20%20%7B%7D%0A%20%20%20%20%20%20%20%20%20%20%20%20%29.addTo%28map_f9e98a125f584584b44fe61a5905aae7%29%3B%0A%20%20%20%20%20%20%20%20%0A%20%20%20%20%0A%20%20%20%20%20%20%20%20%20%20%20%20var%20icon_30720c09d80c446a8e884b417a2a0c2e%20%3D%20L.AwesomeMarkers.icon%28%0A%20%20%20%20%20%20%20%20%20%20%20%20%20%20%20%20%7B%22extraClasses%22%3A%20%22fa-rotate-0%22%2C%20%22icon%22%3A%20%22paw%22%2C%20%22iconColor%22%3A%20%22white%22%2C%20%22markerColor%22%3A%20%22black%22%2C%20%22prefix%22%3A%20%22fa%22%7D%0A%20%20%20%20%20%20%20%20%20%20%20%20%29%3B%0A%20%20%20%20%20%20%20%20%20%20%20%20marker_fcee214b5afc4763a2f8ebe54fe1c87f.setIcon%28icon_30720c09d80c446a8e884b417a2a0c2e%29%3B%0A%20%20%20%20%20%20%20%20%0A%20%20%20%20%0A%20%20%20%20%20%20%20%20%20%20%20%20marker_fcee214b5afc4763a2f8ebe54fe1c87f.bindTooltip%28%0A%20%20%20%20%20%20%20%20%20%20%20%20%20%20%20%20%60%3Cdiv%3E%0A%20%20%20%20%20%20%20%20%20%20%20%20%20%20%20%20%20%20%20%20%20Veterinario%0A%20%20%20%20%20%20%20%20%20%20%20%20%20%20%20%20%20%3C/div%3E%60%2C%0A%20%20%20%20%20%20%20%20%20%20%20%20%20%20%20%20%7B%22sticky%22%3A%20true%7D%0A%20%20%20%20%20%20%20%20%20%20%20%20%29%3B%0A%20%20%20%20%20%20%20%20%0A%3C/script%3E onload=\"this.contentDocument.open();this.contentDocument.write(    decodeURIComponent(this.getAttribute('data-html')));this.contentDocument.close();\" allowfullscreen webkitallowfullscreen mozallowfullscreen></iframe></div></div>"
      ],
      "text/plain": [
       "<folium.folium.Map at 0x7fc49085ad60>"
      ]
     },
     "execution_count": 15,
     "metadata": {},
     "output_type": "execute_result"
    }
   ],
   "source": [
    "mapa2"
   ]
  }
 ],
 "metadata": {
  "kernelspec": {
   "display_name": "OLAYA1",
   "language": "python",
   "name": "olaya1"
  },
  "language_info": {
   "codemirror_mode": {
    "name": "ipython",
    "version": 3
   },
   "file_extension": ".py",
   "mimetype": "text/x-python",
   "name": "python",
   "nbconvert_exporter": "python",
   "pygments_lexer": "ipython3",
   "version": "3.8.5"
  }
 },
 "nbformat": 4,
 "nbformat_minor": 5
}
